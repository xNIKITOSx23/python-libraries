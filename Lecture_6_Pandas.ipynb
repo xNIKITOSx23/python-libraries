{
  "nbformat": 4,
  "nbformat_minor": 0,
  "metadata": {
    "colab": {
      "provenance": [],
      "include_colab_link": true
    },
    "kernelspec": {
      "name": "python3",
      "display_name": "Python 3"
    },
    "language_info": {
      "name": "python"
    }
  },
  "cells": [
    {
      "cell_type": "markdown",
      "metadata": {
        "id": "view-in-github",
        "colab_type": "text"
      },
      "source": [
        "<a href=\"https://colab.research.google.com/github/xNIKITOSx23/python-libraries/blob/main/Lecture_6_Pandas.ipynb\" target=\"_parent\"><img src=\"https://colab.research.google.com/assets/colab-badge.svg\" alt=\"Open In Colab\"/></a>"
      ]
    },
    {
      "cell_type": "code",
      "execution_count": null,
      "metadata": {
        "id": "VHrdD_sqmB5q"
      },
      "outputs": [],
      "source": [
        "import numpy as np\n",
        "import pandas as pd\n",
        "import scipy.stats as sps"
      ]
    },
    {
      "cell_type": "markdown",
      "source": [
        "**1. Простые операции**\n",
        "\n",
        "\n",
        "\n",
        "---\n",
        "\n",
        "Сгенерируем случайные числа и представим их в виде DataFrame."
      ],
      "metadata": {
        "id": "kCeBOjS-mHgf"
      }
    },
    {
      "cell_type": "code",
      "source": [
        "df = pd.DataFrame(sps.norm.rvs(size=(10,\n",
        "4)), columns=['A', 'B', 'C', 'D'])\n",
        "print(df)"
      ],
      "metadata": {
        "colab": {
          "base_uri": "https://localhost:8080/"
        },
        "id": "gcFxV6xrmLAY",
        "outputId": "7252ae88-e10c-4b8d-f02b-2a2988e0b7ad"
      },
      "execution_count": null,
      "outputs": [
        {
          "output_type": "stream",
          "name": "stdout",
          "text": [
            "          A         B         C         D\n",
            "0 -1.198263  0.273314  1.446013  0.582618\n",
            "1  1.177065 -0.211667 -0.171466 -0.202259\n",
            "2 -0.272020  0.584192 -1.077280 -0.779673\n",
            "3  0.749696 -0.760872  0.510665  0.277346\n",
            "4 -0.824442 -0.419446  1.858877 -0.758381\n",
            "5  1.198828 -0.635847  0.227931  0.298764\n",
            "6  0.911322 -1.506407  0.516726  1.773032\n",
            "7  2.343944 -0.007905  0.048027 -1.178589\n",
            "8 -0.439632  0.150406 -0.756592  0.744921\n",
            "9  1.163196  1.322936 -0.761002  1.691283\n"
          ]
        }
      ]
    },
    {
      "cell_type": "markdown",
      "source": [
        "Выведем описательные статистики по столбцам — количество\n",
        "значений, среднее, стандартное отклонение (корень из дисперсии), минимум,\n",
        "квантили, максимум."
      ],
      "metadata": {
        "id": "nHXBaFmTmXJR"
      }
    },
    {
      "cell_type": "code",
      "source": [
        "df = pd.DataFrame(sps.norm.rvs(size=(10,\n",
        "4)), columns=['A', 'B', 'C', 'D'])\n",
        "print(df.describe())"
      ],
      "metadata": {
        "colab": {
          "base_uri": "https://localhost:8080/"
        },
        "id": "5a7p8BYnmYXy",
        "outputId": "d5a134cc-192b-4f89-b963-10fef46f933c"
      },
      "execution_count": null,
      "outputs": [
        {
          "output_type": "stream",
          "name": "stdout",
          "text": [
            "               A          B          C          D\n",
            "count  10.000000  10.000000  10.000000  10.000000\n",
            "mean   -0.086289  -0.038511   0.057679   0.140942\n",
            "std     1.056483   1.156703   0.844679   1.095715\n",
            "min    -2.097057  -1.374386  -1.144332  -2.147658\n",
            "25%    -0.451511  -1.017775  -0.475384  -0.231275\n",
            "50%     0.146404  -0.021481   0.070795   0.302663\n",
            "75%     0.414934   0.472572   0.548694   0.798794\n",
            "max     1.236406   2.121572   1.480648   1.662919\n"
          ]
        }
      ]
    },
    {
      "cell_type": "markdown",
      "source": [
        "Среднее по столбцам"
      ],
      "metadata": {
        "id": "wYpHSgY3mctu"
      }
    },
    {
      "cell_type": "code",
      "source": [
        "df = pd.DataFrame(sps.norm.rvs(size=(10,\n",
        "4)),columns=['A', 'B', 'C', 'D'])\n",
        "print(df.mean())"
      ],
      "metadata": {
        "colab": {
          "base_uri": "https://localhost:8080/"
        },
        "id": "M9f1-kBomdsu",
        "outputId": "1334b944-7435-44bb-f922-7658eabc3cb8"
      },
      "execution_count": null,
      "outputs": [
        {
          "output_type": "stream",
          "name": "stdout",
          "text": [
            "A   -0.287779\n",
            "B   -0.080947\n",
            "C    0.628972\n",
            "D    0.507389\n",
            "dtype: float64\n"
          ]
        }
      ]
    },
    {
      "cell_type": "markdown",
      "source": [
        "Оценка матрицы корреляций значений в столбцах"
      ],
      "metadata": {
        "id": "D7VQKV2tmhRx"
      }
    },
    {
      "cell_type": "code",
      "source": [
        "df = pd.DataFrame(sps.norm.rvs(size=(10,\n",
        "4)),columns=['A', 'B', 'C', 'D'])\n",
        "print(df.corr())"
      ],
      "metadata": {
        "colab": {
          "base_uri": "https://localhost:8080/"
        },
        "id": "XhyXdTmymhvY",
        "outputId": "71c51d93-fd3a-4f81-f91d-4b8b9e43dc18"
      },
      "execution_count": null,
      "outputs": [
        {
          "output_type": "stream",
          "name": "stdout",
          "text": [
            "          A         B         C         D\n",
            "A  1.000000  0.364502  0.388695 -0.409203\n",
            "B  0.364502  1.000000  0.182860 -0.419246\n",
            "C  0.388695  0.182860  1.000000  0.084452\n",
            "D -0.409203 -0.419246  0.084452  1.000000\n"
          ]
        }
      ]
    },
    {
      "cell_type": "markdown",
      "source": [
        "Применение функции к данным. Для примера посчитаем разброс\n",
        "значений — разница максимума и минимума."
      ],
      "metadata": {
        "id": "QvCGmFtQmkpN"
      }
    },
    {
      "cell_type": "code",
      "source": [
        "df = pd.DataFrame(sps.norm.rvs(size=(10,\n",
        "4)),columns=['A', 'B', 'C', 'D'])\n",
        "print(df.apply(lambda x: x.max() - x.min()))"
      ],
      "metadata": {
        "colab": {
          "base_uri": "https://localhost:8080/"
        },
        "id": "w1vjAzxQmlQC",
        "outputId": "277e47cb-bdc7-4005-9b84-a4bb13eee9ad"
      },
      "execution_count": null,
      "outputs": [
        {
          "output_type": "stream",
          "name": "stdout",
          "text": [
            "A    4.559431\n",
            "B    2.867611\n",
            "C    3.233859\n",
            "D    3.053018\n",
            "dtype: float64\n"
          ]
        }
      ]
    },
    {
      "cell_type": "markdown",
      "source": [
        "**2. Объединение таблиц**\n",
        "\n",
        "---\n",
        "\n",
        "***2.1 Функция df.append***\n",
        "\n",
        "Добавление строк в виде таблицы other в таблицу df. При наличии у\n",
        "новых строк колонок, которых нет в таблице, они добавляются в таблицу.\n",
        "\n",
        "df.append(other, ignore_index=False, verify_integrity=False, sort=None)\n",
        "\n",
        " df — таблица;\n",
        "\n",
        " other — добавляемые строки в виде таблицы;\n",
        "\n",
        " ignore_index — сохранить индексы или определить и\n",
        "как 0,...,n−10,...,n−1;\n",
        "\n",
        " verify_integrity — если True, то создает исключение в случае\n",
        "повторения индексов;\n",
        "\n",
        " sort — сортировать ли колонки, если они (или их порядок)\n",
        "различаются.\n",
        "\n",
        "\n",
        "Создадим новую таблицу из первых четырех строк таблицы df. В новую\n",
        "таблицу добавим колонку flag, в которую запишем условие, что число в\n",
        "столбце D положительно. Затем добавим строки из новой таблицы к старой.\n",
        "Полученная таблица содержит пропуски, которые отмечены как NaN."
      ],
      "metadata": {
        "id": "SO5pIjwTmoYP"
      }
    },
    {
      "cell_type": "code",
      "source": [
        "df = pd.DataFrame(sps.norm.rvs(size=(10, 4)),\n",
        "                  columns=['A', 'B', 'C', 'D'])\n",
        "other = df[:4].copy() # Полное копирование\n",
        "other['flag'] = other['D'] > 0\n",
        "other['D'] = other['D'] ** 2\n",
        "df.append(other, ignore_index=True,\n",
        "sort=False)\n",
        "print(df)"
      ],
      "metadata": {
        "colab": {
          "base_uri": "https://localhost:8080/"
        },
        "id": "3yQmkqatm2yd",
        "outputId": "fe920875-ec74-4a5f-b7ee-0353c018ffd4"
      },
      "execution_count": null,
      "outputs": [
        {
          "output_type": "stream",
          "name": "stdout",
          "text": [
            "          A         B         C         D\n",
            "0  0.319950 -0.760281 -0.129213 -0.749678\n",
            "1 -1.511580  0.660802 -0.062269 -2.521789\n",
            "2  1.390540  0.225189 -1.431553 -0.163212\n",
            "3  0.081744  0.255807  0.128472 -1.283812\n",
            "4 -0.570170  0.467612  0.410646 -0.509597\n",
            "5 -0.486506 -1.220052 -0.267636 -0.921766\n",
            "6  0.592956  0.383825 -1.422710  0.232769\n",
            "7 -2.422394 -0.083906  0.334678 -1.143415\n",
            "8 -0.859249  0.369715 -0.904054 -1.728761\n",
            "9 -0.219395  0.165234  1.310579  0.545180\n"
          ]
        }
      ]
    },
    {
      "cell_type": "markdown",
      "source": [
        "***2.2 Функция pd.concat***\n",
        "\n",
        "\n",
        "---\n",
        "\n",
        "Соединение таблиц вдоль выбранной оси\n",
        "\n",
        " pd.concat(objs, axis=0, join='outer', ignore_index=False, copy=True, ...)\n",
        "\n",
        " objs — объединяемые таблицы;\n",
        "\n",
        " axis : {0 или 'index', 1 или 'columns'} — ось индексов или ось колонок,\n",
        "иными словами соединение по вертикали или по горизонтали;\n",
        "\n",
        " join : {'inner', 'outer'} — тип объединения — пересечение или\n",
        "объединение индексов/колонок;\n",
        "\n",
        " ignore_index — сохранить индексы или определить и\n",
        "как 0,...,n−10,...,n−1;\n",
        "\n",
        " copy — копировать данные или нет."
      ],
      "metadata": {
        "id": "JOjCriF8m88v"
      }
    },
    {
      "cell_type": "code",
      "source": [
        "df = pd.DataFrame(sps.norm.rvs(size=(10,\n",
        "4)),columns=['A', 'B', 'C', 'D'])\n",
        "print(pd.concat([df[:5], df[5:]]))"
      ],
      "metadata": {
        "colab": {
          "base_uri": "https://localhost:8080/"
        },
        "id": "1ztZw86Bm-vt",
        "outputId": "b631b856-044f-4ca5-b48c-65c337dda341"
      },
      "execution_count": null,
      "outputs": [
        {
          "output_type": "stream",
          "name": "stdout",
          "text": [
            "          A         B         C         D\n",
            "0  1.170423  0.489750  1.260380  0.103793\n",
            "1  0.642029 -0.303501  2.447516 -1.516451\n",
            "2  1.444673 -1.259067 -0.348404 -1.102810\n",
            "3  1.217049  1.004114  2.081510 -1.089654\n",
            "4 -1.506307  0.770592  0.840365  0.701035\n",
            "5  0.657917  0.257719 -0.286341  0.167577\n",
            "6  0.698301  0.318435 -0.197938  0.215065\n",
            "7 -0.264773  1.052031  0.889649  1.117041\n",
            "8  0.675971 -1.454346  1.400327  0.035049\n",
            "9  0.093168 -0.129641 -1.757828  0.545829\n"
          ]
        }
      ]
    },
    {
      "cell_type": "markdown",
      "source": [
        "***2.3 Функции pd.merge и df.join***\n",
        "\n",
        "\n",
        "---\n",
        "\n",
        "Слияние таблиц по вертикали путем выполнения операций слияния баз\n",
        "данных в стиле SQL.\n",
        "\n",
        "pd.merge(left, right, how='inner', on=None, left_on=None, right_on=None,\n",
        "left_index=False, right_index=False, suffixes=('_x', '_y'), ...)\n",
        "\n",
        " left и right — объединяемые таблицы.\n",
        "\n",
        " how — тип объединения:\n",
        "\n",
        " left — только по ключам из левой таблицы == SQL left outer join;\n",
        "\n",
        " right — только по ключам из правой таблицы == SQL right outer join;\n",
        "\n",
        " outer — по объединению ключей == SQL full outer join;\n",
        "\n",
        " inner — по пересечению ключей == SQL inner join.\n",
        "\n",
        " on — имя (или имена) колонок, по которым будет производиться\n",
        "объединение (т.е. ключи). Если их несколько, то нужно передать\n",
        "список имен. Имена колонок в таблице должны совпадать.\n",
        "\n",
        " left_on и right_on — аналогично on для случая, когда в таблицах\n",
        "различаются имена колонок, соответствующие ключам.\n",
        "\n",
        " left_index и right_index — использовать ли индексы в качестве ключей.\n",
        "\n",
        " suffixes — суффиксы, которые будут добавлены к тем колонкам, имена\n",
        "которых повторяются.\n",
        "\n",
        "Пример. Опция how=left, left_on='A', right_on='B' соответствует взятию\n",
        "всех строк из таблицы left, а из таблицы right берутся те строки, в которых\n",
        "значения в колонке A таблицы left совпадает со значением\n",
        "колонки B таблицы right. Если в одной из таблиц таких значений несколько,\n",
        "то строки другой таблицы дублируются. \n",
        "\n",
        "Если в таблице right каких-то\n",
        "значений нет, то в результирующей таблице будут пропуски.\n",
        "\n",
        "df.join(other, on=None, how='left', lsuffix='', rsuffix='', sort=False)\n",
        "\n",
        " df — основная таблица. В качестве ключей используется индекс.\n",
        "\n",
        " other — другая таблица.\n",
        "\n",
        " on — колонка(-и) в other, соответствующая ключам, по ним происходит\n",
        "объедиенение. Если None, то используется индекс.\n",
        "\n",
        " how — тип объединения (см. pd.merge).\n",
        "\n",
        " lsuffix и rsuffix — суффиксы, которые будут добавлены к тем\n",
        "колонкам, имена которых повторяются."
      ],
      "metadata": {
        "id": "I_MwfeyRnKxD"
      }
    },
    {
      "cell_type": "code",
      "source": [
        "left = pd.DataFrame({'key': ['A', 'A'],\n",
        "                     'lval': [1, 2]})\n",
        "right = pd.DataFrame({'key': ['A',\n",
        "'A'], 'rval': [4, 5]})\n",
        "print(left)"
      ],
      "metadata": {
        "colab": {
          "base_uri": "https://localhost:8080/"
        },
        "id": "x9PtUPkaoPuG",
        "outputId": "398a6d44-2373-4d73-92e2-f863411eb037"
      },
      "execution_count": null,
      "outputs": [
        {
          "output_type": "stream",
          "name": "stdout",
          "text": [
            "  key  lval\n",
            "0   A     1\n",
            "1   A     2\n"
          ]
        }
      ]
    },
    {
      "cell_type": "code",
      "source": [
        "left = pd.DataFrame({'key': ['A', 'A'],'lval': [1, 2]})\n",
        "right = pd.DataFrame({'key': ['A',\n",
        "'A'],'rval': [4, 5]})\n",
        "print(right)"
      ],
      "metadata": {
        "colab": {
          "base_uri": "https://localhost:8080/"
        },
        "id": "QB7WTQbaovy2",
        "outputId": "ad138d3e-ec1d-4d56-c9ad-6d30843320fd"
      },
      "execution_count": null,
      "outputs": [
        {
          "output_type": "stream",
          "name": "stdout",
          "text": [
            "  key  rval\n",
            "0   A     4\n",
            "1   A     5\n"
          ]
        }
      ]
    },
    {
      "cell_type": "markdown",
      "source": [
        "В результате объединения получаем 4 строки — для каждой строки из\n",
        "левой таблице есть две строки из правой таблицы с таким же ключом."
      ],
      "metadata": {
        "id": "eDmn07IFo0bK"
      }
    },
    {
      "cell_type": "code",
      "source": [
        "left = pd.DataFrame({'key': ['A', 'A'],'lval': [1, 2]})\n",
        "right = pd.DataFrame({'key': ['A',\n",
        "'A'],'rval': [4, 5]})\n",
        "df=pd.merge(left, right, on='key')\n",
        "print(df)"
      ],
      "metadata": {
        "colab": {
          "base_uri": "https://localhost:8080/"
        },
        "id": "FaSdeSbFo22O",
        "outputId": "c1c9be28-6e5d-4f6a-beff-1a71f50ed1a2"
      },
      "execution_count": null,
      "outputs": [
        {
          "output_type": "stream",
          "name": "stdout",
          "text": [
            "  key  lval  rval\n",
            "0   A     1     4\n",
            "1   A     1     5\n",
            "2   A     2     4\n",
            "3   A     2     5\n"
          ]
        }
      ]
    },
    {
      "cell_type": "markdown",
      "source": [
        "*Пример 2.* В таблицах ключи не повторяются"
      ],
      "metadata": {
        "id": "-ay7OkMjo7lG"
      }
    },
    {
      "cell_type": "code",
      "source": [
        "left = pd.DataFrame({'key': ['A', 'B'],'lval': [1, 2]})\n",
        "right = pd.DataFrame({'key': ['A',\n",
        "'B'],'rval': [4, 5]})\n",
        "print('Left')\n",
        "print(left)\n",
        "print('Right')\n",
        "print(right)"
      ],
      "metadata": {
        "colab": {
          "base_uri": "https://localhost:8080/"
        },
        "id": "E_SEw-yvo8nK",
        "outputId": "d8fa6b8e-0c61-4406-c853-f873340999f0"
      },
      "execution_count": null,
      "outputs": [
        {
          "output_type": "stream",
          "name": "stdout",
          "text": [
            "Left\n",
            "  key  lval\n",
            "0   A     1\n",
            "1   B     2\n",
            "Right\n",
            "  key  rval\n",
            "0   A     4\n",
            "1   B     5\n"
          ]
        }
      ]
    },
    {
      "cell_type": "markdown",
      "source": [
        "В результате объединения получаем 2 строки — для каждой строки из\n",
        "левой таблице есть только одна строка из правой таблицы с таким же\n",
        "ключом."
      ],
      "metadata": {
        "id": "ioZtIqaqpIyV"
      }
    },
    {
      "cell_type": "code",
      "source": [
        "left = pd.DataFrame({'key': ['A', 'B'],'lval': [1, 2]})\n",
        "right = pd.DataFrame({'key': ['A','B'],'rval': [4, 5]})\n",
        "print('Left:')\n",
        "print(left)\n",
        "print('\\nRight:')\n",
        "print(right)\n",
        "df=pd.merge(left, right, on='key')\n",
        "print('\\nMerge:')\n",
        "print(df)"
      ],
      "metadata": {
        "colab": {
          "base_uri": "https://localhost:8080/"
        },
        "id": "2_aYwiu3pJTY",
        "outputId": "dc6e4e3a-e50d-4bb7-b9a2-f5cc39c59db4"
      },
      "execution_count": null,
      "outputs": [
        {
          "output_type": "stream",
          "name": "stdout",
          "text": [
            "Left:\n",
            "  key  lval\n",
            "0   A     1\n",
            "1   B     2\n",
            "\n",
            "Right:\n",
            "  key  rval\n",
            "0   A     4\n",
            "1   B     5\n",
            "\n",
            "Merge:\n",
            "  key  lval  rval\n",
            "0   A     1     4\n",
            "1   B     2     5\n"
          ]
        }
      ]
    },
    {
      "cell_type": "markdown",
      "source": [
        "*Пример 3. *Посмотрим на различные типы объединения. Сооздадим и\n",
        "напечатаем две таблицы."
      ],
      "metadata": {
        "id": "4VcfGMwfpRGV"
      }
    },
    {
      "cell_type": "code",
      "source": [
        "left = pd.DataFrame({'lkey': ['A', 'B', 'C', 'A'],'value': range(4)})\n",
        "right = pd.DataFrame({'rkey': ['A', 'B', 'D','B'],'value': range(4, 8)})\n",
        "print('Left:')\n",
        "print(left)\n",
        "print('\\nRight:')\n",
        "print(right)"
      ],
      "metadata": {
        "colab": {
          "base_uri": "https://localhost:8080/"
        },
        "id": "VKinFMd-pSk9",
        "outputId": "7f51715f-4203-424f-ca34-d62f904b59da"
      },
      "execution_count": null,
      "outputs": [
        {
          "output_type": "stream",
          "name": "stdout",
          "text": [
            "Left:\n",
            "  lkey  value\n",
            "0    A      0\n",
            "1    B      1\n",
            "2    C      2\n",
            "3    A      3\n",
            "\n",
            "Right:\n",
            "  rkey  value\n",
            "0    A      4\n",
            "1    B      5\n",
            "2    D      6\n",
            "3    B      7\n"
          ]
        }
      ]
    },
    {
      "cell_type": "markdown",
      "source": [
        "**Внешнее слияние** — используются ключи из объединения списков\n",
        "ключей. Иначе говоря, используются ключи, которые есть хотя бы в одной из\n",
        "таблиц. Если в другой таблице таких ключей нет, то ставятся пропуски."
      ],
      "metadata": {
        "id": "KhZ7ju-1pZXm"
      }
    },
    {
      "cell_type": "code",
      "source": [
        "left = pd.DataFrame({'lkey': ['A', 'B', 'C', 'A'],'value': range(4)})\n",
        "right = pd.DataFrame({'rkey': ['A', 'B', 'D', 'B'],'value': range(4, 8)})\n",
        "print('Left:')\n",
        "print(left)\n",
        "print('\\nRight:')\n",
        "print(right)\n",
        "df=pd.merge(left, right, left_on='lkey', right_on='rkey',how='outer')\n",
        "print('Merge:')\n",
        "print(df)"
      ],
      "metadata": {
        "colab": {
          "base_uri": "https://localhost:8080/"
        },
        "id": "SdTz7Wtbpao-",
        "outputId": "a02ad9ec-33c4-4efa-a0da-8a617972b29b"
      },
      "execution_count": null,
      "outputs": [
        {
          "output_type": "stream",
          "name": "stdout",
          "text": [
            "Left:\n",
            "  lkey  value\n",
            "0    A      0\n",
            "1    B      1\n",
            "2    C      2\n",
            "3    A      3\n",
            "\n",
            "Right:\n",
            "  rkey  value\n",
            "0    A      4\n",
            "1    B      5\n",
            "2    D      6\n",
            "3    B      7\n",
            "Merge:\n",
            "  lkey  value_x rkey  value_y\n",
            "0    A      0.0    A      4.0\n",
            "1    A      3.0    A      4.0\n",
            "2    B      1.0    B      5.0\n",
            "3    B      1.0    B      7.0\n",
            "4    C      2.0  NaN      NaN\n",
            "5  NaN      NaN    D      6.0\n"
          ]
        }
      ]
    },
    {
      "cell_type": "markdown",
      "source": [
        "**Внутреннее слияние** — используются ключи из пересечения списков\n",
        "ключей. Иначе говоря, используются ключи, которые присутствуют в обеих\n",
        "таблицах."
      ],
      "metadata": {
        "id": "yh8nshMBpiIY"
      }
    },
    {
      "cell_type": "code",
      "source": [
        "left = pd.DataFrame({'lkey': ['A', 'B', 'C', 'A'],'value': range(4)})\n",
        "right = pd.DataFrame({'rkey': ['A', 'B', 'D', 'B'],'value': range(4, 8)})\n",
        "print('Left:')\n",
        "print(left)\n",
        "print('\\nRight:')\n",
        "print(right)\n",
        "df=pd.merge(left, right,left_on='lkey', right_on='rkey',how='inner')\n",
        "print('\\nMerge:')\n",
        "print(df)"
      ],
      "metadata": {
        "colab": {
          "base_uri": "https://localhost:8080/"
        },
        "id": "Go6d6pDApjTo",
        "outputId": "4385677b-373a-443e-add0-2d35ca41428f"
      },
      "execution_count": null,
      "outputs": [
        {
          "output_type": "stream",
          "name": "stdout",
          "text": [
            "Left:\n",
            "  lkey  value\n",
            "0    A      0\n",
            "1    B      1\n",
            "2    C      2\n",
            "3    A      3\n",
            "\n",
            "Right:\n",
            "  rkey  value\n",
            "0    A      4\n",
            "1    B      5\n",
            "2    D      6\n",
            "3    B      7\n",
            "\n",
            "Merge:\n",
            "  lkey  value_x rkey  value_y\n",
            "0    A        0    A        4\n",
            "1    A        3    A        4\n",
            "2    B        1    B        5\n",
            "3    B        1    B        7\n"
          ]
        }
      ]
    },
    {
      "cell_type": "markdown",
      "source": [
        "**Объединение по ключам левой таблицы.** Не используются ключи,\n",
        "которые есть в правой таблицы, но которых нет в левой. Если в правой\n",
        "таблице каких-то ключей нет, то ставятся пропуски."
      ],
      "metadata": {
        "id": "5PZ0LYQoprRF"
      }
    },
    {
      "cell_type": "code",
      "source": [
        "left = pd.DataFrame({'lkey': ['A', 'B', 'C', 'A'],'value': range(4)})\n",
        "right = pd.DataFrame({'rkey': ['A', 'B', 'D', 'B'],'value': range(4, 8)})\n",
        "print('Left:')\n",
        "print(left)\n",
        "print('\\nRight:')\n",
        "print(right)\n",
        "df=pd.merge(left, right,left_on='lkey', right_on='rkey',how='left')\n",
        "print('\\nMerge:')\n",
        "print(df)"
      ],
      "metadata": {
        "colab": {
          "base_uri": "https://localhost:8080/"
        },
        "id": "zzTcTbPgps2X",
        "outputId": "b2878dcb-6496-4372-9bf8-11e1e5f97c78"
      },
      "execution_count": null,
      "outputs": [
        {
          "output_type": "stream",
          "name": "stdout",
          "text": [
            "Left:\n",
            "  lkey  value\n",
            "0    A      0\n",
            "1    B      1\n",
            "2    C      2\n",
            "3    A      3\n",
            "\n",
            "Right:\n",
            "  rkey  value\n",
            "0    A      4\n",
            "1    B      5\n",
            "2    D      6\n",
            "3    B      7\n",
            "\n",
            "Merge:\n",
            "  lkey  value_x rkey  value_y\n",
            "0    A        0    A      4.0\n",
            "1    B        1    B      5.0\n",
            "2    B        1    B      7.0\n",
            "3    C        2  NaN      NaN\n",
            "4    A        3    A      4.0\n"
          ]
        }
      ]
    },
    {
      "cell_type": "markdown",
      "source": [
        "**Объединение по ключам правой таблицы.** Не используются ключи,\n",
        "которые есть в левой таблицы, но которых нет в правой. Если в левой\n",
        "таблице каких-то ключей нет, то ставятся пропуски."
      ],
      "metadata": {
        "id": "wSIGpWCgp0fY"
      }
    },
    {
      "cell_type": "code",
      "source": [
        "left = pd.DataFrame({'lkey': ['A', 'B', 'C', 'A'],'value': range(4)})\n",
        "right = pd.DataFrame({'rkey': ['A', 'B', 'D', 'B'],'value': range(4, 8)})\n",
        "print('Left:')\n",
        "print(left)\n",
        "print('\\nRight:')\n",
        "print(right)\n",
        "df=pd.merge(left, right,left_on='lkey', right_on='rkey',how='right')\n",
        "print('\\nMerge:')\n",
        "print(df)"
      ],
      "metadata": {
        "colab": {
          "base_uri": "https://localhost:8080/"
        },
        "id": "zNAs87yYp2KA",
        "outputId": "46440101-4c93-431d-9958-1d861237dddd"
      },
      "execution_count": null,
      "outputs": [
        {
          "output_type": "stream",
          "name": "stdout",
          "text": [
            "Left:\n",
            "  lkey  value\n",
            "0    A      0\n",
            "1    B      1\n",
            "2    C      2\n",
            "3    A      3\n",
            "\n",
            "Right:\n",
            "  rkey  value\n",
            "0    A      4\n",
            "1    B      5\n",
            "2    D      6\n",
            "3    B      7\n",
            "\n",
            "Merge:\n",
            "  lkey  value_x rkey  value_y\n",
            "0    A      0.0    A        4\n",
            "1    A      3.0    A        4\n",
            "2    B      1.0    B        5\n",
            "3  NaN      NaN    D        6\n",
            "4    B      1.0    B        7\n"
          ]
        }
      ]
    },
    {
      "cell_type": "markdown",
      "source": [
        "Выполним внтуреннее объединение и установим ключ качестве\n",
        "индекса"
      ],
      "metadata": {
        "id": "AGdQYonnp62J"
      }
    },
    {
      "cell_type": "code",
      "source": [
        "left = pd.DataFrame({'lkey': ['A', 'B', 'C', 'A'],'value': range(4)})\n",
        "right = pd.DataFrame({'rkey': ['A', 'B', 'D', 'B'],'value': range(4, 8)})\n",
        "print('Left:')\n",
        "print(left)\n",
        "print('\\nRight:')\n",
        "print(right)\n",
        "df=pd.merge(left, right,left_on='lkey', right_on='rkey', how='inner').set_index('lkey')[['value_x', 'value_y']]\n",
        "\n",
        "print('\\nMerge:')\n",
        "print(df)"
      ],
      "metadata": {
        "colab": {
          "base_uri": "https://localhost:8080/"
        },
        "id": "U5ulJHxgp7Nj",
        "outputId": "ef227056-1923-451f-94e9-9e6a2a6d2ede"
      },
      "execution_count": null,
      "outputs": [
        {
          "output_type": "stream",
          "name": "stdout",
          "text": [
            "Left:\n",
            "  lkey  value\n",
            "0    A      0\n",
            "1    B      1\n",
            "2    C      2\n",
            "3    A      3\n",
            "\n",
            "Right:\n",
            "  rkey  value\n",
            "0    A      4\n",
            "1    B      5\n",
            "2    D      6\n",
            "3    B      7\n",
            "\n",
            "Merge:\n",
            "      value_x  value_y\n",
            "lkey                  \n",
            "A           0        4\n",
            "A           3        4\n",
            "B           1        5\n",
            "B           1        7\n"
          ]
        }
      ]
    },
    {
      "cell_type": "markdown",
      "source": [
        "Ту же операцию можно выполнить с помощью **join**"
      ],
      "metadata": {
        "id": "XonTDVNGqE1c"
      }
    },
    {
      "cell_type": "code",
      "source": [
        "left = pd.DataFrame({'lkey': ['A', 'B', 'C', 'A'],'value': range(4)})\n",
        "right = pd.DataFrame({'rkey': ['A', 'B', 'D', 'B'],'value': range(4, 8)})\n",
        "print('Left:')\n",
        "print(left)\n",
        "print('\\nRight:')\n",
        "print(right)\n",
        "df=left.set_index('lkey').join(right.set_index('rkey'), rsuffix='_r',\n",
        "how='inner')\n",
        "print('\\nMerge:')\n",
        "print(df)"
      ],
      "metadata": {
        "colab": {
          "base_uri": "https://localhost:8080/"
        },
        "id": "0kV2VR4yqHS8",
        "outputId": "5ecc36fa-3b24-4483-c02e-cac219d0c6ae"
      },
      "execution_count": null,
      "outputs": [
        {
          "output_type": "stream",
          "name": "stdout",
          "text": [
            "Left:\n",
            "  lkey  value\n",
            "0    A      0\n",
            "1    B      1\n",
            "2    C      2\n",
            "3    A      3\n",
            "\n",
            "Right:\n",
            "  rkey  value\n",
            "0    A      4\n",
            "1    B      5\n",
            "2    D      6\n",
            "3    B      7\n",
            "\n",
            "Merge:\n",
            "   value  value_r\n",
            "A      0        4\n",
            "A      3        4\n",
            "B      1        5\n",
            "B      1        7\n"
          ]
        }
      ]
    },
    {
      "cell_type": "markdown",
      "source": [
        "**3. Группировка**\n",
        "\n",
        "\n",
        "---\n",
        "\n",
        "Часто на практике необходимо вычислять среднее по каким-либо\n",
        "категориям или группам в данных. Группа может определяться, например,\n",
        "столбцом в таблице, у которого не так много значений. Мы хотели бы для\n",
        "каждого такого значения посчитать среднее значение другой колонки данных\n",
        "в этой группе.\n",
        "\n",
        "Этапы группировки данных:\n",
        "\n",
        " разбиение данных на группы по некоторым критериям;\n",
        "\n",
        " применение функции отдельно к каждой группе;\n",
        "\n",
        " комбинирование результата в структуру данных.\n",
        "\n",
        "Группировка выполняется функцией\n",
        "\n",
        "df.groupby(by=None, axis=0, level=None, sort=True, ...)\n",
        "\n",
        " df — таблица, данные которой должны быть сгруппированы;\n",
        "\n",
        " by — задает принцип группировки. Чаще всего это имя столбца, по\n",
        "которому нужно сгруппировать. Может так же быть функцией;\n",
        "\n",
        " axis — ось (0 = группировать строки, 1 = группировать столбцы);\n",
        "\n",
        " level — если ось представлена мультииндексом, то указывает на\n",
        "уровень мультииндекса;\n",
        "\n",
        " sort — сортировка результата по индексу.\n",
        "\n",
        "Результатом группировки является объект, состоящий из пар (имя группы,\n",
        "подтаблица). Имя группы соответствует значению, по которому произведена\n",
        "группировка. К объекту-результату группировки применимы, например,\n",
        "следующие операции:\n",
        "\n",
        " for name, group in groupped: ... — цикл по группам;\n",
        "\n",
        " get_group(name) — получить таблицу, соответствующую группе с\n",
        "именем name;\n",
        "\n",
        " groups — получить все группы в виде словаря имя-подтаблица;\n",
        "\n",
        " count() — количество значений в группах, исключая пропуски;\n",
        "\n",
        " size() — размер групп;\n",
        "\n",
        " sum(), max(), min();\n",
        "\n",
        " mean(), median(), var(), std(), corr(), quantile(q);\n",
        "\n",
        " describe() — вывод описательных статистик;\n",
        "\n",
        " aggregate(func) — применение функции (или списка функций) func к\n",
        "группам.\n",
        "\n",
        "\n",
        "---\n",
        "\n",
        "\n",
        "Создадим таблицу для примера"
      ],
      "metadata": {
        "id": "Nv7MktRTqEw9"
      }
    },
    {
      "cell_type": "code",
      "source": [
        "df = pd.DataFrame({\n",
        "    'Животное' : ['Котик', 'Песик', 'Котик', 'Песик',\n",
        "                  'Котик', 'Песик', 'Котик', 'Песик'],\n",
        "    'Цвет шерсти' : ['белый', 'белый', 'коричневый', 'черный', 'коричневый', 'коричневый', 'белый','черный'],\n",
        "    'Рост' : sps.gamma(a=12, scale=3).rvs(size=8),\n",
        "    'Длина хвостика' : sps.gamma(a=10).rvs(size=8)\n",
        "})\n",
        "print(df)"
      ],
      "metadata": {
        "colab": {
          "base_uri": "https://localhost:8080/"
        },
        "id": "4wCwTp1oqZwh",
        "outputId": "d17a66c6-ca8b-4be5-b87a-d07d786999ca"
      },
      "execution_count": null,
      "outputs": [
        {
          "output_type": "stream",
          "name": "stdout",
          "text": [
            "  Животное Цвет шерсти       Рост  Длина хвостика\n",
            "0    Котик       белый  50.962317        5.612443\n",
            "1    Песик       белый  30.604975        7.422474\n",
            "2    Котик  коричневый  29.023222       14.454130\n",
            "3    Песик      черный  17.687819       11.696695\n",
            "4    Котик  коричневый  30.799915       10.865928\n",
            "5    Песик  коричневый  31.269411        6.803092\n",
            "6    Котик       белый  47.265132        6.129307\n",
            "7    Песик      черный  33.375806        8.476669\n"
          ]
        }
      ]
    },
    {
      "cell_type": "markdown",
      "source": [
        "*Пример 1*. Если все котики встанут друг на друга, то какой их\n",
        "суммарный рост? А у песиков? А какова суммарная длинна хвостиков у\n",
        "котиков и у песиков?\n",
        "Группировка по одной колонке и последующее применение операции\n",
        "суммирования:"
      ],
      "metadata": {
        "id": "ort-RPpUqn0H"
      }
    },
    {
      "cell_type": "code",
      "source": [
        "df = pd.DataFrame({\n",
        "    'Животное' : ['Котик', 'Песик', 'Котик', 'Песик',\n",
        "                  'Котик', 'Песик', 'Котик', 'Песик'],\n",
        "    'Цвет шерсти' : ['белый', 'белый', 'коричневый', 'черный', 'коричневый', 'коричневый', 'белый','черный'],\n",
        "    'Рост' : sps.gamma(a=12, scale=3).rvs(size=8),\n",
        "    'Длина хвостика' : sps.gamma(a=10).rvs(size=8)\n",
        "})\n",
        "print(df.groupby('Животное').sum())"
      ],
      "metadata": {
        "colab": {
          "base_uri": "https://localhost:8080/"
        },
        "id": "Kp7rpglSqpNl",
        "outputId": "8b72064b-58dc-484b-c086-09e54b15608d"
      },
      "execution_count": null,
      "outputs": [
        {
          "output_type": "stream",
          "name": "stdout",
          "text": [
            "                Рост  Длина хвостика\n",
            "Животное                            \n",
            "Котик     125.378471       36.504387\n",
            "Песик     144.142583       44.039738\n"
          ]
        }
      ]
    },
    {
      "cell_type": "markdown",
      "source": [
        "Посчитаем описательные статистики для каждого животного"
      ],
      "metadata": {
        "id": "-TF_ReI5qyPp"
      }
    },
    {
      "cell_type": "code",
      "source": [
        "print(df.groupby('Животное').describe())"
      ],
      "metadata": {
        "colab": {
          "base_uri": "https://localhost:8080/"
        },
        "id": "9r8Kgvgpqy2d",
        "outputId": "4ef53bf8-856b-4d18-95d2-e4f1542df743"
      },
      "execution_count": null,
      "outputs": [
        {
          "output_type": "stream",
          "name": "stdout",
          "text": [
            "          Рост                                                         \\\n",
            "         count       mean        std        min        25%        50%   \n",
            "Животное                                                                \n",
            "Котик      4.0  31.344618   6.824020  24.543103  25.978333  31.431091   \n",
            "Песик      4.0  36.035646  10.311651  21.560951  32.561225  38.737793   \n",
            "\n",
            "                               Длина хвостика                                 \\\n",
            "                75%        max          count       mean       std       min   \n",
            "Животное                                                                       \n",
            "Котик     36.797377  37.973185            4.0   9.126097  1.498360  6.987441   \n",
            "Песик     42.212214  45.106046            4.0  11.009934  4.220637  7.007326   \n",
            "\n",
            "                                                     \n",
            "               25%        50%        75%        max  \n",
            "Животное                                             \n",
            "Котик     8.874593   9.513252   9.764756  10.490442  \n",
            "Песик     7.545946  11.088077  14.552066  14.856258  \n"
          ]
        }
      ]
    },
    {
      "cell_type": "markdown",
      "source": [
        "*Пример 2.* Теперь предположим, что котики и песики встают только на\n",
        "представителей своего вида и своего цвета шерсти. Что тогда будет?\n",
        "Группировка по двум колонкам и последующее применение операции\n",
        "суммирования"
      ],
      "metadata": {
        "id": "GcyP6p4Zq68y"
      }
    },
    {
      "cell_type": "code",
      "source": [
        "print(df.groupby(['Животное', 'Цвет шерсти']).sum())"
      ],
      "metadata": {
        "colab": {
          "base_uri": "https://localhost:8080/"
        },
        "id": "iXd8AzPpq7Ph",
        "outputId": "6f91a761-20a3-4e90-9f03-d6f21abaf0c5"
      },
      "execution_count": null,
      "outputs": [
        {
          "output_type": "stream",
          "name": "stdout",
          "text": [
            "                           Рост  Длина хвостика\n",
            "Животное Цвет шерсти                           \n",
            "Котик    белый        50.999846       19.994086\n",
            "         коричневый   74.378625       16.510301\n",
            "Песик    белый        21.560951       14.450668\n",
            "         коричневый   36.227983       14.856258\n",
            "         черный       86.353649       14.732812\n"
          ]
        }
      ]
    },
    {
      "cell_type": "code",
      "source": [
        "print(df.groupby(['Животное', 'Цвет шерсти']).sum().index)"
      ],
      "metadata": {
        "colab": {
          "base_uri": "https://localhost:8080/"
        },
        "id": "zN9tDrs4q_0g",
        "outputId": "3c9d1257-ad32-4b9a-b609-228cd9292451"
      },
      "execution_count": null,
      "outputs": [
        {
          "output_type": "stream",
          "name": "stdout",
          "text": [
            "MultiIndex([('Котик',      'белый'),\n",
            "            ('Котик', 'коричневый'),\n",
            "            ('Песик',      'белый'),\n",
            "            ('Песик', 'коричневый'),\n",
            "            ('Песик',     'черный')],\n",
            "           names=['Животное', 'Цвет шерсти'])\n"
          ]
        }
      ]
    },
    {
      "cell_type": "markdown",
      "source": [
        "**4. Таблицы сопряженности (Crosstab) и сводные таблицы (Pivot table)**\n",
        "\n",
        "\n",
        "---\n",
        "**Задача.** \n",
        "В медицинской клинике информацию о приемах записывают в\n",
        "таблицу со следующими полями:\n",
        "\n",
        " время приема,\n",
        "\n",
        " врач,\n",
        "\n",
        " пациент,\n",
        "\n",
        " поставленный диагноз,\n",
        "\n",
        " назначение,\n",
        "\n",
        " другие поля.\n",
        "\n",
        "Требуется посчитать, сколько раз за предыдущий месяц каждый врач\n",
        "ставил какой-либо диагноз. Результаты представить в виде таблицы, в\n",
        "которой посчитать также суммы по строкам и столбцам, т.е. сколько врач\n",
        "сделал приемов за месяц и сколько раз конкретный диагноз поставлен всеми\n",
        "врачами.\n",
        "\n",
        "Как решать?\n",
        "\n",
        "**Способ 1**\n",
        "1. Группировка по врачам.\n",
        "2. Для каждого врача группировка по диагнозам.\n",
        "3. В каждой группе вычисление суммы.\n",
        "4. Соединение в одну таблицу.\n",
        "5. Вычисление суммы по столбцам и по строкам.\n",
        "Можете прикинуть количество строк кода и время работы\n",
        "**Способ 2**\n",
        "1. Создать пустую таблицу.\n",
        "2. Циклом по всем записям исходной таблицы считать суммы.\n",
        "3. Вычисление суммы по столбцам и по строкам.\n",
        "И снова можете прикинуть количество строк кода и время работы\n",
        "**Способ 3**\n",
        "\n",
        "Применить умную функцию из pandas, которая сделает все сама!\n"
      ],
      "metadata": {
        "id": "JMYFPVfUrB0t"
      }
    },
    {
      "cell_type": "code",
      "source": [
        "df=pd.crosstab(df['Врач'], df['Диагноз'],margins=True)"
      ],
      "metadata": {
        "id": "2JYivQsjrZUK"
      },
      "execution_count": null,
      "outputs": []
    },
    {
      "cell_type": "markdown",
      "source": [
        "**4.2 Функция pd.pivot_table**"
      ],
      "metadata": {
        "id": "1Hau3ogqrf_K"
      }
    },
    {
      "cell_type": "code",
      "source": [
        "df = pd.DataFrame({\n",
        "'Специальность' : ['Ветеринар', 'Ветеринар','Психолог', 'Психолог'] * 6,\n",
        "'Врач' : ['Андрей', 'Сергей', 'Ирина'] * 8,\n",
        "'Диагноз' : ['Простуда', 'Простуда', 'Простуда',\n",
        "'Волнения', 'Волнения', 'Простуда'] * 4,\n",
        "'Доза' : sps.randint(low=1, high=6).rvs(size=24),\n",
        "'Продолжительность' : sps.randint(low=1,high=6).rvs(size=24)})\n",
        "print(df)"
      ],
      "metadata": {
        "colab": {
          "base_uri": "https://localhost:8080/"
        },
        "id": "HYORHyUqrZqz",
        "outputId": "8e00ed33-3e36-4946-efd5-6bebaff8f56b"
      },
      "execution_count": null,
      "outputs": [
        {
          "output_type": "stream",
          "name": "stdout",
          "text": [
            "   Специальность    Врач   Диагноз  Доза  Продолжительность\n",
            "0      Ветеринар  Андрей  Простуда     4                  1\n",
            "1      Ветеринар  Сергей  Простуда     2                  3\n",
            "2       Психолог   Ирина  Простуда     3                  4\n",
            "3       Психолог  Андрей  Волнения     1                  3\n",
            "4      Ветеринар  Сергей  Волнения     3                  2\n",
            "5      Ветеринар   Ирина  Простуда     1                  1\n",
            "6       Психолог  Андрей  Простуда     3                  3\n",
            "7       Психолог  Сергей  Простуда     5                  5\n",
            "8      Ветеринар   Ирина  Простуда     2                  4\n",
            "9      Ветеринар  Андрей  Волнения     5                  5\n",
            "10      Психолог  Сергей  Волнения     5                  4\n",
            "11      Психолог   Ирина  Простуда     4                  1\n",
            "12     Ветеринар  Андрей  Простуда     3                  4\n",
            "13     Ветеринар  Сергей  Простуда     4                  2\n",
            "14      Психолог   Ирина  Простуда     3                  5\n",
            "15      Психолог  Андрей  Волнения     3                  2\n",
            "16     Ветеринар  Сергей  Волнения     2                  5\n",
            "17     Ветеринар   Ирина  Простуда     5                  3\n",
            "18      Психолог  Андрей  Простуда     5                  5\n",
            "19      Психолог  Сергей  Простуда     2                  3\n",
            "20     Ветеринар   Ирина  Простуда     4                  3\n",
            "21     Ветеринар  Андрей  Волнения     5                  1\n",
            "22      Психолог  Сергей  Волнения     3                  5\n",
            "23      Психолог   Ирина  Простуда     1                  5\n"
          ]
        }
      ]
    },
    {
      "cell_type": "markdown",
      "source": [
        "Посчитаем, сколько раз какой врач ставил каждый из диагнозов, а\n",
        "также суммы по строкам и столбцам"
      ],
      "metadata": {
        "id": "4bM11wryrurr"
      }
    },
    {
      "cell_type": "code",
      "source": [
        "res=pd.crosstab(df['Врач'], df['Диагноз'], margins=True)\n",
        "print(res)"
      ],
      "metadata": {
        "colab": {
          "base_uri": "https://localhost:8080/"
        },
        "id": "MEgkfxCErtP5",
        "outputId": "936fe0c2-e054-4584-e4a2-f4bb5909dc47"
      },
      "execution_count": null,
      "outputs": [
        {
          "output_type": "stream",
          "name": "stdout",
          "text": [
            "Диагноз  Волнения  Простуда  All\n",
            "Врач                            \n",
            "Андрей          4         4    8\n",
            "Ирина           0         8    8\n",
            "Сергей          4         4    8\n",
            "All             8        16   24\n"
          ]
        }
      ]
    },
    {
      "cell_type": "markdown",
      "source": [
        "Посчитаем, какую среднюю дозу какой врач назначал по каждому из\n",
        "диагнозов"
      ],
      "metadata": {
        "id": "qXb154HLrxme"
      }
    },
    {
      "cell_type": "code",
      "source": [
        "res=pd.crosstab(df['Врач'], df['Диагноз'],values=df['Доза'], aggfunc=np.mean)\n",
        "print(res)"
      ],
      "metadata": {
        "colab": {
          "base_uri": "https://localhost:8080/"
        },
        "id": "sOQ7Fk1brx49",
        "outputId": "8825ebd1-1a38-4320-9b36-1a35ba963f08"
      },
      "execution_count": null,
      "outputs": [
        {
          "output_type": "stream",
          "name": "stdout",
          "text": [
            "Диагноз  Волнения  Простуда\n",
            "Врач                       \n",
            "Андрей       3.50     3.750\n",
            "Ирина         NaN     2.875\n",
            "Сергей       3.25     3.250\n"
          ]
        }
      ]
    },
    {
      "cell_type": "markdown",
      "source": [
        "Простейший вариант сводной таблицы — среднее в группах,\n",
        "определяемых столбцом. Посчитаем средние по каждому врачу"
      ],
      "metadata": {
        "id": "wJfJgriQr2-Y"
      }
    },
    {
      "cell_type": "code",
      "source": [
        "res=pd.pivot_table(df, index=['Врач'])\n",
        "print(res)"
      ],
      "metadata": {
        "colab": {
          "base_uri": "https://localhost:8080/"
        },
        "id": "CHaphOJWr38t",
        "outputId": "7e46a8a5-045a-4bd1-916b-40553e856e5c"
      },
      "execution_count": null,
      "outputs": [
        {
          "output_type": "stream",
          "name": "stdout",
          "text": [
            "         Доза  Продолжительность\n",
            "Врач                            \n",
            "Андрей  3.625              3.000\n",
            "Ирина   2.875              3.250\n",
            "Сергей  3.250              3.625\n"
          ]
        }
      ]
    },
    {
      "cell_type": "markdown",
      "source": [
        "Посчитаем, сколько раз врач и в какой специальности ставил тот или\n",
        "иной диагноз"
      ],
      "metadata": {
        "id": "Fgf9aygXr57n"
      }
    },
    {
      "cell_type": "code",
      "source": [
        "res=pd.pivot_table(df,\n",
        "  values='Доза',\n",
        "  index=['Специальность', 'Врач'],\n",
        "  columns=['Диагноз'],\n",
        "  aggfunc=np.sum)\n",
        "print(res)"
      ],
      "metadata": {
        "colab": {
          "base_uri": "https://localhost:8080/"
        },
        "id": "XtoWjJdBr6Z4",
        "outputId": "214f9667-978d-4c6e-e174-d07ad8cebe6c"
      },
      "execution_count": null,
      "outputs": [
        {
          "output_type": "stream",
          "name": "stdout",
          "text": [
            "Диагноз               Волнения  Простуда\n",
            "Специальность Врач                      \n",
            "Ветеринар     Андрей      10.0       7.0\n",
            "              Ирина        NaN      12.0\n",
            "              Сергей       5.0       6.0\n",
            "Психолог      Андрей       4.0       8.0\n",
            "              Ирина        NaN      11.0\n",
            "              Сергей       8.0       7.0\n"
          ]
        }
      ]
    },
    {
      "cell_type": "markdown",
      "source": [
        "Добавим строчку, являющейся суммой столбцов, и столбец,\n",
        "являющийся суммой строк"
      ],
      "metadata": {
        "id": "GAoF9UHYr_9W"
      }
    },
    {
      "cell_type": "code",
      "source": [
        "res=pd.pivot_table(df,\n",
        "  values='Доза',\n",
        "  index=['Специальность', 'Врач'],\n",
        "  columns=['Диагноз'],\n",
        "  aggfunc=np.sum,\n",
        "  margins=True)\n",
        "print(res)"
      ],
      "metadata": {
        "colab": {
          "base_uri": "https://localhost:8080/"
        },
        "id": "f46K2PWKsANi",
        "outputId": "244fd80d-9244-4700-a5df-90ba4606d474"
      },
      "execution_count": null,
      "outputs": [
        {
          "output_type": "stream",
          "name": "stdout",
          "text": [
            "Диагноз               Волнения  Простуда  All\n",
            "Специальность Врач                           \n",
            "Ветеринар     Андрей      10.0       7.0   17\n",
            "              Ирина        NaN      12.0   12\n",
            "              Сергей       5.0       6.0   11\n",
            "Психолог      Андрей       4.0       8.0   12\n",
            "              Ирина        NaN      11.0   11\n",
            "              Сергей       8.0       7.0   15\n",
            "All                       27.0      51.0   78\n"
          ]
        }
      ]
    },
    {
      "cell_type": "markdown",
      "source": [
        "Применим несколько функций и несколько столбцов со значениями"
      ],
      "metadata": {
        "id": "EYxzRVjwsHdg"
      }
    },
    {
      "cell_type": "code",
      "source": [
        "res=pd.pivot_table(df,\n",
        "  values=['Доза', 'Продолжительность'],\n",
        "  index=['Специальность', 'Врач'],\n",
        "  columns=['Диагноз'],\n",
        "  aggfunc=[np.min, np.mean, np.max],\n",
        "  margins=True)\n",
        "print(res)"
      ],
      "metadata": {
        "colab": {
          "base_uri": "https://localhost:8080/"
        },
        "id": "ITmkicoSsGXE",
        "outputId": "f14dcfa5-f470-44b1-9c16-f6850b063424"
      },
      "execution_count": null,
      "outputs": [
        {
          "output_type": "stream",
          "name": "stdout",
          "text": [
            "                         amin                                              \\\n",
            "                         Доза              Продолжительность                \n",
            "Диагноз              Волнения Простуда All          Волнения Простуда All   \n",
            "Специальность Врач                                                          \n",
            "Ветеринар     Андрей      5.0      3.0   3               1.0      1.0   1   \n",
            "              Ирина       NaN      1.0   1               NaN      1.0   1   \n",
            "              Сергей      2.0      2.0   2               2.0      2.0   2   \n",
            "Психолог      Андрей      1.0      3.0   1               2.0      3.0   2   \n",
            "              Ирина       NaN      1.0   1               NaN      1.0   1   \n",
            "              Сергей      3.0      2.0   2               4.0      3.0   3   \n",
            "All                       1.0      1.0   1               1.0      1.0   1   \n",
            "\n",
            "                         mean                                            \\\n",
            "                         Доза                Продолжительность            \n",
            "Диагноз              Волнения Простуда   All          Волнения Простуда   \n",
            "Специальность Врач                                                        \n",
            "Ветеринар     Андрей    5.000   3.5000  4.25             3.000     2.50   \n",
            "              Ирина       NaN   3.0000  3.00               NaN     2.75   \n",
            "              Сергей    2.500   3.0000  2.75             3.500     2.50   \n",
            "Психолог      Андрей    2.000   4.0000  3.00             2.500     4.00   \n",
            "              Ирина       NaN   2.7500  2.75               NaN     3.75   \n",
            "              Сергей    4.000   3.5000  3.75             4.500     4.00   \n",
            "All                     3.375   3.1875  3.25             3.375     3.25   \n",
            "\n",
            "                                   amax                                 \\\n",
            "                                   Доза              Продолжительность   \n",
            "Диагноз                    All Волнения Простуда All          Волнения   \n",
            "Специальность Врач                                                       \n",
            "Ветеринар     Андрей  2.750000      5.0      4.0   5               5.0   \n",
            "              Ирина   2.750000      NaN      5.0   5               NaN   \n",
            "              Сергей  3.000000      3.0      4.0   4               5.0   \n",
            "Психолог      Андрей  3.250000      3.0      5.0   5               3.0   \n",
            "              Ирина   3.750000      NaN      4.0   4               NaN   \n",
            "              Сергей  4.250000      5.0      5.0   5               5.0   \n",
            "All                   3.291667      5.0      5.0   5               5.0   \n",
            "\n",
            "                                   \n",
            "                                   \n",
            "Диагноз              Простуда All  \n",
            "Специальность Врач                 \n",
            "Ветеринар     Андрей      4.0   5  \n",
            "              Ирина       4.0   4  \n",
            "              Сергей      3.0   5  \n",
            "Психолог      Андрей      5.0   5  \n",
            "              Ирина       5.0   5  \n",
            "              Сергей      5.0   5  \n",
            "All                       5.0   5  \n"
          ]
        }
      ]
    }
  ]
}