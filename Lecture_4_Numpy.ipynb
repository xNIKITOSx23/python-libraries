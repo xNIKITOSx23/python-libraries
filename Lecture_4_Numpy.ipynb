{
  "nbformat": 4,
  "nbformat_minor": 0,
  "metadata": {
    "colab": {
      "provenance": [],
      "include_colab_link": true
    },
    "kernelspec": {
      "name": "python3",
      "display_name": "Python 3"
    },
    "language_info": {
      "name": "python"
    }
  },
  "cells": [
    {
      "cell_type": "markdown",
      "metadata": {
        "id": "view-in-github",
        "colab_type": "text"
      },
      "source": [
        "<a href=\"https://colab.research.google.com/github/xNIKITOSx23/python-libraries/blob/main/Lecture_4_Numpy.ipynb\" target=\"_parent\"><img src=\"https://colab.research.google.com/assets/colab-badge.svg\" alt=\"Open In Colab\"/></a>"
      ]
    },
    {
      "cell_type": "code",
      "execution_count": null,
      "metadata": {
        "id": "EXr2dwpC_dCB"
      },
      "outputs": [],
      "source": [
        "import numpy as np"
      ]
    },
    {
      "cell_type": "code",
      "source": [
        "a = np.array([0, 2, 1])\n",
        "print(a, type(a))\n",
        "b = np.array([1, 4, 5, 8],\n",
        "float)\n",
        "print(b, type(b))"
      ],
      "metadata": {
        "colab": {
          "base_uri": "https://localhost:8080/"
        },
        "id": "B42rnKbz_vED",
        "outputId": "0f74c83b-2428-4d00-939f-b8e787f3a886"
      },
      "execution_count": null,
      "outputs": [
        {
          "output_type": "stream",
          "name": "stdout",
          "text": [
            "[0 2 1] <class 'numpy.ndarray'>\n",
            "[1. 4. 5. 8.] <class 'numpy.ndarray'>\n"
          ]
        }
      ]
    },
    {
      "cell_type": "code",
      "source": [
        "b = np.array([1, 4, 5, 8],\n",
        "float)\n",
        "print(b, type(b))\n",
        "print(b[:2])\n",
        "print(b[3])\n",
        "b[0]=20\n",
        "print(b)"
      ],
      "metadata": {
        "colab": {
          "base_uri": "https://localhost:8080/"
        },
        "id": "iRFWCAsK_xcp",
        "outputId": "46ed78e9-f113-40ed-de93-91b709344824"
      },
      "execution_count": null,
      "outputs": [
        {
          "output_type": "stream",
          "name": "stdout",
          "text": [
            "[1. 4. 5. 8.] <class 'numpy.ndarray'>\n",
            "[1. 4.]\n",
            "8.0\n",
            "[20.  4.  5.  8.]\n"
          ]
        }
      ]
    },
    {
      "cell_type": "code",
      "source": [
        "a = np.array([[1, 2, 3], [4, 5, 6]],\n",
        "float)\n",
        "print(a)\n",
        "print(a[0,0])\n",
        "print(a[0,1])"
      ],
      "metadata": {
        "colab": {
          "base_uri": "https://localhost:8080/"
        },
        "id": "en_bc0fj_zsR",
        "outputId": "39aea3cd-04c4-4f7f-aafd-573d9431c370"
      },
      "execution_count": null,
      "outputs": [
        {
          "output_type": "stream",
          "name": "stdout",
          "text": [
            "[[1. 2. 3.]\n",
            " [4. 5. 6.]]\n",
            "1.0\n",
            "2.0\n"
          ]
        }
      ]
    },
    {
      "cell_type": "code",
      "source": [
        "a = np.array([[1, 2, 3], [4, 5, 6]],\n",
        "float)\n",
        "print(a)\n",
        "print(a[1,:])\n",
        "print(a[:,2])\n",
        "print(a[-1:, -2:])"
      ],
      "metadata": {
        "colab": {
          "base_uri": "https://localhost:8080/"
        },
        "id": "wDFG7KNqACXi",
        "outputId": "357d01fe-8ae4-45dc-84e5-ea6095fceaf1"
      },
      "execution_count": null,
      "outputs": [
        {
          "output_type": "stream",
          "name": "stdout",
          "text": [
            "[[1. 2. 3.]\n",
            " [4. 5. 6.]]\n",
            "[4. 5. 6.]\n",
            "[3. 6.]\n",
            "[[5. 6.]]\n"
          ]
        }
      ]
    },
    {
      "cell_type": "code",
      "source": [
        "a = np.array([[1, 2, 3], [4, 5, 6]],\n",
        "float)\n",
        "print(a)\n",
        "print(a.shape)"
      ],
      "metadata": {
        "colab": {
          "base_uri": "https://localhost:8080/"
        },
        "id": "RFCi0K7IAc9L",
        "outputId": "80c3057a-8316-4d6f-8740-9fa7aee6eaf4"
      },
      "execution_count": null,
      "outputs": [
        {
          "output_type": "stream",
          "name": "stdout",
          "text": [
            "[[1. 2. 3.]\n",
            " [4. 5. 6.]]\n",
            "(2, 3)\n"
          ]
        }
      ]
    },
    {
      "cell_type": "code",
      "source": [
        "a = np.array([[1, 2, 3], [4, 5, 6]],\n",
        "float)\n",
        "print(a)\n",
        "print(a.dtype)"
      ],
      "metadata": {
        "colab": {
          "base_uri": "https://localhost:8080/"
        },
        "id": "8k8juKyZAoKS",
        "outputId": "41e7f1e7-5817-4822-9e1b-feebe6aaa29d"
      },
      "execution_count": null,
      "outputs": [
        {
          "output_type": "stream",
          "name": "stdout",
          "text": [
            "[[1. 2. 3.]\n",
            " [4. 5. 6.]]\n",
            "float64\n"
          ]
        }
      ]
    },
    {
      "cell_type": "code",
      "source": [
        "a = np.array([[1, 2, 3], [4, 5, 6]],\n",
        "float)\n",
        "print(a)\n",
        "print(len(a))\n",
        "print(len(a[0]))"
      ],
      "metadata": {
        "colab": {
          "base_uri": "https://localhost:8080/"
        },
        "id": "NwoDfpxEAvjq",
        "outputId": "c3d0d55a-aec8-4d18-918b-a0e72bdb09ab"
      },
      "execution_count": null,
      "outputs": [
        {
          "output_type": "stream",
          "name": "stdout",
          "text": [
            "[[1. 2. 3.]\n",
            " [4. 5. 6.]]\n",
            "2\n",
            "3\n"
          ]
        }
      ]
    },
    {
      "cell_type": "code",
      "source": [
        "a = np.array([[1, 2, 3], [4, 5, 6]],\n",
        "float)\n",
        "print(a)\n",
        "print(2 in a)\n",
        "print(0 in a)"
      ],
      "metadata": {
        "colab": {
          "base_uri": "https://localhost:8080/"
        },
        "id": "Tk9eFOmpAxLi",
        "outputId": "515a283d-1c96-4568-cd44-08549a52f5db"
      },
      "execution_count": null,
      "outputs": [
        {
          "output_type": "stream",
          "name": "stdout",
          "text": [
            "[[1. 2. 3.]\n",
            " [4. 5. 6.]]\n",
            "True\n",
            "False\n"
          ]
        }
      ]
    },
    {
      "cell_type": "code",
      "source": [
        "a = np.array(range(10),\n",
        "float)\n",
        "print(a)\n",
        "a = a.reshape((5, 2))\n",
        "print(a)\n",
        "print(a.shape)"
      ],
      "metadata": {
        "colab": {
          "base_uri": "https://localhost:8080/"
        },
        "id": "5vD3o0mSA5Gr",
        "outputId": "4b202ba1-d229-4dd9-f73b-ba1d6b2db012"
      },
      "execution_count": null,
      "outputs": [
        {
          "output_type": "stream",
          "name": "stdout",
          "text": [
            "[0. 1. 2. 3. 4. 5. 6. 7. 8. 9.]\n",
            "[[0. 1.]\n",
            " [2. 3.]\n",
            " [4. 5.]\n",
            " [6. 7.]\n",
            " [8. 9.]]\n",
            "(5, 2)\n"
          ]
        }
      ]
    },
    {
      "cell_type": "code",
      "source": [
        "a = np.array([1, 2, 3],\n",
        "float)\n",
        "b = a\n",
        "c = a.copy()\n",
        "a[0] = 0\n",
        "print(a)\n",
        "print(b)\n",
        "print(c)\n",
        "a[0]=7\n",
        "print(b)\n",
        "print(b)\n",
        "print(c)"
      ],
      "metadata": {
        "colab": {
          "base_uri": "https://localhost:8080/"
        },
        "id": "cI_6eCX6BSjq",
        "outputId": "ba0cc700-3417-4543-cc8e-fb422a8e3954"
      },
      "execution_count": null,
      "outputs": [
        {
          "output_type": "stream",
          "name": "stdout",
          "text": [
            "[0. 2. 3.]\n",
            "[0. 2. 3.]\n",
            "[1. 2. 3.]\n",
            "[7. 2. 3.]\n",
            "[7. 2. 3.]\n",
            "[1. 2. 3.]\n"
          ]
        }
      ]
    },
    {
      "cell_type": "code",
      "source": [
        "a = np.array([1, 2, 3],\n",
        "float)\n",
        "print(a.tolist())\n",
        "print(list(a))"
      ],
      "metadata": {
        "colab": {
          "base_uri": "https://localhost:8080/"
        },
        "id": "v6TbFJfhB0Pr",
        "outputId": "d0f204ad-822d-4019-fda6-4370971d6e76"
      },
      "execution_count": null,
      "outputs": [
        {
          "output_type": "stream",
          "name": "stdout",
          "text": [
            "[1.0, 2.0, 3.0]\n",
            "[1.0, 2.0, 3.0]\n"
          ]
        }
      ]
    },
    {
      "cell_type": "code",
      "source": [
        "a = np.array([1, 2, 3],\n",
        "float)\n",
        "s = a.tostring()\n",
        "print(s)\n",
        "print(np.fromstring(s))"
      ],
      "metadata": {
        "colab": {
          "base_uri": "https://localhost:8080/"
        },
        "id": "0dxfHh7yB7bb",
        "outputId": "b0f38aca-9531-44c2-e0c8-1b16a2a3fa8e"
      },
      "execution_count": null,
      "outputs": [
        {
          "output_type": "stream",
          "name": "stdout",
          "text": [
            "b'\\x00\\x00\\x00\\x00\\x00\\x00\\xf0?\\x00\\x00\\x00\\x00\\x00\\x00\\x00@\\x00\\x00\\x00\\x00\\x00\\x00\\x08@'\n",
            "[1. 2. 3.]\n"
          ]
        },
        {
          "output_type": "stream",
          "name": "stderr",
          "text": [
            "/usr/local/lib/python3.7/dist-packages/ipykernel_launcher.py:3: DeprecationWarning: tostring() is deprecated. Use tobytes() instead.\n",
            "  This is separate from the ipykernel package so we can avoid doing imports until\n",
            "/usr/local/lib/python3.7/dist-packages/ipykernel_launcher.py:5: DeprecationWarning: The binary mode of fromstring is deprecated, as it behaves surprisingly on unicode inputs. Use frombuffer instead\n",
            "  \"\"\"\n"
          ]
        }
      ]
    },
    {
      "cell_type": "code",
      "source": [
        "a = np.array([1, 2, 3],\n",
        "float)\n",
        "print(a)\n",
        "a.fill(20)\n",
        "print(a)"
      ],
      "metadata": {
        "colab": {
          "base_uri": "https://localhost:8080/"
        },
        "id": "5-6QzY-yCM5E",
        "outputId": "61232f57-6c8e-4215-e421-d2ab2851cd12"
      },
      "execution_count": null,
      "outputs": [
        {
          "output_type": "stream",
          "name": "stdout",
          "text": [
            "[1. 2. 3.]\n",
            "[20. 20. 20.]\n"
          ]
        }
      ]
    },
    {
      "cell_type": "code",
      "source": [
        "a = np.array(range(6), float).reshape((2,\n",
        "3))\n",
        "print(a)\n",
        "print(\"Transpose:\")\n",
        "print(a.transpose())"
      ],
      "metadata": {
        "colab": {
          "base_uri": "https://localhost:8080/"
        },
        "id": "QsE98flGCWPa",
        "outputId": "1903dce5-2711-47cc-aea8-33ea609aab35"
      },
      "execution_count": null,
      "outputs": [
        {
          "output_type": "stream",
          "name": "stdout",
          "text": [
            "[[0. 1. 2.]\n",
            " [3. 4. 5.]]\n",
            "Transpose:\n",
            "[[0. 3.]\n",
            " [1. 4.]\n",
            " [2. 5.]]\n"
          ]
        }
      ]
    },
    {
      "cell_type": "code",
      "source": [
        "a = np.array([[1, 2, 3], [4, 5, 6]],\n",
        "float)\n",
        "print(a)\n",
        "print(\"Flatten:\")\n",
        "b=a.flatten()\n",
        "print(b)"
      ],
      "metadata": {
        "colab": {
          "base_uri": "https://localhost:8080/"
        },
        "id": "yX6_hk_4CeWA",
        "outputId": "f824dc3a-35b3-4538-ae26-47c117b2cbf4"
      },
      "execution_count": null,
      "outputs": [
        {
          "output_type": "stream",
          "name": "stdout",
          "text": [
            "[[1. 2. 3.]\n",
            " [4. 5. 6.]]\n",
            "Flatten:\n",
            "[1. 2. 3. 4. 5. 6.]\n"
          ]
        }
      ]
    },
    {
      "cell_type": "code",
      "source": [
        "a = np.array([1,2], float)\n",
        "b = np.array([3,4,5,6],\n",
        "float)\n",
        "c = np.array([7,8,9], float)\n",
        "print(\"A:\")\n",
        "print(a)\n",
        "print(\"B\")\n",
        "print(b)\n",
        "print(\"C\")\n",
        "print(c)\n",
        "print(\"Concatenate:\")\n",
        "d=np.concatenate((a, b, c))\n",
        "print(d)"
      ],
      "metadata": {
        "colab": {
          "base_uri": "https://localhost:8080/"
        },
        "id": "7KqIW9zSCpvR",
        "outputId": "6b491111-0555-4aa1-c1e1-f390ec62bba3"
      },
      "execution_count": null,
      "outputs": [
        {
          "output_type": "stream",
          "name": "stdout",
          "text": [
            "A:\n",
            "[1. 2.]\n",
            "B\n",
            "[3. 4. 5. 6.]\n",
            "C\n",
            "[7. 8. 9.]\n",
            "Concatenate:\n",
            "[1. 2. 3. 4. 5. 6. 7. 8. 9.]\n"
          ]
        }
      ]
    },
    {
      "cell_type": "code",
      "source": [
        "a = np.array([[1, 2], [3, 4]],\n",
        "float)\n",
        "b = np.array([[5, 6], [7,8]], float)\n",
        "print(\"A:\")\n",
        "print(a)\n",
        "print(\"B\")\n",
        "print(b)\n",
        "print(\"Concatenate:\")\n",
        "c=np.concatenate((a,b))\n",
        "print(c)\n",
        "print(\"Concatenate axis=0:\")\n",
        "d=np.concatenate((a,b), axis=0)\n",
        "print(d)\n",
        "print(\"Concatenate axis=1:\")\n",
        "e=np.concatenate((a,b), axis=1)\n",
        "print(e)"
      ],
      "metadata": {
        "colab": {
          "base_uri": "https://localhost:8080/"
        },
        "id": "zh52MtarDuu9",
        "outputId": "5d4901c2-c7a2-4ad2-b188-06680db83710"
      },
      "execution_count": null,
      "outputs": [
        {
          "output_type": "stream",
          "name": "stdout",
          "text": [
            "A:\n",
            "[[1. 2.]\n",
            " [3. 4.]]\n",
            "B\n",
            "[[5. 6.]\n",
            " [7. 8.]]\n",
            "Concatenate:\n",
            "[[1. 2.]\n",
            " [3. 4.]\n",
            " [5. 6.]\n",
            " [7. 8.]]\n",
            "Concatenate axis=0:\n",
            "[[1. 2.]\n",
            " [3. 4.]\n",
            " [5. 6.]\n",
            " [7. 8.]]\n",
            "Concatenate axis=1:\n",
            "[[1. 2. 5. 6.]\n",
            " [3. 4. 7. 8.]]\n"
          ]
        }
      ]
    },
    {
      "cell_type": "code",
      "source": [
        "import numpy as np\n",
        "a = np.array([[1, 2], [3, 4]],\n",
        "float)\n",
        "b = np.array([[5, 6], [7,8]], float)\n",
        "print(\"A:\")\n",
        "print(a)\n",
        "print(\"B:\")\n",
        "print(b)\n",
        "print(\"a[:,np.newaxis]:\")\n",
        "print(a[:,np.newaxis])\n",
        "print(\"a[:,np.newaxis].shape:\")\n",
        "print(a[:,np.newaxis].shape)\n",
        "print(\"[np.newaxis,:]\")\n",
        "print( b[np.newaxis,:])\n",
        "print(\"b[np.newaxis,:].shape\")\n",
        "print(b[np.newaxis,:].shape)"
      ],
      "metadata": {
        "colab": {
          "base_uri": "https://localhost:8080/"
        },
        "id": "wbMEvmtEiYJc",
        "outputId": "3266354a-3142-4f2c-954b-8f113f41c5e0"
      },
      "execution_count": null,
      "outputs": [
        {
          "output_type": "stream",
          "name": "stdout",
          "text": [
            "A:\n",
            "[[1. 2.]\n",
            " [3. 4.]]\n",
            "B:\n",
            "[[5. 6.]\n",
            " [7. 8.]]\n",
            "a[:,np.newaxis]:\n",
            "[[[1. 2.]]\n",
            "\n",
            " [[3. 4.]]]\n",
            "a[:,np.newaxis].shape:\n",
            "(2, 1, 2)\n",
            "[np.newaxis,:]\n",
            "[[[5. 6.]\n",
            "  [7. 8.]]]\n",
            "b[np.newaxis,:].shape\n",
            "(1, 2, 2)\n"
          ]
        }
      ]
    },
    {
      "cell_type": "code",
      "source": [
        "a=np.arange(5, dtype=float)\n",
        "print(a)\n",
        "print()\n",
        "b=np.arange(1, 10, 2,\n",
        "dtype=int)\n",
        "print(b)"
      ],
      "metadata": {
        "colab": {
          "base_uri": "https://localhost:8080/"
        },
        "id": "o4L41yFDjRmQ",
        "outputId": "a8c268a1-0195-47ec-9e15-2cd849fd8573"
      },
      "execution_count": null,
      "outputs": [
        {
          "output_type": "stream",
          "name": "stdout",
          "text": [
            "[0. 1. 2. 3. 4.]\n",
            "\n",
            "[1 3 5 7 9]\n"
          ]
        }
      ]
    },
    {
      "cell_type": "code",
      "source": [
        "a=np.ones((2,3),\n",
        "dtype=float)\n",
        "b=np.zeros(7, dtype=int)\n",
        "print(a)\n",
        "print(b)"
      ],
      "metadata": {
        "colab": {
          "base_uri": "https://localhost:8080/"
        },
        "id": "6H_cZy8sjUCe",
        "outputId": "8b083e29-5dd4-4ed2-abca-6c09867bed32"
      },
      "execution_count": null,
      "outputs": [
        {
          "output_type": "stream",
          "name": "stdout",
          "text": [
            "[[1. 1. 1.]\n",
            " [1. 1. 1.]]\n",
            "[0 0 0 0 0 0 0]\n"
          ]
        }
      ]
    },
    {
      "cell_type": "code",
      "source": [
        "a = np.array([[1, 2, 3], [4, 5, 6]],\n",
        "float)\n",
        "b=np.zeros_like(a)\n",
        "c= np.ones_like(a)\n",
        "print(\"A:\")\n",
        "print(a)\n",
        "print(\"B:\")\n",
        "print(b)\n",
        "print(\"C:\")\n",
        "print(c)"
      ],
      "metadata": {
        "colab": {
          "base_uri": "https://localhost:8080/"
        },
        "id": "J9PCYObvjVzW",
        "outputId": "b9baf1df-6e66-4ed0-e0fc-a085f4b5ea81"
      },
      "execution_count": null,
      "outputs": [
        {
          "output_type": "stream",
          "name": "stdout",
          "text": [
            "A:\n",
            "[[1. 2. 3.]\n",
            " [4. 5. 6.]]\n",
            "B:\n",
            "[[0. 0. 0.]\n",
            " [0. 0. 0.]]\n",
            "C:\n",
            "[[1. 1. 1.]\n",
            " [1. 1. 1.]]\n"
          ]
        }
      ]
    },
    {
      "cell_type": "code",
      "source": [
        "a=np.identity(4,\n",
        "dtype=float)\n",
        "print(a)"
      ],
      "metadata": {
        "colab": {
          "base_uri": "https://localhost:8080/"
        },
        "id": "-V-3s9lljm1W",
        "outputId": "3728aaa1-0ce4-48f7-96d0-22361e335482"
      },
      "execution_count": null,
      "outputs": [
        {
          "output_type": "stream",
          "name": "stdout",
          "text": [
            "[[1. 0. 0. 0.]\n",
            " [0. 1. 0. 0.]\n",
            " [0. 0. 1. 0.]\n",
            " [0. 0. 0. 1.]]\n"
          ]
        }
      ]
    },
    {
      "cell_type": "code",
      "source": [
        "a=np.eye(4, k=1,\n",
        "dtype=float)\n",
        "print(a)"
      ],
      "metadata": {
        "colab": {
          "base_uri": "https://localhost:8080/"
        },
        "id": "N_RTTeEpjq93",
        "outputId": "af46c282-3119-4c7b-e158-d8c05db087f5"
      },
      "execution_count": null,
      "outputs": [
        {
          "output_type": "stream",
          "name": "stdout",
          "text": [
            "[[0. 1. 0. 0.]\n",
            " [0. 0. 1. 0.]\n",
            " [0. 0. 0. 1.]\n",
            " [0. 0. 0. 0.]]\n"
          ]
        }
      ]
    },
    {
      "cell_type": "code",
      "source": [
        "a = np.array([1,2,3], float)\n",
        "b = np.array([5,2,6],\n",
        "float)\n",
        "print(\"A:\")\n",
        "print(a)\n",
        "print(\"B:\")\n",
        "print(b)\n",
        "print(\"A+B:\")\n",
        "print(a+b)\n",
        "print(\"A-B:\")\n",
        "print(a-b)\n",
        "print(\"A*B:\")\n",
        "print(a*b)\n",
        "print(\"A/B:\")\n",
        "print(a/b)\n",
        "print(\"A%B:\")\n",
        "print(a%b)\n",
        "print(\"B^A:\")\n",
        "print(b**a)"
      ],
      "metadata": {
        "colab": {
          "base_uri": "https://localhost:8080/"
        },
        "id": "1uZLrMJbjtVf",
        "outputId": "68061d92-2cdc-4940-b7be-38d7ecca27ae"
      },
      "execution_count": null,
      "outputs": [
        {
          "output_type": "stream",
          "name": "stdout",
          "text": [
            "A:\n",
            "[1. 2. 3.]\n",
            "B:\n",
            "[5. 2. 6.]\n",
            "A+B:\n",
            "[6. 4. 9.]\n",
            "A-B:\n",
            "[-4.  0. -3.]\n",
            "A*B:\n",
            "[ 5.  4. 18.]\n",
            "A/B:\n",
            "[0.2 1.  0.5]\n",
            "A%B:\n",
            "[1. 0. 3.]\n",
            "B^A:\n",
            "[  5.   4. 216.]\n"
          ]
        }
      ]
    },
    {
      "cell_type": "code",
      "source": [
        "a = np.array([[1,2], [3,4]], float)\n",
        "b = np.array([[2,0], [1,3]],\n",
        "float)\n",
        "c=a * b\n",
        "print(c)"
      ],
      "metadata": {
        "colab": {
          "base_uri": "https://localhost:8080/"
        },
        "id": "6mhfZ2CNjxom",
        "outputId": "d44a2f46-690f-4870-e1b6-03f692473a52"
      },
      "execution_count": null,
      "outputs": [
        {
          "output_type": "stream",
          "name": "stdout",
          "text": [
            "[[ 2.  0.]\n",
            " [ 3. 12.]]\n"
          ]
        }
      ]
    },
    {
      "cell_type": "code",
      "source": [
        "a = np.array([1,2,3],\n",
        "float)\n",
        "b = np.array([4,5], float)\n",
        "c=a + b\n",
        "print(c)"
      ],
      "metadata": {
        "colab": {
          "base_uri": "https://localhost:8080/",
          "height": 217
        },
        "id": "SHuctzX-jy7x",
        "outputId": "a8a5329d-0a7c-41ad-ad22-c1a625742731"
      },
      "execution_count": null,
      "outputs": [
        {
          "output_type": "error",
          "ename": "ValueError",
          "evalue": "ignored",
          "traceback": [
            "\u001b[0;31m---------------------------------------------------------------------------\u001b[0m",
            "\u001b[0;31mValueError\u001b[0m                                Traceback (most recent call last)",
            "\u001b[0;32m<ipython-input-27-da4376f3875e>\u001b[0m in \u001b[0;36m<module>\u001b[0;34m\u001b[0m\n\u001b[1;32m      2\u001b[0m float)\n\u001b[1;32m      3\u001b[0m \u001b[0mb\u001b[0m \u001b[0;34m=\u001b[0m \u001b[0mnp\u001b[0m\u001b[0;34m.\u001b[0m\u001b[0marray\u001b[0m\u001b[0;34m(\u001b[0m\u001b[0;34m[\u001b[0m\u001b[0;36m4\u001b[0m\u001b[0;34m,\u001b[0m\u001b[0;36m5\u001b[0m\u001b[0;34m]\u001b[0m\u001b[0;34m,\u001b[0m \u001b[0mfloat\u001b[0m\u001b[0;34m)\u001b[0m\u001b[0;34m\u001b[0m\u001b[0;34m\u001b[0m\u001b[0m\n\u001b[0;32m----> 4\u001b[0;31m \u001b[0mc\u001b[0m\u001b[0;34m=\u001b[0m\u001b[0ma\u001b[0m \u001b[0;34m+\u001b[0m \u001b[0mb\u001b[0m\u001b[0;34m\u001b[0m\u001b[0;34m\u001b[0m\u001b[0m\n\u001b[0m\u001b[1;32m      5\u001b[0m \u001b[0mprint\u001b[0m\u001b[0;34m(\u001b[0m\u001b[0mc\u001b[0m\u001b[0;34m)\u001b[0m\u001b[0;34m\u001b[0m\u001b[0;34m\u001b[0m\u001b[0m\n",
            "\u001b[0;31mValueError\u001b[0m: operands could not be broadcast together with shapes (3,) (2,) "
          ]
        }
      ]
    },
    {
      "cell_type": "code",
      "source": [
        "a = np.array([[1, 2], [3, 4], [5, 6]],\n",
        "float)\n",
        "\n",
        "b = np.array([-1, 3], float)\n",
        "print(\"A:\")\n",
        "print(a)\n",
        "print(\"B:\")\n",
        "print(b)\n",
        "print(\"A+B\")\n",
        "print(a+b)"
      ],
      "metadata": {
        "colab": {
          "base_uri": "https://localhost:8080/"
        },
        "id": "rASJPgoIj1Of",
        "outputId": "9f557e57-acdb-440c-c015-77d5333168cf"
      },
      "execution_count": null,
      "outputs": [
        {
          "output_type": "stream",
          "name": "stdout",
          "text": [
            "A:\n",
            "[[1. 2.]\n",
            " [3. 4.]\n",
            " [5. 6.]]\n",
            "B:\n",
            "[-1.  3.]\n",
            "A+B\n",
            "[[0. 5.]\n",
            " [2. 7.]\n",
            " [4. 9.]]\n"
          ]
        }
      ]
    },
    {
      "cell_type": "code",
      "source": [
        "a = np.zeros((2,2), float)\n",
        "b = np.array([-1., 3.], float)\n",
        "print(\"A:\")\n",
        "print(a)\n",
        "print(\"B:\")\n",
        "print(b)\n",
        "print(\"A+B:\")\n",
        "print(a+b)\n",
        "print(\"a + b[np.newaxis,:]:\")\n",
        "\n",
        "print(a + b[np.newaxis,:])\n",
        "print(\"a + b[:,np.newaxis]:\")\n",
        "print(a + b[:,np.newaxis])"
      ],
      "metadata": {
        "colab": {
          "base_uri": "https://localhost:8080/"
        },
        "id": "PEFjTv1Fj5jW",
        "outputId": "40add1df-0dbb-4b55-b1a4-1c6700cf8a0e"
      },
      "execution_count": null,
      "outputs": [
        {
          "output_type": "stream",
          "name": "stdout",
          "text": [
            "A:\n",
            "[[0. 0.]\n",
            " [0. 0.]]\n",
            "B:\n",
            "[-1.  3.]\n",
            "A+B:\n",
            "[[-1.  3.]\n",
            " [-1.  3.]]\n",
            "a + b[np.newaxis,:]:\n",
            "[[-1.  3.]\n",
            " [-1.  3.]]\n",
            "a + b[:,np.newaxis]:\n",
            "[[-1. -1.]\n",
            " [ 3.  3.]]\n"
          ]
        }
      ]
    },
    {
      "cell_type": "code",
      "source": [
        "a = np.array([1, 4, 9],\n",
        "float)\n",
        "print(\"A:\")\n",
        "print(a)\n",
        "print(\"sqrt(a):\")\n",
        "b=np.sqrt(a)\n",
        "print(b)"
      ],
      "metadata": {
        "colab": {
          "base_uri": "https://localhost:8080/"
        },
        "id": "ehvRqNIakDtH",
        "outputId": "8329a95a-541d-4415-a0fc-c01cd7953d09"
      },
      "execution_count": null,
      "outputs": [
        {
          "output_type": "stream",
          "name": "stdout",
          "text": [
            "A:\n",
            "[1. 4. 9.]\n",
            "sqrt(a):\n",
            "[1. 2. 3.]\n"
          ]
        }
      ]
    },
    {
      "cell_type": "code",
      "source": [
        "a = np.array([1.1, 1.5, 1.9],\n",
        "\n",
        "float)\n",
        "print(\"A:\")\n",
        "print(a)\n",
        "print(\"floor(a):\")\n",
        "b=np.floor(a)\n",
        "print(b)\n",
        "print(\"ceil(a):\")\n",
        "c=np.ceil(a)\n",
        "print(c)\n",
        "print(\"rint(a):\")\n",
        "d=np.rint(a)\n",
        "print(d)"
      ],
      "metadata": {
        "colab": {
          "base_uri": "https://localhost:8080/"
        },
        "id": "lVc_xTPIkHiW",
        "outputId": "61f7745f-5b1a-45ab-f137-29f5a25c1db5"
      },
      "execution_count": null,
      "outputs": [
        {
          "output_type": "stream",
          "name": "stdout",
          "text": [
            "A:\n",
            "[1.1 1.5 1.9]\n",
            "floor(a):\n",
            "[1. 1. 1.]\n",
            "ceil(a):\n",
            "[2. 2. 2.]\n",
            "rint(a):\n",
            "[1. 2. 2.]\n"
          ]
        }
      ]
    },
    {
      "cell_type": "code",
      "source": [
        "print(\"PI:\", np.pi)\n",
        "print(\"E:\", np.e)"
      ],
      "metadata": {
        "colab": {
          "base_uri": "https://localhost:8080/"
        },
        "id": "EJL8E19JkR4n",
        "outputId": "88508dca-1ecb-4559-c084-86fea784cfa2"
      },
      "execution_count": null,
      "outputs": [
        {
          "output_type": "stream",
          "name": "stdout",
          "text": [
            "PI: 3.141592653589793\n",
            "E: 2.718281828459045\n"
          ]
        }
      ]
    },
    {
      "cell_type": "code",
      "source": [
        "a = np.array([1, 4, 5],\n",
        "int)\n",
        "for x in a:\n",
        "  print(x)"
      ],
      "metadata": {
        "colab": {
          "base_uri": "https://localhost:8080/"
        },
        "id": "5dj5oyo5kWJn",
        "outputId": "4e6d604c-4b2e-4351-b775-98e74172c960"
      },
      "execution_count": null,
      "outputs": [
        {
          "output_type": "stream",
          "name": "stdout",
          "text": [
            "1\n",
            "4\n",
            "5\n"
          ]
        }
      ]
    },
    {
      "cell_type": "code",
      "source": [
        "a = np.array([[1, 2], [3, 4], [5, 6]],\n",
        "float)\n",
        "for x in a:\n",
        "  print(x)"
      ],
      "metadata": {
        "colab": {
          "base_uri": "https://localhost:8080/"
        },
        "id": "hZPrjRu1kbSe",
        "outputId": "56e536c1-e31b-4004-880a-2c2868b2efef"
      },
      "execution_count": null,
      "outputs": [
        {
          "output_type": "stream",
          "name": "stdout",
          "text": [
            "[1. 2.]\n",
            "[3. 4.]\n",
            "[5. 6.]\n"
          ]
        }
      ]
    },
    {
      "cell_type": "code",
      "source": [
        "a = np.array([[1, 2], [3, 4], [5, 6]],\n",
        "float)\n",
        "for (x, y) in a:\n",
        "  print (x * y)"
      ],
      "metadata": {
        "colab": {
          "base_uri": "https://localhost:8080/"
        },
        "id": "tMTYbRH0khFn",
        "outputId": "d558a86a-de56-4308-d6e8-7564f8f8715b"
      },
      "execution_count": null,
      "outputs": [
        {
          "output_type": "stream",
          "name": "stdout",
          "text": [
            "2.0\n",
            "12.0\n",
            "30.0\n"
          ]
        }
      ]
    },
    {
      "cell_type": "code",
      "source": [
        "a = np.array([2, 4, 3],\n",
        "float)\n",
        "S= a.sum()\n",
        "P=a.prod()\n",
        "print(' S=',S, 'P=',P)"
      ],
      "metadata": {
        "colab": {
          "base_uri": "https://localhost:8080/"
        },
        "id": "P2tNX-uvkjzH",
        "outputId": "8834dc17-250c-4d58-e428-938a43135f04"
      },
      "execution_count": null,
      "outputs": [
        {
          "output_type": "stream",
          "name": "stdout",
          "text": [
            " S= 9.0 P= 24.0\n"
          ]
        }
      ]
    },
    {
      "cell_type": "code",
      "source": [
        "a = np.array([2, 4, 3],\n",
        "float)\n",
        "S= np.sum(a)\n",
        "P=np.prod(a)\n",
        "print('S=',S, 'P=',P)"
      ],
      "metadata": {
        "colab": {
          "base_uri": "https://localhost:8080/"
        },
        "id": "5gTTzW-4kzwf",
        "outputId": "494d1d02-c495-460a-9ee8-b542eec4aeb0"
      },
      "execution_count": null,
      "outputs": [
        {
          "output_type": "stream",
          "name": "stdout",
          "text": [
            "S= 9.0 P= 24.0\n"
          ]
        }
      ]
    },
    {
      "cell_type": "code",
      "source": [
        "a = np.array([2, 1, 9], float)\n",
        "SA=a.mean()\n",
        "Var=a.var()\n",
        "Dev=a.std()\n",
        "print(\"SA=\", SA, \" Var=\", Var, \" Dev=\",\n",
        "Dev)"
      ],
      "metadata": {
        "colab": {
          "base_uri": "https://localhost:8080/"
        },
        "id": "H9mgNZ1elOAP",
        "outputId": "5fc04494-dc0f-46a0-f042-68e57c33fa0b"
      },
      "execution_count": null,
      "outputs": [
        {
          "output_type": "stream",
          "name": "stdout",
          "text": [
            "SA= 4.0  Var= 12.666666666666666  Dev= 3.559026084010437\n"
          ]
        }
      ]
    },
    {
      "cell_type": "code",
      "source": [
        "a = np.array([2, 1, 9], float)\n",
        "Min=a.min()\n",
        "Max= a.max()\n",
        "print(\"Min=\", Min, \"Max=\", Max)"
      ],
      "metadata": {
        "colab": {
          "base_uri": "https://localhost:8080/"
        },
        "id": "iTs4rrJ2lTdf",
        "outputId": "ac6242c8-9720-47f8-f00e-535f06c512bb"
      },
      "execution_count": null,
      "outputs": [
        {
          "output_type": "stream",
          "name": "stdout",
          "text": [
            "Min= 1.0 Max= 9.0\n"
          ]
        }
      ]
    },
    {
      "cell_type": "code",
      "source": [
        "a = np.array([2, 1, 9,4,6,15], float)\n",
        "Imin=a.argmin()\n",
        "Imax= a.argmax()\n",
        "\n",
        "print(\"Imin=\", Imin, \" Imax=\",Imax)"
      ],
      "metadata": {
        "colab": {
          "base_uri": "https://localhost:8080/"
        },
        "id": "u-YWLJCdlYKP",
        "outputId": "e9ff157e-073d-4ae3-9fe9-7e00118763d6"
      },
      "execution_count": null,
      "outputs": [
        {
          "output_type": "stream",
          "name": "stdout",
          "text": [
            "Imin= 1  Imax= 5\n"
          ]
        }
      ]
    },
    {
      "cell_type": "code",
      "source": [
        "a = np.array([[0, 2], [3, -1], [3, 5]],\n",
        "float)\n",
        "print(a)\n",
        "print()\n",
        "M0=a.mean(axis=0)\n",
        "M1=a.mean(axis=1)\n",
        "print(\"Mean0=\", M0)\n",
        "print(\"Mean1=\", M1)\n",
        "Min1= a.min(axis=1)\n",
        "Max0= a.max(axis=0)\n",
        "print(\"Min1=\", Min1)\n",
        "print(\"Max0=\", Max0)"
      ],
      "metadata": {
        "colab": {
          "base_uri": "https://localhost:8080/"
        },
        "id": "qqSbgXuElblH",
        "outputId": "acca3644-c313-4bf2-80b5-3e95b43489ae"
      },
      "execution_count": null,
      "outputs": [
        {
          "output_type": "stream",
          "name": "stdout",
          "text": [
            "[[ 0.  2.]\n",
            " [ 3. -1.]\n",
            " [ 3.  5.]]\n",
            "\n",
            "Mean0= [2. 2.]\n",
            "Mean1= [1. 1. 4.]\n",
            "Min1= [ 0. -1.  3.]\n",
            "Max0= [3. 5.]\n"
          ]
        }
      ]
    },
    {
      "cell_type": "code",
      "source": [
        "a = np.array([6, 2, 5, -1, 0],\n",
        "float)\n",
        "b=sorted(a)\n",
        "print(b)\n",
        "c=a.sort()\n",
        "print(c)"
      ],
      "metadata": {
        "colab": {
          "base_uri": "https://localhost:8080/"
        },
        "id": "4U7jc7Tvltvu",
        "outputId": "eec84c66-fb7b-4d66-a7ff-ea2fad7a8b71"
      },
      "execution_count": null,
      "outputs": [
        {
          "output_type": "stream",
          "name": "stdout",
          "text": [
            "[-1.0, 0.0, 2.0, 5.0, 6.0]\n",
            "None\n"
          ]
        }
      ]
    },
    {
      "cell_type": "code",
      "source": [
        "a = np.array([6, 2, 5, -1, 0],\n",
        "float)\n",
        "print(a)\n",
        "b= a.clip(0, 5)\n",
        "print(b)"
      ],
      "metadata": {
        "colab": {
          "base_uri": "https://localhost:8080/"
        },
        "id": "U6rYBJ8Ml0mB",
        "outputId": "976d3107-6e9a-4e4d-936a-8e86c0887ed0"
      },
      "execution_count": null,
      "outputs": [
        {
          "output_type": "stream",
          "name": "stdout",
          "text": [
            "[ 6.  2.  5. -1.  0.]\n",
            "[5. 2. 5. 0. 0.]\n"
          ]
        }
      ]
    },
    {
      "cell_type": "code",
      "source": [
        "a = np.array([1, 1, 4, 5, 5, 5, 7],\n",
        "float)\n",
        "print(a)\n",
        "b=np.unique(a)\n",
        "print(b)"
      ],
      "metadata": {
        "colab": {
          "base_uri": "https://localhost:8080/"
        },
        "id": "BMyLiPQLl50o",
        "outputId": "5e78b456-3bb8-42bd-c0b3-943139c941d0"
      },
      "execution_count": null,
      "outputs": [
        {
          "output_type": "stream",
          "name": "stdout",
          "text": [
            "[1. 1. 4. 5. 5. 5. 7.]\n",
            "[1. 4. 5. 7.]\n"
          ]
        }
      ]
    },
    {
      "cell_type": "code",
      "source": [
        "a = np.array([[1, 2], [3, 4]],\n",
        "float)\n",
        "print(a)\n",
        "print()\n",
        "b=a.diagonal()\n",
        "print(b)"
      ],
      "metadata": {
        "colab": {
          "base_uri": "https://localhost:8080/"
        },
        "id": "i_6rENIll7i_",
        "outputId": "5e0f2f86-f690-4817-de75-1dadced9164a"
      },
      "execution_count": null,
      "outputs": [
        {
          "output_type": "stream",
          "name": "stdout",
          "text": [
            "[[1. 2.]\n",
            " [3. 4.]]\n",
            "\n",
            "[1. 4.]\n"
          ]
        }
      ]
    },
    {
      "cell_type": "code",
      "source": [
        "a = np.array([1, 3, 0], float)\n",
        "b = np.array([0, 3, 2],\n",
        "float)\n",
        "print(\"A:\")\n",
        "print(a)\n",
        "print(\"B:\")\n",
        "print(b)\n",
        "c=a>b\n",
        "print(\"a>b:\")\n",
        "print(c)\n",
        "d=a == b\n",
        "print(\"a==b:\")\n",
        "print(d)\n",
        "e=a <= b\n",
        "print(\"a<=b:\")\n",
        "print(e)"
      ],
      "metadata": {
        "colab": {
          "base_uri": "https://localhost:8080/"
        },
        "id": "nNK4Axo4l-Aw",
        "outputId": "7e6eccb2-404f-4b07-a6f2-d9be9c129084"
      },
      "execution_count": null,
      "outputs": [
        {
          "output_type": "stream",
          "name": "stdout",
          "text": [
            "A:\n",
            "[1. 3. 0.]\n",
            "B:\n",
            "[0. 3. 2.]\n",
            "a>b:\n",
            "[ True False False]\n",
            "a==b:\n",
            "[False  True False]\n",
            "a<=b:\n",
            "[False  True  True]\n"
          ]
        }
      ]
    },
    {
      "cell_type": "code",
      "source": [
        "a = np.array([1, 3, 0],\n",
        "float)\n",
        "print(\"A:\")\n",
        "print(a)\n",
        "b=a > 2\n",
        "\n",
        "print(\"a>2:\")\n",
        "print(b)"
      ],
      "metadata": {
        "colab": {
          "base_uri": "https://localhost:8080/"
        },
        "id": "kHweh_WUmR5I",
        "outputId": "fb0a2f87-2b90-42d9-8c04-d0aa105febaa"
      },
      "execution_count": null,
      "outputs": [
        {
          "output_type": "stream",
          "name": "stdout",
          "text": [
            "A:\n",
            "[1. 3. 0.]\n",
            "a>2:\n",
            "[False  True False]\n"
          ]
        }
      ]
    },
    {
      "cell_type": "code",
      "source": [
        "a = np.array([ True, False, False],\n",
        "bool)\n",
        "print(\"A:\")\n",
        "print(a)\n",
        "print(\"Any:\")\n",
        "b=any(a)\n",
        "print(b)\n",
        "print(\"All:\")\n",
        "c=all(a)\n",
        "print(c)"
      ],
      "metadata": {
        "colab": {
          "base_uri": "https://localhost:8080/"
        },
        "id": "J4_bRPXSmZ7g",
        "outputId": "3c91822b-98fc-4151-bb2f-9eec3c98540b"
      },
      "execution_count": null,
      "outputs": [
        {
          "output_type": "stream",
          "name": "stdout",
          "text": [
            "A:\n",
            "[ True False False]\n",
            "Any:\n",
            "True\n",
            "All:\n",
            "False\n"
          ]
        }
      ]
    },
    {
      "cell_type": "code",
      "source": [
        "a = np.array([1, 3, 0], float)\n",
        "aland=np.logical_and(a > 0, a < 3)\n",
        "print(\"A:\")\n",
        "print(a)\n",
        "print(\"logical_and(a > 0, a < 3)\")\n",
        "print(aland)\n",
        "b = np.array([True, False, True], bool)\n",
        "blnot= np.logical_not(b)\n",
        "print(\"B:\")\n",
        "print(b)\n",
        "print(\"logical_not(b)\")\n",
        "print(blnot)\n",
        "\n",
        "c = np.array([False, True, False],\n",
        "bool)\n",
        "clor=np.logical_or(b, c)\n",
        "print(\"C:\")\n",
        "print(c)\n",
        "print(\"logical_or(b, c)\")\n",
        "print(clor)"
      ],
      "metadata": {
        "colab": {
          "base_uri": "https://localhost:8080/"
        },
        "id": "AvE9oyjrrg_b",
        "outputId": "4d41f4eb-fb92-4260-f04f-0241de86bf84"
      },
      "execution_count": null,
      "outputs": [
        {
          "output_type": "stream",
          "name": "stdout",
          "text": [
            "A:\n",
            "[1. 3. 0.]\n",
            "logical_and(a > 0, a < 3)\n",
            "[ True False False]\n",
            "B:\n",
            "[ True False  True]\n",
            "logical_not(b)\n",
            "[False  True False]\n",
            "C:\n",
            "[False  True False]\n",
            "logical_or(b, c)\n",
            "[ True  True  True]\n"
          ]
        }
      ]
    },
    {
      "cell_type": "code",
      "source": [
        "a = np.array([1, 3, 0], float)\n",
        "b=np.where(a != 0, 1 / a, a)\n",
        "print(\"A:\")\n",
        "print(a)\n",
        "print(\"where(a != 0, 1 / a,a):\")\n",
        "print(b)"
      ],
      "metadata": {
        "colab": {
          "base_uri": "https://localhost:8080/"
        },
        "id": "PmT3VPq4rtPl",
        "outputId": "5156f94e-8055-4442-b94a-bb29c8b2d255"
      },
      "execution_count": null,
      "outputs": [
        {
          "output_type": "stream",
          "name": "stdout",
          "text": [
            "A:\n",
            "[1. 3. 0.]\n",
            "where(a != 0, 1 / a,a):\n",
            "[1.         0.33333333 0.        ]\n"
          ]
        },
        {
          "output_type": "stream",
          "name": "stderr",
          "text": [
            "/usr/local/lib/python3.7/dist-packages/ipykernel_launcher.py:2: RuntimeWarning: divide by zero encountered in true_divide\n",
            "  \n"
          ]
        }
      ]
    },
    {
      "cell_type": "code",
      "source": [
        "a = np.array([1, 3, 0],\n",
        "float)\n",
        "b=np.where(a > 0, 3, 2)\n",
        "\n",
        "print(\"A:\")\n",
        "print(a)\n",
        "print(\"where(a > 0, 3, 2):\")\n",
        "print(b)"
      ],
      "metadata": {
        "colab": {
          "base_uri": "https://localhost:8080/"
        },
        "id": "mIM1ec65sEiC",
        "outputId": "4a633005-e686-4c45-cd77-ca574bcec30d"
      },
      "execution_count": null,
      "outputs": [
        {
          "output_type": "stream",
          "name": "stdout",
          "text": [
            "A:\n",
            "[1. 3. 0.]\n",
            "where(a > 0, 3, 2):\n",
            "[3 3 2]\n"
          ]
        }
      ]
    },
    {
      "cell_type": "code",
      "source": [
        "a=np.array([[0, 1], [3, 0]],\n",
        "float)\n",
        "b=a.nonzero()\n",
        "print(\"A:\")\n",
        "print(a)\n",
        "print(\"B:\")\n",
        "print(b)"
      ],
      "metadata": {
        "colab": {
          "base_uri": "https://localhost:8080/"
        },
        "id": "47HjCQTpsJ2z",
        "outputId": "c668e410-fcde-4d72-b530-ca291a3691b7"
      },
      "execution_count": null,
      "outputs": [
        {
          "output_type": "stream",
          "name": "stdout",
          "text": [
            "A:\n",
            "[[0. 1.]\n",
            " [3. 0.]]\n",
            "B:\n",
            "(array([0, 1]), array([1, 0]))\n"
          ]
        }
      ]
    },
    {
      "cell_type": "code",
      "source": [
        "a = np.array([1, np.NaN, np.Inf],\n",
        "float)\n",
        "print(\"A:\")\n",
        "print(a)\n",
        "b= np.isnan(a)\n",
        "print(\"isNan(a):\")\n",
        "print(b)\n",
        "c=np.isfinite(a)\n",
        "print(\"isfinite(a):\")\n",
        "\n",
        "print(c)"
      ],
      "metadata": {
        "colab": {
          "base_uri": "https://localhost:8080/"
        },
        "id": "UggckGfBsq6q",
        "outputId": "79666cc2-ffbd-4b0a-ec15-9ab8ae7d6589"
      },
      "execution_count": null,
      "outputs": [
        {
          "output_type": "stream",
          "name": "stdout",
          "text": [
            "A:\n",
            "[ 1. nan inf]\n",
            "isNan(a):\n",
            "[False  True False]\n",
            "isfinite(a):\n",
            "[ True False False]\n"
          ]
        }
      ]
    },
    {
      "cell_type": "markdown",
      "source": [
        "![image.png](data:image/png;base64,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)"
      ],
      "metadata": {
        "id": "j3nWiPQGs_gz"
      }
    },
    {
      "cell_type": "code",
      "source": [
        "x = np.linspace(-2 * np.pi, 2 * np.pi, 20)\n",
        "print(\"x:\")\n",
        "print(x)\n",
        "y=np.sin(x)**2 + np.cos(x)**2\n",
        "print(\"y:\")\n",
        "print(y)\n",
        "z=np.all((np.sin(x)**2 + np.cos(x)**2).round() ==\n",
        "1)\n",
        "print(\"z:\")\n",
        "print(z)"
      ],
      "metadata": {
        "colab": {
          "base_uri": "https://localhost:8080/"
        },
        "id": "G97__uI_tCz7",
        "outputId": "f78431e5-bd57-4931-eca7-4e13cf4be6a8"
      },
      "execution_count": null,
      "outputs": [
        {
          "output_type": "stream",
          "name": "stdout",
          "text": [
            "x:\n",
            "[-6.28318531 -5.62179738 -4.96040945 -4.29902153 -3.6376336  -2.97624567\n",
            " -2.31485774 -1.65346982 -0.99208189 -0.33069396  0.33069396  0.99208189\n",
            "  1.65346982  2.31485774  2.97624567  3.6376336   4.29902153  4.96040945\n",
            "  5.62179738  6.28318531]\n",
            "y:\n",
            "[1. 1. 1. 1. 1. 1. 1. 1. 1. 1. 1. 1. 1. 1. 1. 1. 1. 1. 1. 1.]\n",
            "z:\n",
            "True\n"
          ]
        }
      ]
    },
    {
      "cell_type": "code",
      "source": [
        "a = np.array([[6, 4], [5, 9]],\n",
        "float)\n",
        "print(\"A:\")\n",
        "print(a)\n",
        "b=a >= 6\n",
        "print(\"a >= 6:\")\n",
        "print(b)\n",
        "c= a[a >= 6]\n",
        "print(\"a[a >= 6]:\")\n",
        "print(c)"
      ],
      "metadata": {
        "colab": {
          "base_uri": "https://localhost:8080/"
        },
        "id": "4ilOMqLPtJOF",
        "outputId": "068f0f3d-c6d2-4bbd-aa2e-cc6cd3009988"
      },
      "execution_count": null,
      "outputs": [
        {
          "output_type": "stream",
          "name": "stdout",
          "text": [
            "A:\n",
            "[[6. 4.]\n",
            " [5. 9.]]\n",
            "a >= 6:\n",
            "[[ True False]\n",
            " [False  True]]\n",
            "a[a >= 6]:\n",
            "[6. 9.]\n"
          ]
        }
      ]
    },
    {
      "cell_type": "code",
      "source": [
        "a = np.array([[6, 4], [5, 9]],\n",
        "float)\n",
        "print(\"A:\")\n",
        "\n",
        "print(a)\n",
        "sel = (a >= 6)\n",
        "print(\"a[a >= 6]:\")\n",
        "print(a[sel])"
      ],
      "metadata": {
        "colab": {
          "base_uri": "https://localhost:8080/"
        },
        "id": "RsVNS2cXtsNk",
        "outputId": "2571540b-3d71-42a3-cecf-499f9e363770"
      },
      "execution_count": null,
      "outputs": [
        {
          "output_type": "stream",
          "name": "stdout",
          "text": [
            "A:\n",
            "[[6. 4.]\n",
            " [5. 9.]]\n",
            "a[a >= 6]:\n",
            "[6. 9.]\n"
          ]
        }
      ]
    },
    {
      "cell_type": "code",
      "source": [
        "a = np.array([[6, 4], [5, 9]], float)\n",
        "print(\"A:\")\n",
        "print(a)\n",
        "b=a[np.logical_and(a > 5, a < 9)]\n",
        "print(\"logical_and(a > 5, a < 9):\")\n",
        "print(b)"
      ],
      "metadata": {
        "colab": {
          "base_uri": "https://localhost:8080/"
        },
        "id": "2qtKWszRt1gc",
        "outputId": "7ee130cc-c57d-440e-95ac-8d08a362a5d0"
      },
      "execution_count": null,
      "outputs": [
        {
          "output_type": "stream",
          "name": "stdout",
          "text": [
            "A:\n",
            "[[6. 4.]\n",
            " [5. 9.]]\n",
            "logical_and(a > 5, a < 9):\n",
            "[6.]\n"
          ]
        }
      ]
    },
    {
      "cell_type": "code",
      "source": [
        "a= np.array([2, 4, 6, 8], float)\n",
        "b = np.array([0, 0, 1, 3, 2, 1],\n",
        "int)\n",
        "print(\"A:\")\n",
        "print(a)\n",
        "print(\"B:\")\n",
        "print(b)\n",
        "c=a[b]\n",
        "\n",
        "print(\"a[b]:\")\n",
        "print(c)"
      ],
      "metadata": {
        "colab": {
          "base_uri": "https://localhost:8080/"
        },
        "id": "8sxtrQhIt828",
        "outputId": "743aea09-8abc-46ab-e088-900dea3a3b83"
      },
      "execution_count": null,
      "outputs": [
        {
          "output_type": "stream",
          "name": "stdout",
          "text": [
            "A:\n",
            "[2. 4. 6. 8.]\n",
            "B:\n",
            "[0 0 1 3 2 1]\n",
            "a[b]:\n",
            "[2. 2. 4. 8. 6. 4.]\n"
          ]
        }
      ]
    },
    {
      "cell_type": "code",
      "source": [
        "a= np.array([2, 4, 6, 8],\n",
        "float)\n",
        "print(\"A:\")\n",
        "print(a)\n",
        "c=a[[0, 0, 1, 3, 2, 1]]\n",
        "print(\"a[[0, 0, 1, 3, 2, 1]]:\")\n",
        "print(c)"
      ],
      "metadata": {
        "colab": {
          "base_uri": "https://localhost:8080/"
        },
        "id": "18PJ9qdHuGJf",
        "outputId": "334559b2-6abb-4b98-9cb6-42661c5ea27b"
      },
      "execution_count": null,
      "outputs": [
        {
          "output_type": "stream",
          "name": "stdout",
          "text": [
            "A:\n",
            "[2. 4. 6. 8.]\n",
            "a[[0, 0, 1, 3, 2, 1]]:\n",
            "[2. 2. 4. 8. 6. 4.]\n"
          ]
        }
      ]
    },
    {
      "cell_type": "code",
      "source": [
        "a = np.array([[1, 4], [9, 16]],\n",
        "float)\n",
        "b = np.array([0, 0, 1, 1, 0], int)\n",
        "c = np.array([0, 1, 1, 1, 1], int)\n",
        "print(\"A:\")\n",
        "print(a)\n",
        "print(\"B:\")\n",
        "\n",
        "print(b)\n",
        "print(\"C:\")\n",
        "print(c)\n",
        "d=a[b,c]\n",
        "print(\"a[b,c]:\")\n",
        "print(d)"
      ],
      "metadata": {
        "colab": {
          "base_uri": "https://localhost:8080/"
        },
        "id": "jHFNfkS6uKrs",
        "outputId": "439409f7-efab-4342-a559-f158c3c2b83f"
      },
      "execution_count": null,
      "outputs": [
        {
          "output_type": "stream",
          "name": "stdout",
          "text": [
            "A:\n",
            "[[ 1.  4.]\n",
            " [ 9. 16.]]\n",
            "B:\n",
            "[0 0 1 1 0]\n",
            "C:\n",
            "[0 1 1 1 1]\n",
            "a[b,c]:\n",
            "[ 1.  4. 16. 16.  4.]\n"
          ]
        }
      ]
    },
    {
      "cell_type": "code",
      "source": [
        "a = np.array([2, 4, 6, 8], float)\n",
        "b = np.array([0, 0, 1, 3, 2, 1],\n",
        "int)\n",
        "print(\"A:\")\n",
        "print(a)\n",
        "print(\"B:\")\n",
        "print(b)\n",
        "c= a.take(b)\n",
        "print(\"a.take(b):\")\n",
        "print(c)"
      ],
      "metadata": {
        "colab": {
          "base_uri": "https://localhost:8080/"
        },
        "id": "QLg8UxiXuOUW",
        "outputId": "23304ac1-8460-45bb-cbc9-b8cde982af55"
      },
      "execution_count": null,
      "outputs": [
        {
          "output_type": "stream",
          "name": "stdout",
          "text": [
            "A:\n",
            "[2. 4. 6. 8.]\n",
            "B:\n",
            "[0 0 1 3 2 1]\n",
            "a.take(b):\n",
            "[2. 2. 4. 8. 6. 4.]\n"
          ]
        }
      ]
    },
    {
      "cell_type": "code",
      "source": [
        "a = np.array([[0, 1], [2, 3]],\n",
        "float)\n",
        "b = np.array([0, 0, 1], int)\n",
        "print(\"A:\")\n",
        "print(a)\n",
        "print(\"B:\")\n",
        "print(b)\n",
        "c=a.take(b, axis=0)\n",
        "print(\"a.take(b, axis=0):\")\n",
        "print(c)\n",
        "d=a.take(b, axis=1)\n",
        "print(\"a.take(b, axis=1):\")\n",
        "print(d)"
      ],
      "metadata": {
        "colab": {
          "base_uri": "https://localhost:8080/"
        },
        "id": "wB34A2RSuVjs",
        "outputId": "2dac50f6-49b0-4df4-ca8e-6953859649de"
      },
      "execution_count": null,
      "outputs": [
        {
          "output_type": "stream",
          "name": "stdout",
          "text": [
            "A:\n",
            "[[0. 1.]\n",
            " [2. 3.]]\n",
            "B:\n",
            "[0 0 1]\n",
            "a.take(b, axis=0):\n",
            "[[0. 1.]\n",
            " [0. 1.]\n",
            " [2. 3.]]\n",
            "a.take(b, axis=1):\n",
            "[[0. 0. 1.]\n",
            " [2. 2. 3.]]\n"
          ]
        }
      ]
    },
    {
      "cell_type": "code",
      "source": [
        "a = np.array([0, 1, 2, 3, 4, 5],\n",
        "float)\n",
        "b = np.array([9, 8, 7], float)\n",
        "print(\"A:\")\n",
        "print(a)\n",
        "\n",
        "print(\"B:\")\n",
        "print(b)\n",
        "a.put([0, 3], b)\n",
        "print(\"a.put([0, 3], b):\")\n",
        "print(a)"
      ],
      "metadata": {
        "colab": {
          "base_uri": "https://localhost:8080/"
        },
        "id": "MxT3fcRsuYqv",
        "outputId": "65c97d3c-4048-4eaa-af60-9c222988d921"
      },
      "execution_count": null,
      "outputs": [
        {
          "output_type": "stream",
          "name": "stdout",
          "text": [
            "A:\n",
            "[0. 1. 2. 3. 4. 5.]\n",
            "B:\n",
            "[9. 8. 7.]\n",
            "a.put([0, 3], b):\n",
            "[9. 1. 2. 8. 4. 5.]\n"
          ]
        }
      ]
    },
    {
      "cell_type": "code",
      "source": [
        "a = np.array([0, 1, 2, 3, 4, 5],\n",
        "float)\n",
        "print(\"A:\")\n",
        "print(a)\n",
        "a.put([0, 3], 5)\n",
        "print(\"a.put([0, 3], 5):\")\n",
        "print(a)"
      ],
      "metadata": {
        "colab": {
          "base_uri": "https://localhost:8080/"
        },
        "id": "VJ5oB_bPucGc",
        "outputId": "297b425c-dee7-427d-d852-8da50f741d74"
      },
      "execution_count": null,
      "outputs": [
        {
          "output_type": "stream",
          "name": "stdout",
          "text": [
            "A:\n",
            "[0. 1. 2. 3. 4. 5.]\n",
            "a.put([0, 3], 5):\n",
            "[5. 1. 2. 5. 4. 5.]\n"
          ]
        }
      ]
    },
    {
      "cell_type": "markdown",
      "source": [
        "Напишите программу NumPy для преобразования заданного массива в байты и загрузите его как массив.  "
      ],
      "metadata": {
        "id": "u9rBVRzgtnSr"
      }
    },
    {
      "cell_type": "code",
      "execution_count": null,
      "metadata": {
        "colab": {
          "base_uri": "https://localhost:8080/"
        },
        "id": "LKkFeDYntZce",
        "outputId": "ff4e53b8-1f06-419d-f6e7-43196303cb66"
      },
      "outputs": [
        {
          "output_type": "stream",
          "name": "stdout",
          "text": [
            "[1 2 3 4 5 6]\n",
            "b'\\x01\\x00\\x00\\x00\\x00\\x00\\x00\\x00\\x02\\x00\\x00\\x00\\x00\\x00\\x00\\x00\\x03\\x00\\x00\\x00\\x00\\x00\\x00\\x00\\x04\\x00\\x00\\x00\\x00\\x00\\x00\\x00\\x05\\x00\\x00\\x00\\x00\\x00\\x00\\x00\\x06\\x00\\x00\\x00\\x00\\x00\\x00\\x00'\n",
            "[1 2 3 4 5 6]\n"
          ]
        }
      ],
      "source": [
        "a = np.a([1, 2, 3, 4, 5, 6])\n",
        "print(a)\n",
        "a_bytes = a.tobytes()\n",
        "print(a_bytes)\n",
        "a2 = np.frombuffer(a_bytes, dtype=a.dtype)\n",
        "print(a2)"
      ]
    },
    {
      "cell_type": "markdown",
      "source": [
        "Напишите программу NumPy для преобразования заданного массива в байты и загрузите его как массив.  "
      ],
      "metadata": {
        "id": "NUmsOoGgFtYw"
      }
    },
    {
      "cell_type": "code",
      "execution_count": null,
      "metadata": {
        "colab": {
          "base_uri": "https://localhost:8080/"
        },
        "outputId": "ff4e53b8-1f06-419d-f6e7-43196303cb66",
        "id": "rckZe3yLFtYx"
      },
      "outputs": [
        {
          "output_type": "stream",
          "name": "stdout",
          "text": [
            "[1 2 3 4 5 6]\n",
            "b'\\x01\\x00\\x00\\x00\\x00\\x00\\x00\\x00\\x02\\x00\\x00\\x00\\x00\\x00\\x00\\x00\\x03\\x00\\x00\\x00\\x00\\x00\\x00\\x00\\x04\\x00\\x00\\x00\\x00\\x00\\x00\\x00\\x05\\x00\\x00\\x00\\x00\\x00\\x00\\x00\\x06\\x00\\x00\\x00\\x00\\x00\\x00\\x00'\n",
            "[1 2 3 4 5 6]\n"
          ]
        }
      ],
      "source": [
        "a = np.a([1, 2, 3, 4, 5, 6])\n",
        "print(a)\n",
        "a_bytes = a.tobytes()\n",
        "print(a_bytes)\n",
        "a2 = np.frombuffer(a_bytes, dtype=a.dtype)\n",
        "print(a2)"
      ]
    },
    {
      "cell_type": "markdown",
      "source": [
        "Напишите программу NumPy для создания массива из 10 нулей, 10 единиц, 10 пятерок."
      ],
      "metadata": {
        "id": "nUiPl5cMuZM5"
      }
    },
    {
      "cell_type": "code",
      "source": [
        "a=np.zeros(10)\n",
        "print(a)\n",
        "a=np.ones(10)\n",
        "print(a)\n",
        "a=np.ones(10)*5\n",
        "print(a)"
      ],
      "metadata": {
        "colab": {
          "base_uri": "https://localhost:8080/"
        },
        "id": "Nv5f80Ghuu59",
        "outputId": "11b11133-6dff-4ba3-9bc7-cbf26a498855"
      },
      "execution_count": null,
      "outputs": [
        {
          "output_type": "stream",
          "name": "stdout",
          "text": [
            "[0. 0. 0. 0. 0. 0. 0. 0. 0. 0.]\n",
            "[1. 1. 1. 1. 1. 1. 1. 1. 1. 1.]\n",
            "[5. 5. 5. 5. 5. 5. 5. 5. 5. 5.]\n"
          ]
        }
      ]
    },
    {
      "cell_type": "markdown",
      "source": [
        "Напишите программу NumPy для создания вектора длиной 5, заполненного произвольными целыми числами от 0 до 10"
      ],
      "metadata": {
        "id": "IUWW-lu8vDep"
      }
    },
    {
      "cell_type": "code",
      "source": [
        "a = np.random.randint(0, 11, 5)\n",
        "print(a)"
      ],
      "metadata": {
        "colab": {
          "base_uri": "https://localhost:8080/"
        },
        "id": "DxKnkyfbvED3",
        "outputId": "371d4ec5-0b66-48e5-d9f5-1241e5d88b82"
      },
      "execution_count": null,
      "outputs": [
        {
          "output_type": "stream",
          "name": "stdout",
          "text": [
            "[1 1 2 3 2]\n"
          ]
        }
      ]
    },
    {
      "cell_type": "markdown",
      "source": [
        "Напишите программу NumPy для вычисления внутреннего произведения двух заданных векторов. "
      ],
      "metadata": {
        "id": "YK2wf4ywvMQo"
      }
    },
    {
      "cell_type": "code",
      "source": [
        "x = np.array([4, 5])\n",
        "y = np.array([7, 10])\n",
        "print(x)\n",
        "print(y)\n",
        "print(np.dot(x, y))"
      ],
      "metadata": {
        "colab": {
          "base_uri": "https://localhost:8080/"
        },
        "id": "FE0aSbjNvPVN",
        "outputId": "7ec79032-69df-45a5-a85f-069f7e3c13de"
      },
      "execution_count": null,
      "outputs": [
        {
          "output_type": "stream",
          "name": "stdout",
          "text": [
            "[4 5]\n",
            "[ 7 10]\n",
            "78\n"
          ]
        }
      ]
    },
    {
      "cell_type": "markdown",
      "source": [
        "Напишите программу NumPy для создания матрицы 3х3 со значениями от 2 до 10."
      ],
      "metadata": {
        "id": "avzB9K1pvwnl"
      }
    },
    {
      "cell_type": "code",
      "source": [
        "x =  np.arange(2, 11).reshape(3,3)\n",
        "print(x)"
      ],
      "metadata": {
        "colab": {
          "base_uri": "https://localhost:8080/"
        },
        "id": "YAnYUrRkvxhU",
        "outputId": "75160dc2-c1b2-4d56-9d24-3a29435ce771"
      },
      "execution_count": null,
      "outputs": [
        {
          "output_type": "stream",
          "name": "stdout",
          "text": [
            "[[ 2  3  4]\n",
            " [ 5  6  7]\n",
            " [ 8  9 10]]\n"
          ]
        }
      ]
    },
    {
      "cell_type": "markdown",
      "source": [
        "Напишите программу NumPy для создания пустого и полного массива."
      ],
      "metadata": {
        "id": "oGyCxrG7v1sS"
      }
    },
    {
      "cell_type": "code",
      "source": [
        "x = np.empty((3,4))\n",
        "print(x)\n",
        "y = np.full((3,3),6)\n",
        "print(y)"
      ],
      "metadata": {
        "colab": {
          "base_uri": "https://localhost:8080/"
        },
        "id": "ALLfNAlyv2DX",
        "outputId": "5f8f1d51-7500-4fdf-a3bb-b4c0c7ecd418"
      },
      "execution_count": null,
      "outputs": [
        {
          "output_type": "stream",
          "name": "stdout",
          "text": [
            "[[0. 0. 0. 0.]\n",
            " [0. 0. 0. 0.]\n",
            " [0. 0. 0. 0.]]\n",
            "[[6 6 6]\n",
            " [6 6 6]\n",
            " [6 6 6]]\n"
          ]
        }
      ]
    },
    {
      "cell_type": "markdown",
      "source": [
        "Напишите программу NumPy, чтобы найти объединение двух массивов. Union вернет уникальный отсортированный массив значений, которые находятся в любом из двух входных массивов."
      ],
      "metadata": {
        "id": "ca04LBZcwB0R"
      }
    },
    {
      "cell_type": "code",
      "source": [
        "array1 = np.array([0, 10, 20, 40, 60, 80])\n",
        "print(array1)\n",
        "array2 = [10, 30, 40, 50, 70]\n",
        "print(array2)\n",
        "print(np.union1d(array1, array2))"
      ],
      "metadata": {
        "colab": {
          "base_uri": "https://localhost:8080/"
        },
        "id": "2476sEz3wCV7",
        "outputId": "1d936bee-93fc-46a7-bb4e-409cadbb3ba1"
      },
      "execution_count": null,
      "outputs": [
        {
          "output_type": "stream",
          "name": "stdout",
          "text": [
            "[ 0 10 20 40 60 80]\n",
            "[10, 30, 40, 50, 70]\n",
            "[ 0 10 20 30 40 50 60 70 80]\n"
          ]
        }
      ]
    },
    {
      "cell_type": "markdown",
      "source": [
        " Напишите программу NumPy, чтобы найти объем памяти массива NumPy."
      ],
      "metadata": {
        "id": "IaqIMcUtwcMp"
      }
    },
    {
      "cell_type": "code",
      "source": [
        "n = np.zeros((4,4))\n",
        "print(\"%d bytes\" % (n.size * n.itemsize))"
      ],
      "metadata": {
        "colab": {
          "base_uri": "https://localhost:8080/"
        },
        "id": "U_Fo3-dSwcqf",
        "outputId": "199df4ea-5c01-44c4-8139-e70e77410a94"
      },
      "execution_count": null,
      "outputs": [
        {
          "output_type": "stream",
          "name": "stdout",
          "text": [
            "128 bytes\n"
          ]
        }
      ]
    },
    {
      "cell_type": "markdown",
      "source": [
        "Напишите программу NumPy для создания двумерного массива, диагональ которого равна [4, 5, 6, 8] и 0 где-либо еще."
      ],
      "metadata": {
        "id": "cV9kU7UTwsvL"
      }
    },
    {
      "cell_type": "code",
      "source": [
        "x =  np.diagflat([4, 5, 6, 8])\n",
        "print(x)"
      ],
      "metadata": {
        "colab": {
          "base_uri": "https://localhost:8080/"
        },
        "id": "3dgBxshxwt5s",
        "outputId": "141f7173-5a05-4d34-df6d-af2f1553c92c"
      },
      "execution_count": null,
      "outputs": [
        {
          "output_type": "stream",
          "name": "stdout",
          "text": [
            "[[4 0 0 0]\n",
            " [0 5 0 0]\n",
            " [0 0 6 0]\n",
            " [0 0 0 8]]\n"
          ]
        }
      ]
    },
    {
      "cell_type": "markdown",
      "source": [
        "Напишите программу NumPy для перемещения указанной оси назад, пока она не окажется в заданной позиции."
      ],
      "metadata": {
        "id": "Z5oTnUuYwzL8"
      }
    },
    {
      "cell_type": "code",
      "source": [
        "x = np.ones((2,3,4,5))\n",
        "print(np.rollaxis(x, 2, 0).shape)"
      ],
      "metadata": {
        "colab": {
          "base_uri": "https://localhost:8080/"
        },
        "id": "Q3d5n8Bqw2e_",
        "outputId": "d81bef09-677f-4cf4-cca2-b5d54ebb16f7"
      },
      "execution_count": null,
      "outputs": [
        {
          "output_type": "stream",
          "name": "stdout",
          "text": [
            "(4, 2, 3, 5)\n"
          ]
        }
      ]
    },
    {
      "cell_type": "markdown",
      "source": [
        "Напишите программу NumPy, чтобы получить количество ненулевых элементов в массиве."
      ],
      "metadata": {
        "id": "fn4eSimHxLtY"
      }
    },
    {
      "cell_type": "code",
      "source": [
        "x = np.array([[0, 10, 20], [20, 30, 40]])\n",
        "print(x)\n",
        "print(np.count_nonzero(x))"
      ],
      "metadata": {
        "colab": {
          "base_uri": "https://localhost:8080/"
        },
        "id": "OB2TUEf0xGAO",
        "outputId": "6bfb0787-4f39-4157-c9de-9209f8d7928d"
      },
      "execution_count": null,
      "outputs": [
        {
          "output_type": "stream",
          "name": "stdout",
          "text": [
            "[[ 0 10 20]\n",
            " [20 30 40]]\n",
            "5\n"
          ]
        }
      ]
    },
    {
      "cell_type": "markdown",
      "source": [
        "Напишите программу NumPy для создания массива (3, 4) формы, умножьте значение каждого элемента на 3 и отобразите новый массив."
      ],
      "metadata": {
        "id": "dEjh8deaxSex"
      }
    },
    {
      "cell_type": "code",
      "source": [
        "x= np.arange(12).reshape(3, 4)\n",
        "print(x)\n",
        "for a in np.nditer(x, op_flags=['readwrite']):\n",
        "    a[...] = 3 * a\n",
        "print(x)"
      ],
      "metadata": {
        "colab": {
          "base_uri": "https://localhost:8080/"
        },
        "id": "UpsYW030xTBv",
        "outputId": "57b2051f-1282-42e2-df08-6c523adbad61"
      },
      "execution_count": null,
      "outputs": [
        {
          "output_type": "stream",
          "name": "stdout",
          "text": [
            "[[ 0  1  2  3]\n",
            " [ 4  5  6  7]\n",
            " [ 8  9 10 11]]\n",
            "[[ 0  3  6  9]\n",
            " [12 15 18 21]\n",
            " [24 27 30 33]]\n"
          ]
        }
      ]
    },
    {
      "cell_type": "markdown",
      "source": [
        "Напишите программу NumPy для преобразования массива чисел с плавающей точкой в массив целых чисел"
      ],
      "metadata": {
        "id": "PtTIVwkxxjO_"
      }
    },
    {
      "cell_type": "code",
      "source": [
        "x= np.array([[12.0, 12.51], [2.34, 7.98], [25.23, 36.50]])\n",
        "print(x)\n",
        "print(x.astype(int))"
      ],
      "metadata": {
        "colab": {
          "base_uri": "https://localhost:8080/"
        },
        "id": "L8G8UNmIxkRp",
        "outputId": "057df92a-121c-4cde-b745-6a9fa4d94b9e"
      },
      "execution_count": null,
      "outputs": [
        {
          "output_type": "stream",
          "name": "stdout",
          "text": [
            "[[12.   12.51]\n",
            " [ 2.34  7.98]\n",
            " [25.23 36.5 ]]\n",
            "[[12 12]\n",
            " [ 2  7]\n",
            " [25 36]]\n"
          ]
        }
      ]
    },
    {
      "cell_type": "markdown",
      "source": [
        "Напишите программу NumPy, чтобы получить величину вектора в numpy."
      ],
      "metadata": {
        "id": "3kmfuGEJxvEw"
      }
    },
    {
      "cell_type": "code",
      "source": [
        "x = np.array([1,2,3,4,5])\n",
        "print(x)\n",
        "print(np.linalg.norm(x))"
      ],
      "metadata": {
        "colab": {
          "base_uri": "https://localhost:8080/"
        },
        "id": "sugXCYEXxvYT",
        "outputId": "a8838588-0921-4cc9-c8b2-66075727a567"
      },
      "execution_count": null,
      "outputs": [
        {
          "output_type": "stream",
          "name": "stdout",
          "text": [
            "[1 2 3 4 5]\n",
            "7.416198487095663\n"
          ]
        }
      ]
    },
    {
      "cell_type": "markdown",
      "source": [
        "Напишите программу NumPy для расчета евклидова расстояния."
      ],
      "metadata": {
        "id": "NMdfavIwyGSY"
      }
    },
    {
      "cell_type": "code",
      "source": [
        "from scipy.spatial import distance\n",
        "p1 = (1, 2, 3)\n",
        "p2 = (4, 5, 6)\n",
        "d = distance.euclidean(p1, p2)\n",
        "print(d)"
      ],
      "metadata": {
        "colab": {
          "base_uri": "https://localhost:8080/"
        },
        "id": "S4_NFUnxyGmk",
        "outputId": "413ebffc-ef8d-426e-8da0-4f8c6322fca4"
      },
      "execution_count": null,
      "outputs": [
        {
          "output_type": "stream",
          "name": "stdout",
          "text": [
            "5.196152422706632\n"
          ]
        }
      ]
    },
    {
      "cell_type": "markdown",
      "source": [
        "Напишите программу NumPy для построения массива всех комбинаций из трех числовых массивов."
      ],
      "metadata": {
        "id": "C_cdalK8yNtf"
      }
    },
    {
      "cell_type": "code",
      "source": [
        "x = [1, 2, 3]\n",
        "y = [4, 5]\n",
        "z = [6, 7]\n",
        "print(x)\n",
        "print(y)\n",
        "print(z)\n",
        "new_array = np.array(np.meshgrid(x, y, z)).T.reshape(-1,3)\n",
        "print(new_array)"
      ],
      "metadata": {
        "colab": {
          "base_uri": "https://localhost:8080/"
        },
        "id": "gmUSPLIGyR1S",
        "outputId": "5b349ae4-19bb-4037-f256-98e8b17bef61"
      },
      "execution_count": null,
      "outputs": [
        {
          "output_type": "stream",
          "name": "stdout",
          "text": [
            "[1, 2, 3]\n",
            "[4, 5]\n",
            "[6, 7]\n",
            "[[1 4 6]\n",
            " [1 5 6]\n",
            " [2 4 6]\n",
            " [2 5 6]\n",
            " [3 4 6]\n",
            " [3 5 6]\n",
            " [1 4 7]\n",
            " [1 5 7]\n",
            " [2 4 7]\n",
            " [2 5 7]\n",
            " [3 4 7]\n",
            " [3 5 7]]\n"
          ]
        }
      ]
    },
    {
      "cell_type": "markdown",
      "source": [
        "Напишите программу NumPy для создания двух массивов, когда размер больше или меньше заданного массива."
      ],
      "metadata": {
        "id": "wJuy4dfGyZCI"
      }
    },
    {
      "cell_type": "code",
      "source": [
        "x = np.arange(16).reshape(4,4)\n",
        "print(x)\n",
        "new_array1 = np.resize(x,(2,2))\n",
        "print(new_array1)\n",
        "new_array2 = np.resize(x,(6,6))\n",
        "print(new_array2)"
      ],
      "metadata": {
        "colab": {
          "base_uri": "https://localhost:8080/"
        },
        "id": "sxys_8iRyZn5",
        "outputId": "0e86b009-fed2-4d90-9b72-5522b2c7c776"
      },
      "execution_count": null,
      "outputs": [
        {
          "output_type": "stream",
          "name": "stdout",
          "text": [
            "[[ 0  1  2  3]\n",
            " [ 4  5  6  7]\n",
            " [ 8  9 10 11]\n",
            " [12 13 14 15]]\n",
            "[[0 1]\n",
            " [2 3]]\n",
            "[[ 0  1  2  3  4  5]\n",
            " [ 6  7  8  9 10 11]\n",
            " [12 13 14 15  0  1]\n",
            " [ 2  3  4  5  6  7]\n",
            " [ 8  9 10 11 12 13]\n",
            " [14 15  0  1  2  3]]\n"
          ]
        }
      ]
    },
    {
      "cell_type": "markdown",
      "source": [
        "Напишите программу NumPy для подсчета количества измерений, количества элементов и количества байтов для каждого элемента в данном массиве. "
      ],
      "metadata": {
        "id": "fZWO8igbyq5b"
      }
    },
    {
      "cell_type": "code",
      "source": [
        "x = np.array([[ 0,  1,  2,  3,  4,  5,  6,  7,  8,  9, 10, 11],\n",
        "       [12, 13, 14, 15, 16, 17, 18, 19, 20, 21, 22, 23]])\n",
        "print(x)\n",
        "print(x.ndim)\n",
        "print(x.size)\n",
        "print(x.itemsize)"
      ],
      "metadata": {
        "colab": {
          "base_uri": "https://localhost:8080/"
        },
        "id": "F-xpgk93yraD",
        "outputId": "cb84ef47-3030-4610-9feb-322c3a22045d"
      },
      "execution_count": null,
      "outputs": [
        {
          "output_type": "stream",
          "name": "stdout",
          "text": [
            "[[ 0  1  2  3  4  5  6  7  8  9 10 11]\n",
            " [12 13 14 15 16 17 18 19 20 21 22 23]]\n",
            "2\n",
            "24\n",
            "8\n"
          ]
        }
      ]
    },
    {
      "cell_type": "markdown",
      "source": [
        "Напишите программу NumPy для извлечения первого элемента второй строки и четвертого элемента четвертой строки из заданного (4x4) массива."
      ],
      "metadata": {
        "id": "PCDLbSPwy92q"
      }
    },
    {
      "cell_type": "code",
      "source": [
        "arra_data = np.arange(0,16).reshape((4, 4))\n",
        "print(arra_data)\n",
        "print(arra_data[[1,3], [0,3]])"
      ],
      "metadata": {
        "colab": {
          "base_uri": "https://localhost:8080/"
        },
        "id": "_bRPS3Dhy-Hp",
        "outputId": "9368a982-7338-4528-b28a-367b3ef1df00"
      },
      "execution_count": null,
      "outputs": [
        {
          "output_type": "stream",
          "name": "stdout",
          "text": [
            "[[ 0  1  2  3]\n",
            " [ 4  5  6  7]\n",
            " [ 8  9 10 11]\n",
            " [12 13 14 15]]\n",
            "[ 4 15]\n"
          ]
        }
      ]
    },
    {
      "cell_type": "markdown",
      "source": [
        "Напишите программу NumPy для извлечения верхней треугольной части матрицы NumPy."
      ],
      "metadata": {
        "id": "5dITVHaTzGLl"
      }
    },
    {
      "cell_type": "code",
      "source": [
        "num = np.arange(18)\n",
        "arr1 = np.reshape(num, [6, 3])\n",
        "print(arr1)\n",
        "result  = arr1[np.triu_indices(3)]\n",
        "print(result)\n",
        "result  = arr1[np.triu_indices(2)]\n",
        "print(result)"
      ],
      "metadata": {
        "colab": {
          "base_uri": "https://localhost:8080/"
        },
        "id": "JZVWAZDezGgU",
        "outputId": "f4cf8649-7d44-4b24-dedb-ca81d2bf39ee"
      },
      "execution_count": null,
      "outputs": [
        {
          "output_type": "stream",
          "name": "stdout",
          "text": [
            "[[ 0  1  2]\n",
            " [ 3  4  5]\n",
            " [ 6  7  8]\n",
            " [ 9 10 11]\n",
            " [12 13 14]\n",
            " [15 16 17]]\n",
            "[0 1 2 4 5 8]\n",
            "[0 1 4]\n"
          ]
        }
      ]
    },
    {
      "cell_type": "markdown",
      "source": [
        "Напишите программу NumPy для вычисления перекрестного произведения двух заданных векторов."
      ],
      "metadata": {
        "id": "o3rBIkHy1oDQ"
      }
    },
    {
      "cell_type": "code",
      "source": [
        "p = [[1, 0], [0, 1]]\n",
        "q = [[1, 2], [3, 4]]\n",
        "print(p)\n",
        "print(q)\n",
        "result1 = np.cross(p, q)\n",
        "result2 = np.cross(q, p)\n",
        "print(result1)\n",
        "print(result2)"
      ],
      "metadata": {
        "colab": {
          "base_uri": "https://localhost:8080/"
        },
        "id": "ERleSA_q1ojp",
        "outputId": "3f400fce-02ac-4c9f-b5fd-8696f726f4c7"
      },
      "execution_count": null,
      "outputs": [
        {
          "output_type": "stream",
          "name": "stdout",
          "text": [
            "[[1, 0], [0, 1]]\n",
            "[[1, 2], [3, 4]]\n",
            "[ 2 -3]\n",
            "[-2  3]\n"
          ]
        }
      ]
    },
    {
      "cell_type": "markdown",
      "source": [
        "Напишите программу NumPy для расчета QR-разложения данной матрицы"
      ],
      "metadata": {
        "id": "ATngHpPz14Pv"
      }
    },
    {
      "cell_type": "code",
      "source": [
        "m = np.array([[1,2],[3,4]])\n",
        "print(m)\n",
        "result =  np.linalg.qr(m)\n",
        "print(result)"
      ],
      "metadata": {
        "colab": {
          "base_uri": "https://localhost:8080/"
        },
        "id": "CYHpGitJ148m",
        "outputId": "efadbf92-2575-4a48-b7a3-79f854be2a1a"
      },
      "execution_count": null,
      "outputs": [
        {
          "output_type": "stream",
          "name": "stdout",
          "text": [
            "[[1 2]\n",
            " [3 4]]\n",
            "(array([[-0.31622777, -0.9486833 ],\n",
            "       [-0.9486833 ,  0.31622777]]), array([[-3.16227766, -4.42718872],\n",
            "       [ 0.        , -0.63245553]]))\n"
          ]
        }
      ]
    },
    {
      "cell_type": "markdown",
      "source": [
        "Напишите программу NumPy для создания массива 3x3x3 со случайными значениями."
      ],
      "metadata": {
        "id": "M5ciGb-v2KK9"
      }
    },
    {
      "cell_type": "code",
      "source": [
        "x = np.random.random((3,3,3))\n",
        "print(x)"
      ],
      "metadata": {
        "colab": {
          "base_uri": "https://localhost:8080/"
        },
        "id": "JlKybVmO2K5A",
        "outputId": "f229403b-b206-46e6-bdfd-cfab2d6181b4"
      },
      "execution_count": null,
      "outputs": [
        {
          "output_type": "stream",
          "name": "stdout",
          "text": [
            "[[[0.97011078 0.75555853 0.26259649]\n",
            "  [0.80704668 0.6436173  0.85663431]\n",
            "  [0.24546322 0.59805397 0.67637942]]\n",
            "\n",
            " [[0.08530689 0.76906985 0.84578665]\n",
            "  [0.59446133 0.64209853 0.26983545]\n",
            "  [0.81285597 0.9885349  0.41683281]]\n",
            "\n",
            " [[0.6236616  0.88750694 0.30335082]\n",
            "  [0.05199659 0.67024858 0.22772363]\n",
            "  [0.32921129 0.63670736 0.09075902]]]\n"
          ]
        }
      ]
    },
    {
      "cell_type": "markdown",
      "source": [
        "Напишите программу NumPy, чтобы найти наиболее частое значение в массиве."
      ],
      "metadata": {
        "id": "bnq5ofTD2O6R"
      }
    },
    {
      "cell_type": "code",
      "source": [
        "x = np.random.randint(0, 10, 40)\n",
        "print(x)\n",
        "print(np.bincount(x).argmax())"
      ],
      "metadata": {
        "colab": {
          "base_uri": "https://localhost:8080/"
        },
        "id": "ew1ToO8f2POX",
        "outputId": "1bc5bc85-fd9c-4d7f-e981-45b8e3bc247f"
      },
      "execution_count": null,
      "outputs": [
        {
          "output_type": "stream",
          "name": "stdout",
          "text": [
            "[2 6 6 8 8 3 8 3 8 7 9 0 7 5 5 4 2 1 8 5 9 5 9 8 5 7 4 2 1 1 4 6 6 2 0 1 9\n",
            " 1 1 6]\n",
            "1\n"
          ]
        }
      ]
    },
    {
      "cell_type": "markdown",
      "source": [
        "Напишите программу NumPy для создания структурированного массива из заданного имени ученика, роста, класса и их типов данных. Теперь сортируйте по классу, затем по высоте, если класс равен"
      ],
      "metadata": {
        "id": "vbhCLY3D2vUw"
      }
    },
    {
      "cell_type": "code",
      "source": [
        "data_type = [('name', 'S15'), ('class', int), ('height', float)]\n",
        "students_details = [('James', 5, 48.5), ('Nail', 6, 52.5),('Paul', 5, 42.10), ('Pit', 5, 40.11)]\n",
        "students = np.array(students_details, dtype=data_type)   \n",
        "print(students)\n",
        "print(np.sort(students, order=['class', 'height']))"
      ],
      "metadata": {
        "colab": {
          "base_uri": "https://localhost:8080/"
        },
        "id": "NIiYFk9Y2voB",
        "outputId": "07fd6752-461e-44f2-caf5-b8b992d0d624"
      },
      "execution_count": null,
      "outputs": [
        {
          "output_type": "stream",
          "name": "stdout",
          "text": [
            "[(b'James', 5, 48.5 ) (b'Nail', 6, 52.5 ) (b'Paul', 5, 42.1 )\n",
            " (b'Pit', 5, 40.11)]\n",
            "[(b'Pit', 5, 40.11) (b'Paul', 5, 42.1 ) (b'James', 5, 48.5 )\n",
            " (b'Nail', 6, 52.5 )]\n"
          ]
        }
      ]
    },
    {
      "cell_type": "markdown",
      "source": [
        "Напишите программу NumPy, чтобы получить истинное деление входов массива элементов."
      ],
      "metadata": {
        "id": "hxB7Dozj3LF9"
      }
    },
    {
      "cell_type": "code",
      "source": [
        "x = np.arange(10)\n",
        "print(x)\n",
        "print(np.true_divide(x, 3))"
      ],
      "metadata": {
        "colab": {
          "base_uri": "https://localhost:8080/"
        },
        "id": "W9FMS3_i3Lg0",
        "outputId": "96e168a6-feca-4306-99d9-624e78579e39"
      },
      "execution_count": null,
      "outputs": [
        {
          "output_type": "stream",
          "name": "stdout",
          "text": [
            "[0 1 2 3 4 5 6 7 8 9]\n",
            "[0.         0.33333333 0.66666667 1.         1.33333333 1.66666667\n",
            " 2.         2.33333333 2.66666667 3.        ]\n"
          ]
        }
      ]
    },
    {
      "cell_type": "markdown",
      "source": [
        "Напишите программу NumPy для создания внутреннего продукта из двух массивов."
      ],
      "metadata": {
        "id": "iA5IPiwQ3Tvs"
      }
    },
    {
      "cell_type": "code",
      "source": [
        "x = np.arange(24).reshape((2,3,4))\n",
        "print(x)\n",
        "y = np.arange(4)\n",
        "print(y)\n",
        "print(np.inner(x, y))"
      ],
      "metadata": {
        "colab": {
          "base_uri": "https://localhost:8080/"
        },
        "id": "Cq2TaJG23UJA",
        "outputId": "6baa0466-e082-49f6-8b7b-b2dd94f64593"
      },
      "execution_count": null,
      "outputs": [
        {
          "output_type": "stream",
          "name": "stdout",
          "text": [
            "[[[ 0  1  2  3]\n",
            "  [ 4  5  6  7]\n",
            "  [ 8  9 10 11]]\n",
            "\n",
            " [[12 13 14 15]\n",
            "  [16 17 18 19]\n",
            "  [20 21 22 23]]]\n",
            "[0 1 2 3]\n",
            "[[ 14  38  62]\n",
            " [ 86 110 134]]\n"
          ]
        }
      ]
    },
    {
      "cell_type": "markdown",
      "source": [
        "Напишите программу NumPy для преобразования углов из радианов в градусы для всех элементов в данном массиве.  \n",
        "Входные данные: [-np.pi, -np.pi / 2, np.pi / 2, np.pi]\n",
        "Образец вывода:\n",
        "[-180. -90. 90. 180.]\n"
      ],
      "metadata": {
        "id": "0fY7semo3iUb"
      }
    },
    {
      "cell_type": "code",
      "source": [
        "x = np.array([-np.pi, -np.pi/2, np.pi/2, np.pi])\n",
        "r1 = np.degrees(x)\n",
        "r2 = np.rad2deg(x)\n",
        "assert np.array_equiv(r1, r2)\n",
        "print(r1)"
      ],
      "metadata": {
        "colab": {
          "base_uri": "https://localhost:8080/"
        },
        "id": "pNEK8NSv3i8y",
        "outputId": "f7c82543-bd86-472d-91a6-3a21f40d9d0d"
      },
      "execution_count": null,
      "outputs": [
        {
          "output_type": "stream",
          "name": "stdout",
          "text": [
            "[-180.  -90.   90.  180.]\n"
          ]
        }
      ]
    },
    {
      "cell_type": "markdown",
      "source": [
        " Напишите программу NumPy для вычисления 2p для всех элементов в данном массиве.  \n",
        "Образец вывода:\n",
        "Исходный массив:\n",
        "[1. 2. 3. 4.]\n",
        "2 ^ p для всех элементов указанного массива:\n",
        "[2. 4. 8. 16.]\n"
      ],
      "metadata": {
        "id": "eXtGBxMB3n1i"
      }
    },
    {
      "cell_type": "code",
      "source": [
        "x = np.array([1., 2., 3., 4.], np.float32)\n",
        "print(x)\n",
        "r1 = np.exp2(x)\n",
        "r2 = 2 ** x\n",
        "assert np.allclose(r1, r2)\n",
        "print(r1)"
      ],
      "metadata": {
        "colab": {
          "base_uri": "https://localhost:8080/"
        },
        "id": "4zUn_Ews3oLx",
        "outputId": "0f873830-e751-404a-eb3b-b514f112454a"
      },
      "execution_count": null,
      "outputs": [
        {
          "output_type": "stream",
          "name": "stdout",
          "text": [
            "[1. 2. 3. 4.]\n",
            "[ 2.  4.  8. 16.]\n"
          ]
        }
      ]
    },
    {
      "cell_type": "markdown",
      "source": [
        "Напишите программу NumPy, чтобы вычислить разницу между максимальным и минимальным значениями данного массива вдоль второй оси.  \n",
        "Ожидаемый результат:\n",
        "Исходный массив:\n",
        "[[0 1 2 3 4 5]\n",
        "[6 7 8 9 10 11]]\n",
        "Разница между максимальным и минимальным значениями указанного массива:\n",
        "[5 5]\n"
      ],
      "metadata": {
        "id": "Q-g3sPK93-2H"
      }
    },
    {
      "cell_type": "code",
      "source": [
        "x = np.arange(12).reshape((2, 6))\n",
        "print(x)\n",
        "r1 = np.ptp(x, 1)\n",
        "r2 = np.amax(x, 1) - np.amin(x, 1)\n",
        "assert np.allclose(r1, r2)\n",
        "print(r1)"
      ],
      "metadata": {
        "colab": {
          "base_uri": "https://localhost:8080/"
        },
        "id": "i11uGXl43_Mz",
        "outputId": "7ccd8124-d8d5-4055-d91f-2fa674122648"
      },
      "execution_count": null,
      "outputs": [
        {
          "output_type": "stream",
          "name": "stdout",
          "text": [
            "[[ 0  1  2  3  4  5]\n",
            " [ 6  7  8  9 10 11]]\n",
            "[5 5]\n"
          ]
        }
      ]
    },
    {
      "cell_type": "markdown",
      "source": [
        "Напишите программу на Python для подсчета количества вхождений каждого значения в данный массив неотрицательных целых чисел. Перейти к редактору\n",
        "Примечание: функция bincount () считает количество вхождений каждого значения в массив неотрицательных целых чисел в диапазоне массива между минимальным и максимальным значениями, включая значения, которые не встречались.\n",
        "Пример вывода:\n",
        "Исходный массив:\n",
        "[0, 1, 6, 1, 4, 1, 2, 2, 7]\n",
        "Количество вхождений каждого значения в массиве:\n",
        "[1 3 2 0 1 0 1 1]"
      ],
      "metadata": {
        "id": "7rHltRG34MMX"
      }
    },
    {
      "cell_type": "code",
      "source": [
        "array1 = [0, 1, 6, 1, 4, 1, 2, 2, 7] \n",
        "print(array1)\n",
        "print(np.bincount(array1))"
      ],
      "metadata": {
        "colab": {
          "base_uri": "https://localhost:8080/"
        },
        "id": "jueK2Jo74Mgp",
        "outputId": "42a4c196-b5e9-4345-ea0a-77544655249a"
      },
      "execution_count": null,
      "outputs": [
        {
          "output_type": "stream",
          "name": "stdout",
          "text": [
            "[0, 1, 6, 1, 4, 1, 2, 2, 7]\n",
            "[1 3 2 0 1 0 1 1]\n"
          ]
        }
      ]
    },
    {
      "cell_type": "markdown",
      "source": [
        "Напишите программу NumPy для подсчета количества дней определенного месяца.  \n",
        "Ожидаемый результат:\n",
        "\n",
        "Количество дней, февраль 2016 года:\n",
        "29 дней\n",
        "\n",
        "Количество дней, февраль 2017 года:\n",
        "28 дней\n",
        "\n",
        "Количество дней, февраль 2018 года:\n",
        "28 дней\n"
      ],
      "metadata": {
        "id": "mrie87184YIa"
      }
    },
    {
      "cell_type": "code",
      "source": [
        "print(\"Number of days, February, 2016: \")\n",
        "print(np.datetime64('2016-03-01') - np.datetime64('2016-02-01'))\n",
        "print(\"Number of days, February, 2017: \")\n",
        "print(np.datetime64('2017-03-01') - np.datetime64('2017-02-01'))\n",
        "print(\"Number of days, February, 2018: \")\n",
        "print(np.datetime64('2018-03-01') - np.datetime64('2018-02-01'))"
      ],
      "metadata": {
        "colab": {
          "base_uri": "https://localhost:8080/"
        },
        "id": "mukawDUa4YgX",
        "outputId": "6f0920bd-ca40-4b2e-b071-7a5b1febee5e"
      },
      "execution_count": null,
      "outputs": [
        {
          "output_type": "stream",
          "name": "stdout",
          "text": [
            "Number of days, February, 2016: \n",
            "29 days\n",
            "Number of days, February, 2017: \n",
            "28 days\n",
            "Number of days, February, 2018: \n",
            "28 days\n"
          ]
        }
      ]
    },
    {
      "cell_type": "markdown",
      "source": [
        "Напишите программу NumPy, в которой прописными буквами будут прописные буквы, строчные буквы, прописные буквы, прописные буквы, заглавные буквы всех элементов данного массива.  \n",
        "Ожидаемый результат:\n",
        "\n",
        "Оригинальный массив:\n",
        "['python' 'PHP' 'java' 'C ++']\n",
        "\n",
        "С большой буквы: ['Python' 'Php' 'Java' 'C ++']\n",
        "\n",
        "Понижено: ['python' 'php' 'java' 'c ++']\n",
        "\n",
        "Uppered: ['PYTHON' 'PHP' 'JAVA' 'C ++']\n",
        "\n",
        "Swapcased: ['PYTHON' 'php' 'JAVA' 'c ++']\n",
        "\n",
        "Titlecased: ['Python' 'Php' 'Java' 'C ++']\n"
      ],
      "metadata": {
        "id": "xtpKmRUh4tEG"
      }
    },
    {
      "cell_type": "code",
      "source": [
        "x = np.array(['python', 'PHP', 'java', 'C++'], dtype=str)\n",
        "print(x)\n",
        "capitalized_case = np.char.capitalize(x)\n",
        "lowered_case = np.char.lower(x)\n",
        "uppered_case = np.char.upper(x)\n",
        "swapcased_case = np.char.swapcase(x)\n",
        "titlecased_case = np.char.title(x)\n",
        "print(\"\\nCapitalized: \", capitalized_case)\n",
        "print(\"Lowered: \", lowered_case)\n",
        "print(\"Uppered: \", uppered_case)\n",
        "print(\"Swapcased: \", swapcased_case)\n",
        "print(\"Titlecased: \", titlecased_case)"
      ],
      "metadata": {
        "colab": {
          "base_uri": "https://localhost:8080/"
        },
        "id": "qhrdjnaP4tsT",
        "outputId": "caa98e3e-8b5c-48be-839d-9ffdc02dc903"
      },
      "execution_count": null,
      "outputs": [
        {
          "output_type": "stream",
          "name": "stdout",
          "text": [
            "['python' 'PHP' 'java' 'C++']\n",
            "\n",
            "Capitalized:  ['Python' 'Php' 'Java' 'C++']\n",
            "Lowered:  ['python' 'php' 'java' 'c++']\n",
            "Uppered:  ['PYTHON' 'PHP' 'JAVA' 'C++']\n",
            "Swapcased:  ['PYTHON' 'php' 'JAVA' 'c++']\n",
            "Titlecased:  ['Python' 'Php' 'Java' 'C++']\n"
          ]
        }
      ]
    },
    {
      "cell_type": "markdown",
      "source": [
        "Напишите программу NumPy, чтобы заменить «PHP» на «Python» в элементе данного массива.  \n",
        "Пример вывода:\n",
        "\n",
        "Оригинальный массив:\n",
        "['PHP Упражнения, Практика, Решение']\n",
        "\n",
        "Новый массив:\n",
        "['Упражнения на Python, практика, решение']\n"
      ],
      "metadata": {
        "id": "mZFzcVOC5DPB"
      }
    },
    {
      "cell_type": "code",
      "source": [
        "x = np.array(['PHP Упражнения, Практика, Решение'], dtype=str)\n",
        "print(x)\n",
        "r = np.char.replace(x, \"PHP\", \"Python\")\n",
        "print(r)"
      ],
      "metadata": {
        "colab": {
          "base_uri": "https://localhost:8080/"
        },
        "id": "laiscLhQ5DhJ",
        "outputId": "ec53cb53-1090-48c3-d643-25a73f5e5a6b"
      },
      "execution_count": null,
      "outputs": [
        {
          "output_type": "stream",
          "name": "stdout",
          "text": [
            "['PHP Упражнения, Практика, Решение']\n",
            "['Python Упражнения, Практика, Решение']\n"
          ]
        }
      ]
    }
  ]
}