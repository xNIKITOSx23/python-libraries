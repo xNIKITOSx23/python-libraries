{
  "nbformat": 4,
  "nbformat_minor": 0,
  "metadata": {
    "colab": {
      "provenance": [],
      "include_colab_link": true
    },
    "kernelspec": {
      "name": "python3",
      "display_name": "Python 3"
    },
    "language_info": {
      "name": "python"
    }
  },
  "cells": [
    {
      "cell_type": "markdown",
      "metadata": {
        "id": "view-in-github",
        "colab_type": "text"
      },
      "source": [
        "<a href=\"https://colab.research.google.com/github/xNIKITOSx23/python-libraries/blob/main/Lecture_5_Pandas.ipynb\" target=\"_parent\"><img src=\"https://colab.research.google.com/assets/colab-badge.svg\" alt=\"Open In Colab\"/></a>"
      ]
    },
    {
      "cell_type": "code",
      "execution_count": null,
      "metadata": {
        "id": "dMCiZPVEgCQ-"
      },
      "outputs": [],
      "source": [
        "import numpy as np\n",
        "import pandas as pd"
      ]
    },
    {
      "cell_type": "markdown",
      "source": [
        "Pandas Series (серия) — это одномерный массив. Визуально он похож\n",
        "на пронумерованный список: слева в колонке находятся индексы элементов,\n",
        "а справа — сами элементы."
      ],
      "metadata": {
        "id": "DQw8SAGNgviZ"
      }
    },
    {
      "cell_type": "code",
      "source": [
        "my_serias=pd.Series([5,6,7,8,9,10,11,12])\n",
        "print(my_serias)"
      ],
      "metadata": {
        "colab": {
          "base_uri": "https://localhost:8080/"
        },
        "id": "05L4RM4bguXR",
        "outputId": "b75ae4db-74a8-41b0-cfa7-a2b458b4a0bb"
      },
      "execution_count": null,
      "outputs": [
        {
          "output_type": "stream",
          "name": "stdout",
          "text": [
            "0     5\n",
            "1     6\n",
            "2     7\n",
            "3     8\n",
            "4     9\n",
            "5    10\n",
            "6    11\n",
            "7    12\n",
            "dtype: int64\n"
          ]
        }
      ]
    },
    {
      "cell_type": "markdown",
      "source": [
        "Индексом может быть числовой показатель (0, 1, 2…), буквенные\n",
        "значения (a, b, c…) или другие данные, выбранные программистом. Если\n",
        "особое значение не задано, то числовые индексы проставляются\n",
        "автоматически. Например, от 0 до 5 как в примере выше.\n",
        "\n",
        "Такая нумерация называется RangeIndex, в ней всегда содержатся числа\n",
        "от 0 до определенного числа N, которое обозначает количество элементов в\n",
        "серии. Собственные значения индексов задаются в квадратных скобках\n",
        "через index, как в примере ниже:"
      ],
      "metadata": {
        "id": "ldP4QNxeg6Kg"
      }
    },
    {
      "cell_type": "code",
      "source": [
        "my_serias=pd.Series([5,6,7,8,9,10,11,12], index=['a','b', 'c', 'd','e', 'f', 'g','h'])\n",
        "print(my_serias)"
      ],
      "metadata": {
        "colab": {
          "base_uri": "https://localhost:8080/"
        },
        "id": "WetE8vRhgy04",
        "outputId": "62e0e48b-6a98-4915-e698-6cc6b61f4e9e"
      },
      "execution_count": null,
      "outputs": [
        {
          "output_type": "stream",
          "name": "stdout",
          "text": [
            "a     5\n",
            "b     6\n",
            "c     7\n",
            "d     8\n",
            "e     9\n",
            "f    10\n",
            "g    11\n",
            "h    12\n",
            "dtype: int64\n"
          ]
        }
      ]
    },
    {
      "cell_type": "markdown",
      "source": [
        "Индексы помогают обращаться к элементам серии и менять их\n",
        "значения. Например, чтобы в нашей серии [5, 6, 7, 8, 9, 10] заменить значения\n",
        "некоторых элементов на 0, мы прописываем индексы нужных элементов и\n",
        "указываем, что они равны нулю:"
      ],
      "metadata": {
        "id": "zTRrrHKThGVK"
      }
    },
    {
      "cell_type": "code",
      "source": [
        "my_serias=pd.Series([5,6,7,8,9,10,11,12], index=['a','b', 'c', 'd','e', 'f', 'g','h'])\n",
        "my_serias[['a','b','f','h']]=0\n",
        "print(my_serias)"
      ],
      "metadata": {
        "colab": {
          "base_uri": "https://localhost:8080/"
        },
        "id": "LfW2FxJDg-ph",
        "outputId": "572201bb-0899-4c31-9907-1ba1de4a725f"
      },
      "execution_count": null,
      "outputs": [
        {
          "output_type": "stream",
          "name": "stdout",
          "text": [
            "a     0\n",
            "b     0\n",
            "c     7\n",
            "d     8\n",
            "e     9\n",
            "f     0\n",
            "g    11\n",
            "h     0\n",
            "dtype: int64\n"
          ]
        }
      ]
    },
    {
      "cell_type": "markdown",
      "source": [
        "Можно сделать выборку по нескольким индексам, чтобы ненужные\n",
        "элементы в серии не отображались:"
      ],
      "metadata": {
        "id": "npnMun6OhKeh"
      }
    },
    {
      "cell_type": "code",
      "source": [
        "my_serias=pd.Series([5,6,7,8,9,10,11,12], index=['a','b', 'c', 'd','e', 'f', 'g','h'])\n",
        "print(my_serias[['a','b','f','h']])"
      ],
      "metadata": {
        "id": "3LQ3EJmYhHry"
      },
      "execution_count": null,
      "outputs": []
    },
    {
      "cell_type": "markdown",
      "source": [
        "Для поиска пропусков есть специальный метод .isna(). Он эквивалентен\n",
        "конструкции s != s"
      ],
      "metadata": {
        "id": "mAuDsrUkhOXp"
      }
    },
    {
      "cell_type": "code",
      "source": [
        "l = [1, 3, 5, np.nan, 6, 8]\n",
        "my_series = pd.Series(l)\n",
        "print(my_series)\n",
        "print(\"Isna\")\n",
        "print(my_series.isna())"
      ],
      "metadata": {
        "colab": {
          "base_uri": "https://localhost:8080/"
        },
        "id": "vR-gdW8jhMmy",
        "outputId": "d3bbd23b-2b3e-4c63-c49a-7283b701e8c4"
      },
      "execution_count": null,
      "outputs": [
        {
          "output_type": "stream",
          "name": "stdout",
          "text": [
            "0    1.0\n",
            "1    3.0\n",
            "2    5.0\n",
            "3    NaN\n",
            "4    6.0\n",
            "5    8.0\n",
            "dtype: float64\n",
            "Isna\n",
            "0    False\n",
            "1    False\n",
            "2    False\n",
            "3     True\n",
            "4    False\n",
            "5    False\n",
            "dtype: bool\n"
          ]
        }
      ]
    },
    {
      "cell_type": "markdown",
      "source": [
        "Основная информация о наборе данных: количество записей, среднее,\n",
        "стандартное отклонение, минимум, нижний квартиль, медиана, верхний\n",
        "квартиль, максимум, а так же тип данных."
      ],
      "metadata": {
        "id": "0edDCeeFhXGi"
      }
    },
    {
      "cell_type": "code",
      "source": [
        "l = [1, 3, 5, np.nan, 6, 8]\n",
        "my_series = pd.Series(l)\n",
        "print(\"My_series:\")\n",
        "print(my_series)\n",
        "print(\"Describe:\")\n",
        "print(my_series.describe())"
      ],
      "metadata": {
        "colab": {
          "base_uri": "https://localhost:8080/"
        },
        "id": "kgACxjorhZNi",
        "outputId": "86388fc0-eef6-4d86-83d1-672974552bb6"
      },
      "execution_count": null,
      "outputs": [
        {
          "output_type": "stream",
          "name": "stdout",
          "text": [
            "My_series:\n",
            "0    1.0\n",
            "1    3.0\n",
            "2    5.0\n",
            "3    NaN\n",
            "4    6.0\n",
            "5    8.0\n",
            "dtype: float64\n",
            "Describe:\n",
            "count    5.000000\n",
            "mean     4.600000\n",
            "std      2.701851\n",
            "min      1.000000\n",
            "25%      3.000000\n",
            "50%      5.000000\n",
            "75%      6.000000\n",
            "max      8.000000\n",
            "dtype: float64\n"
          ]
        }
      ]
    },
    {
      "cell_type": "markdown",
      "source": [
        "В данном примере обычная индексация."
      ],
      "metadata": {
        "id": "3pF0rL7shjhS"
      }
    },
    {
      "cell_type": "code",
      "source": [
        "l = [1, 3, 5, np.nan, 6, 8]\n",
        "my_series = pd.Series(l)\n",
        "print(my_series[2])"
      ],
      "metadata": {
        "colab": {
          "base_uri": "https://localhost:8080/"
        },
        "id": "-j-_J4mYhjyy",
        "outputId": "3e7fefbe-c5dd-4af0-f501-8e693e2be95d"
      },
      "execution_count": null,
      "outputs": [
        {
          "output_type": "stream",
          "name": "stdout",
          "text": [
            "5.0\n"
          ]
        }
      ]
    },
    {
      "cell_type": "code",
      "source": [
        "l = [1, 3, 5, np.nan, 6, 8]\n",
        "my_series = pd.Series(l)\n",
        "my_series[2]=100\n",
        "print(my_series)"
      ],
      "metadata": {
        "colab": {
          "base_uri": "https://localhost:8080/"
        },
        "id": "FjMSCMRohnli",
        "outputId": "a51f5255-343d-4402-a579-fb7afdef3926"
      },
      "execution_count": null,
      "outputs": [
        {
          "output_type": "stream",
          "name": "stdout",
          "text": [
            "0      1.0\n",
            "1      3.0\n",
            "2    100.0\n",
            "3      NaN\n",
            "4      6.0\n",
            "5      8.0\n",
            "dtype: float64\n"
          ]
        }
      ]
    },
    {
      "cell_type": "code",
      "source": [
        "l = [1, 3, 5, np.nan, 6, 8]\n",
        "my_series = pd.Series(l)\n",
        "print(my_series[2:5])"
      ],
      "metadata": {
        "colab": {
          "base_uri": "https://localhost:8080/"
        },
        "id": "x4Hr9nNRhpQi",
        "outputId": "fd84226f-e87e-4a34-e26d-df000dd89095"
      },
      "execution_count": null,
      "outputs": [
        {
          "output_type": "stream",
          "name": "stdout",
          "text": [
            "2    5.0\n",
            "3    NaN\n",
            "4    6.0\n",
            "dtype: float64\n"
          ]
        }
      ]
    },
    {
      "cell_type": "code",
      "source": [
        "l = [1, 3, 5, np.nan, 6, 8]\n",
        "my_series = pd.Series(l)\n",
        "my_series1 = my_series[1:]\n",
        "print(my_series1)"
      ],
      "metadata": {
        "colab": {
          "base_uri": "https://localhost:8080/"
        },
        "id": "ZP8BRRuJhsN6",
        "outputId": "5418db52-3c0c-4130-def1-868ffbe43058"
      },
      "execution_count": null,
      "outputs": [
        {
          "output_type": "stream",
          "name": "stdout",
          "text": [
            "1    3.0\n",
            "2    5.0\n",
            "3    NaN\n",
            "4    6.0\n",
            "5    8.0\n",
            "dtype: float64\n"
          ]
        }
      ]
    },
    {
      "cell_type": "code",
      "source": [
        "l = [1, 3, 5, np.nan, 6, 8]\n",
        "my_series = pd.Series(l)\n",
        "my_series1 = my_series[:-1]\n",
        "print(my_series1)"
      ],
      "metadata": {
        "colab": {
          "base_uri": "https://localhost:8080/"
        },
        "id": "4jwext6qhuBq",
        "outputId": "471871d9-3f8e-4d80-f805-9c57ab5a03b8"
      },
      "execution_count": null,
      "outputs": [
        {
          "output_type": "stream",
          "name": "stdout",
          "text": [
            "0    1.0\n",
            "1    3.0\n",
            "2    5.0\n",
            "3    NaN\n",
            "4    6.0\n",
            "dtype: float64\n"
          ]
        }
      ]
    },
    {
      "cell_type": "markdown",
      "source": [
        "Фильтровать Series как душе заблагорассудится, а также применять\n",
        "математические операции и многое другое:"
      ],
      "metadata": {
        "id": "nHBt0Zc6hyyK"
      }
    },
    {
      "cell_type": "code",
      "source": [
        "l = [1, 3, 5, np.nan, 6, 8]\n",
        "my_series = pd.Series(l)\n",
        "print(\"my_series > 5:\")\n",
        "print(my_series[my_series > 5])\n",
        "print(\"[my_series > 5]*2:\")\n",
        "print(my_series[my_series > 5]*2)"
      ],
      "metadata": {
        "colab": {
          "base_uri": "https://localhost:8080/"
        },
        "id": "RCbNAVBlhzIK",
        "outputId": "bf0f1d27-3356-4742-bb65-ac6f5444876c"
      },
      "execution_count": null,
      "outputs": [
        {
          "output_type": "stream",
          "name": "stdout",
          "text": [
            "my_series > 5:\n",
            "4    6.0\n",
            "5    8.0\n",
            "dtype: float64\n",
            "[my_series > 5]*2:\n",
            "4    12.0\n",
            "5    16.0\n",
            "dtype: float64\n"
          ]
        }
      ]
    },
    {
      "cell_type": "markdown",
      "source": [
        "В сумме s1+s2 складываются данные с одинаковыми индексами.\n",
        "Поскольку в s1 нет данного и индексом 0, а в s2 — с индексом 5, в s1+s2 в\n",
        "соответствующих позициях будет NaN."
      ],
      "metadata": {
        "id": "tbewWlTah8P5"
      }
    },
    {
      "cell_type": "code",
      "source": [
        "l = [1, 3, 5, np.nan, 6, 8]\n",
        "my_series = pd.Series(l)\n",
        "my_series1 = my_series[1:]\n",
        "my_series2=my_series[:-1]\n",
        "print(my_series1+my_series2)"
      ],
      "metadata": {
        "colab": {
          "base_uri": "https://localhost:8080/"
        },
        "id": "X-qqRsZWh9KJ",
        "outputId": "8e1c9a46-337c-4e30-a957-b9120bb8c318"
      },
      "execution_count": null,
      "outputs": [
        {
          "output_type": "stream",
          "name": "stdout",
          "text": [
            "0     NaN\n",
            "1     6.0\n",
            "2    10.0\n",
            "3     NaN\n",
            "4    12.0\n",
            "5     NaN\n",
            "dtype: float64\n"
          ]
        }
      ]
    },
    {
      "cell_type": "code",
      "source": [
        "l = [1, 3, 5, np.nan, 6, 8]\n",
        "my_series = pd.Series(l)\n",
        "print(np.exp(my_series))"
      ],
      "metadata": {
        "colab": {
          "base_uri": "https://localhost:8080/"
        },
        "id": "BaJH44dKiC4H",
        "outputId": "f7cb3b63-eef4-4676-d801-54de679374e6"
      },
      "execution_count": null,
      "outputs": [
        {
          "output_type": "stream",
          "name": "stdout",
          "text": [
            "0       2.718282\n",
            "1      20.085537\n",
            "2     148.413159\n",
            "3            NaN\n",
            "4     403.428793\n",
            "5    2980.957987\n",
            "dtype: float64\n"
          ]
        }
      ]
    },
    {
      "cell_type": "markdown",
      "source": [
        "При создании набора данных s мы не указали, что будет играть роль\n",
        "индекса. По умолчанию это последовательность неотрицательных целых\n",
        "чисел 0, 1, 2, ..."
      ],
      "metadata": {
        "id": "RkVM9rfHiALn"
      }
    },
    {
      "cell_type": "code",
      "source": [
        "l = [1, 3, 5, np.nan, 6, 8]\n",
        "my_series = pd.Series(l)\n",
        "print(my_series.index)"
      ],
      "metadata": {
        "colab": {
          "base_uri": "https://localhost:8080/"
        },
        "id": "TtLogQbYiGR3",
        "outputId": "4ece3d40-53a6-410e-a26d-81a3ac21e7b5"
      },
      "execution_count": null,
      "outputs": [
        {
          "output_type": "stream",
          "name": "stdout",
          "text": [
            "RangeIndex(start=0, stop=6, step=1)\n"
          ]
        }
      ]
    },
    {
      "cell_type": "markdown",
      "source": [
        "Результат: RangeIndex(start=0, stop=6, step=1)\n",
        "Но можно создавать наборы данных с индексом, заданным списком."
      ],
      "metadata": {
        "id": "mNbRddPXiIFA"
      }
    },
    {
      "cell_type": "code",
      "source": [
        "l = [1, 3, 5, np.nan, 6, 8]\n",
        "i = list('abcdef')\n",
        "my_series = pd.Series(l, index=i)\n",
        "print(my_series)"
      ],
      "metadata": {
        "colab": {
          "base_uri": "https://localhost:8080/"
        },
        "id": "hFew7QeyiIwn",
        "outputId": "9c689822-f315-4e2e-cd83-a292a8b0d7dd"
      },
      "execution_count": null,
      "outputs": [
        {
          "output_type": "stream",
          "name": "stdout",
          "text": [
            "a    1.0\n",
            "b    3.0\n",
            "c    5.0\n",
            "d    NaN\n",
            "e    6.0\n",
            "f    8.0\n",
            "dtype: float64\n"
          ]
        }
      ]
    },
    {
      "cell_type": "code",
      "source": [
        "l = [1, 3, 5, np.nan, 6, 8]\n",
        "i = list('abcdef')\n",
        "my_series = pd.Series(l, index=i)\n",
        "print(my_series['c'])"
      ],
      "metadata": {
        "colab": {
          "base_uri": "https://localhost:8080/"
        },
        "id": "H2JHs9UWiR5h",
        "outputId": "41ebb995-6a25-42e4-f9b7-36db1827c2a9"
      },
      "execution_count": null,
      "outputs": [
        {
          "output_type": "stream",
          "name": "stdout",
          "text": [
            "5.0\n"
          ]
        }
      ]
    },
    {
      "cell_type": "markdown",
      "source": [
        "Если индекс — строка, то вместо my_series['c'] можно\n",
        "писать my_series.c."
      ],
      "metadata": {
        "id": "XxT-FEWBiWeB"
      }
    },
    {
      "cell_type": "code",
      "source": [
        "l = [1, 3, 5, np.nan, 6, 8]\n",
        "i = list('abcdef')\n",
        "my_series = pd.Series(l, index=i)\n",
        "print(my_series.c)"
      ],
      "metadata": {
        "colab": {
          "base_uri": "https://localhost:8080/"
        },
        "id": "aKML_6a8iXyJ",
        "outputId": "8d060e87-9a85-4937-c185-fd08a2218ddc"
      },
      "execution_count": null,
      "outputs": [
        {
          "output_type": "stream",
          "name": "stdout",
          "text": [
            "5.0\n"
          ]
        }
      ]
    },
    {
      "cell_type": "markdown",
      "source": [
        "Набор данных можно создать из словаря."
      ],
      "metadata": {
        "id": "-L9H3sPHiqSw"
      }
    },
    {
      "cell_type": "code",
      "source": [
        "my_series = pd.Series({'a':1, 'b':2, 'c':0})\n",
        "print(my_series)"
      ],
      "metadata": {
        "colab": {
          "base_uri": "https://localhost:8080/"
        },
        "id": "JxFH9GKDirW5",
        "outputId": "4a6dc9de-e52c-4f79-ddcb-b44ebbc0d9d9"
      },
      "execution_count": null,
      "outputs": [
        {
          "output_type": "stream",
          "name": "stdout",
          "text": [
            "a    1\n",
            "b    2\n",
            "c    0\n",
            "dtype: int64\n"
          ]
        }
      ]
    },
    {
      "cell_type": "code",
      "source": [
        "my_series = pd.Series({'a':1, 'b':2, 'c':0})\n",
        "print(my_series.sort_values())"
      ],
      "metadata": {
        "colab": {
          "base_uri": "https://localhost:8080/"
        },
        "id": "xnF_iU9div3o",
        "outputId": "406c6951-b030-4b8b-b83d-6db6d1437205"
      },
      "execution_count": null,
      "outputs": [
        {
          "output_type": "stream",
          "name": "stdout",
          "text": [
            "c    0\n",
            "a    1\n",
            "b    2\n",
            "dtype: int64\n"
          ]
        }
      ]
    },
    {
      "cell_type": "markdown",
      "source": [
        "Роль индекса может играть, скажем, последовательность дат или\n",
        "времён измерения и т.д.."
      ],
      "metadata": {
        "id": "3Vk01prJi1OA"
      }
    },
    {
      "cell_type": "code",
      "source": [
        "my_series = pd.date_range('20220101', periods=10)\n",
        "print(my_series)"
      ],
      "metadata": {
        "colab": {
          "base_uri": "https://localhost:8080/"
        },
        "id": "IVQYak7-i18x",
        "outputId": "c3bfc502-6381-47ec-d881-3b984243c745"
      },
      "execution_count": null,
      "outputs": [
        {
          "output_type": "stream",
          "name": "stdout",
          "text": [
            "DatetimeIndex(['2022-01-01', '2022-01-02', '2022-01-03', '2022-01-04',\n",
            "               '2022-01-05', '2022-01-06', '2022-01-07', '2022-01-08',\n",
            "               '2022-01-09', '2022-01-10'],\n",
            "              dtype='datetime64[ns]', freq='D')\n"
          ]
        }
      ]
    },
    {
      "cell_type": "code",
      "source": [
        "import scipy.stats as sps\n",
        "my_series = pd.date_range('20220101', periods=10)\n",
        "my_series1=pd.Series(sps.norm.rvs(size=10), index=my_series)\n",
        "print(my_series1)"
      ],
      "metadata": {
        "colab": {
          "base_uri": "https://localhost:8080/"
        },
        "id": "J_ITPQVsi5Y0",
        "outputId": "11f636b6-d8d8-4654-de0c-bfe0396dce39"
      },
      "execution_count": null,
      "outputs": [
        {
          "output_type": "stream",
          "name": "stdout",
          "text": [
            "2022-01-01   -0.453110\n",
            "2022-01-02   -1.712722\n",
            "2022-01-03    1.225538\n",
            "2022-01-04    1.187567\n",
            "2022-01-05    1.725946\n",
            "2022-01-06    0.963070\n",
            "2022-01-07    0.093490\n",
            "2022-01-08    0.301417\n",
            "2022-01-09    0.638509\n",
            "2022-01-10   -0.280761\n",
            "Freq: D, dtype: float64\n"
          ]
        }
      ]
    },
    {
      "cell_type": "code",
      "source": [
        "import scipy.stats as sps\n",
        "my_series = pd.date_range('20220101', periods=10)\n",
        "my_series1=pd.Series(sps.norm.rvs(size=10), index=my_series)\n",
        "print(my_series1 > 0)"
      ],
      "metadata": {
        "colab": {
          "base_uri": "https://localhost:8080/"
        },
        "id": "6vgAPlbDjABp",
        "outputId": "732ba1d7-5256-4f63-9f17-99d479336431"
      },
      "execution_count": null,
      "outputs": [
        {
          "output_type": "stream",
          "name": "stdout",
          "text": [
            "2022-01-01     True\n",
            "2022-01-02    False\n",
            "2022-01-03     True\n",
            "2022-01-04     True\n",
            "2022-01-05     True\n",
            "2022-01-06    False\n",
            "2022-01-07    False\n",
            "2022-01-08     True\n",
            "2022-01-09     True\n",
            "2022-01-10     True\n",
            "Freq: D, dtype: bool\n"
          ]
        }
      ]
    },
    {
      "cell_type": "markdown",
      "source": [
        "Если такой булев набор использовать для индексации, получится\n",
        "поднабор только из тех данных, для которых условие есть True."
      ],
      "metadata": {
        "id": "mMut45UbjNWt"
      }
    },
    {
      "cell_type": "code",
      "source": [
        "import scipy.stats as sps\n",
        "my_series = pd.date_range('20220101', periods=10)\n",
        "my_series1=pd.Series(sps.norm.rvs(size=10), index=my_series)\n",
        "print(my_series1[my_series1 > 0])"
      ],
      "metadata": {
        "colab": {
          "base_uri": "https://localhost:8080/"
        },
        "id": "DnFuFKiCjMJj",
        "outputId": "59f38920-f7ac-4503-bfbc-4bf0228e1ac6"
      },
      "execution_count": null,
      "outputs": [
        {
          "output_type": "stream",
          "name": "stdout",
          "text": [
            "2022-01-03    0.151799\n",
            "2022-01-04    1.606633\n",
            "2022-01-06    0.309392\n",
            "2022-01-09    0.796887\n",
            "dtype: float64\n"
          ]
        }
      ]
    },
    {
      "cell_type": "markdown",
      "source": [
        "Кумулятивные максимумы — от первого элемента до текущего. Первое\n",
        "значение кумулятивного максимума совпадает с первым значением\n",
        "исходного массива. Далее значение k-го элемента есть максимум среди\n",
        "элементов до k-го включительно."
      ],
      "metadata": {
        "id": "0Va_7fenjbY0"
      }
    },
    {
      "cell_type": "code",
      "source": [
        "s=pd.Series({'a':1,'b':2,'c':0})\n",
        "print(s.cummax())"
      ],
      "metadata": {
        "colab": {
          "base_uri": "https://localhost:8080/"
        },
        "id": "2g2Ex3GljcHt",
        "outputId": "6e2a77dd-bd87-4099-be2c-42da4fb47a5c"
      },
      "execution_count": null,
      "outputs": [
        {
          "output_type": "stream",
          "name": "stdout",
          "text": [
            "a    1\n",
            "b    2\n",
            "c    2\n",
            "dtype: int64\n"
          ]
        }
      ]
    },
    {
      "cell_type": "markdown",
      "source": [
        "Кумулятивные суммы. Первое значение кумулятивной суммы\n",
        "совпадает с первым значением исходного массива. Далее значение k-го\n",
        "элемента есть сумма элементов до k-го включительно."
      ],
      "metadata": {
        "id": "1nqf5XIJjjt0"
      }
    },
    {
      "cell_type": "code",
      "source": [
        "s=pd.Series({'a':1,'b':2,'c':0})\n",
        "print(s.cumsum())"
      ],
      "metadata": {
        "colab": {
          "base_uri": "https://localhost:8080/"
        },
        "id": "j1bD808HjlE0",
        "outputId": "66fbc8df-595f-43a0-b605-c585c9713811"
      },
      "execution_count": null,
      "outputs": [
        {
          "output_type": "stream",
          "name": "stdout",
          "text": [
            "a    1\n",
            "b    3\n",
            "c    3\n",
            "dtype: int64\n"
          ]
        }
      ]
    },
    {
      "cell_type": "markdown",
      "source": [
        "Произвольные функции кумулятивным способом можно считать с\n",
        "помощью конструкции expanding. Например, так можно посчитать\n",
        "кумулятивные медианы. Будет не быстрее, чем вручную, но аккуратнее."
      ],
      "metadata": {
        "id": "BWckUulYj8WH"
      }
    },
    {
      "cell_type": "code",
      "source": [
        "s=pd.Series({'a':1,'b':2,'c':0})\n",
        "print(s.expanding().apply(np.median, raw=True))"
      ],
      "metadata": {
        "colab": {
          "base_uri": "https://localhost:8080/"
        },
        "id": "O04XUyyij9k3",
        "outputId": "8c84b530-f552-429b-c332-b87edfc299d2"
      },
      "execution_count": null,
      "outputs": [
        {
          "output_type": "stream",
          "name": "stdout",
          "text": [
            "a    1.0\n",
            "b    1.5\n",
            "c    1.0\n",
            "dtype: float64\n"
          ]
        }
      ]
    },
    {
      "cell_type": "code",
      "source": [
        "s=pd.Series({'a':1,'b':2,'c':0})\n",
        "print(s.diff())"
      ],
      "metadata": {
        "colab": {
          "base_uri": "https://localhost:8080/"
        },
        "id": "sqjN7zrHj_w3",
        "outputId": "9d7f3715-f4d0-4a05-e1d8-e14bb337d48e"
      },
      "execution_count": null,
      "outputs": [
        {
          "output_type": "stream",
          "name": "stdout",
          "text": [
            "a    NaN\n",
            "b    1.0\n",
            "c   -2.0\n",
            "dtype: float64\n"
          ]
        }
      ]
    },
    {
      "cell_type": "code",
      "source": [
        "s=pd.Series({'a':1,'b':2,'c':0})\n",
        "print(s.diff().dropna())"
      ],
      "metadata": {
        "colab": {
          "base_uri": "https://localhost:8080/"
        },
        "id": "JnvDTspVkNMO",
        "outputId": "6a212dac-cd68-45eb-e636-87631cfabf76"
      },
      "execution_count": null,
      "outputs": [
        {
          "output_type": "stream",
          "name": "stdout",
          "text": [
            "b    1.0\n",
            "c   -2.0\n",
            "dtype: float64\n"
          ]
        }
      ]
    },
    {
      "cell_type": "markdown",
      "source": [
        "Упражнение. Посчитайте кумулятивное среднее квадратов разностей\n",
        "соседних элементов набора s."
      ],
      "metadata": {
        "id": "lA_VlGyRkRpY"
      }
    },
    {
      "cell_type": "code",
      "source": [
        "s=pd.Series({'a':1,'b':2,'c':0})\n",
        "# ВАШ КОД\n",
        "s1=s.diff().dropna().expanding().apply(lambda x: np.mean(x**2))\n",
        "print(s1)"
      ],
      "metadata": {
        "colab": {
          "base_uri": "https://localhost:8080/"
        },
        "id": "0tDwNU-SkTLY",
        "outputId": "a3bc44e7-378d-40b2-f011-9d7d361b4cd8"
      },
      "execution_count": null,
      "outputs": [
        {
          "output_type": "stream",
          "name": "stdout",
          "text": [
            "b    1.0\n",
            "c    2.5\n",
            "dtype: float64\n"
          ]
        }
      ]
    },
    {
      "cell_type": "code",
      "source": [
        "import matplotlib.pyplot as plt\n",
        "import scipy.stats as sps\n",
        "#matplotlib inline\n",
        "# Нужно для новых версий библиотек для преобразования дат\n",
        "from pandas.plotting import register_matplotlib_converters\n",
        "\n",
        "register_matplotlib_converters()\n",
        "d = pd.date_range('20220101', periods=10)\n",
        "s = pd.Series(sps.norm.rvs(size=10), index=d)\n",
        "plt.figure(figsize=(15, 4))\n",
        "plt.plot(s)\n",
        "plt.show()"
      ],
      "metadata": {
        "colab": {
          "base_uri": "https://localhost:8080/",
          "height": 194
        },
        "id": "OlAg-IvekYIg",
        "outputId": "3874606b-ef50-40e6-9bce-9e81215eee67"
      },
      "execution_count": null,
      "outputs": [
        {
          "output_type": "display_data",
          "data": {
            "text/plain": [
              "<Figure size 1080x288 with 1 Axes>"
            ],
            "image/png": "[encoded data removed]"
          },
          "metadata": {
            "needs_background": "light"
          }
        }
      ]
    },
    {
      "cell_type": "markdown",
      "source": [
        "Pandas DataFrame — это двумерный массив, похожий на таблицу/лист\n",
        "Excel (кстати, данные из Excel можно читать с помощью команды\n",
        "pandas.read_excel(‘file.xls’)). В нем можно проводить такие же манипуляции с\n",
        "данными: объединять в группы, сортировать по определенному признаку,\n",
        "производить вычисления. Как любая таблица, датафрейм состоит из столбцов\n",
        "и строк, причем столбцами будут уже известные объекты — Series.\n",
        "\n",
        "DataFrame составлен из объектов Series — одномерных массивов,\n",
        "объединенных под одним названием и типом данных. Series можно\n",
        "рассматривать как столбец таблицы.\n",
        "\n",
        "![image.png](data:image/png;base64,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)"
      ],
      "metadata": {
        "id": "Yh9UqRifkndw"
      }
    },
    {
      "cell_type": "code",
      "source": [
        "df = pd.DataFrame({\n",
        "    'country': ['Kazakhstan', 'Russia', 'Belarus', 'Tajikistaan'],\n",
        "    'population': [17.04, 143.5, 9.5, 10.5],\n",
        "    'square': [2724902, 17125191, 207600, 143000]\n",
        "    })\n",
        "print(df)"
      ],
      "metadata": {
        "colab": {
          "base_uri": "https://localhost:8080/"
        },
        "id": "wDxOJAptks2I",
        "outputId": "bc6ddb99-b626-41ea-eff3-b0d6c4ffd59e"
      },
      "execution_count": null,
      "outputs": [
        {
          "output_type": "stream",
          "name": "stdout",
          "text": [
            "       country  population    square\n",
            "0   Kazakhstan       17.04   2724902\n",
            "1       Russia      143.50  17125191\n",
            "2      Belarus        9.50    207600\n",
            "3  Tajikistaan       10.50    143000\n"
          ]
        }
      ]
    },
    {
      "cell_type": "markdown",
      "source": [
        "В итоге получится простая серия, в которой сохранятся те же индексы\n",
        "по строкам, что и в исходном датафрейме."
      ],
      "metadata": {
        "id": "eNogHS9BlEmR"
      }
    },
    {
      "cell_type": "code",
      "source": [
        "df = pd.DataFrame({\n",
        "    'country': ['Kazakhstan', 'Russia', 'Belarus', 'Tajikistaan'],\n",
        "    'population': [17.04, 143.5, 9.5, 10.5],\n",
        "    'square': [2724902, 17125191, 207600, 143000]\n",
        "    })\n",
        "print(df['country'])"
      ],
      "metadata": {
        "colab": {
          "base_uri": "https://localhost:8080/"
        },
        "id": "4iWZdeZAlGaZ",
        "outputId": "8951d143-70e7-4642-e5bd-5f1db820088b"
      },
      "execution_count": null,
      "outputs": [
        {
          "output_type": "stream",
          "name": "stdout",
          "text": [
            "0     Kazakhstan\n",
            "1         Russia\n",
            "2        Belarus\n",
            "3    Tajikistaan\n",
            "Name: country, dtype: object\n"
          ]
        }
      ]
    },
    {
      "cell_type": "markdown",
      "source": [
        "Кроме этого, у датафрейма есть индексы по столбцам, которые\n",
        "задаются вручную. Для простоты написания кода обозначим страны\n",
        "индексами из двух символов: Kazakhstan — KZ, Russia — RU и так далее:\n",
        "\n"
      ],
      "metadata": {
        "id": "cSIlC7W_lcJB"
      }
    },
    {
      "cell_type": "code",
      "source": [
        "df = pd.DataFrame({\n",
        "  'country': ['Kazakhstan', 'Russia', 'Belarus', 'Tajikistan'],\n",
        "  'population': [17.04, 143.5, 9.5, 10.5],\n",
        "  'square': [2724902, 17125191, 207600, 143000]\n",
        "  }, index=['KZ', 'RU', 'BY', 'TJ'])\n",
        "print(df)"
      ],
      "metadata": {
        "colab": {
          "base_uri": "https://localhost:8080/"
        },
        "id": "1DJpCi3elca5",
        "outputId": "e0e35ef5-4899-4d99-c3c6-ba4297d8a9c6"
      },
      "execution_count": null,
      "outputs": [
        {
          "output_type": "stream",
          "name": "stdout",
          "text": [
            "       country  population    square\n",
            "KZ  Kazakhstan       17.04   2724902\n",
            "RU      Russia      143.50  17125191\n",
            "BY     Belarus        9.50    207600\n",
            "TJ  Tajikistan       10.50    143000\n"
          ]
        }
      ]
    },
    {
      "cell_type": "markdown",
      "source": [
        "По индексам можно искать объекты и делать выборку, как в Series.\n",
        "Возьмем тот же датафрейм и сделаем выборку по индексам KZ, RU и\n",
        "колонке population методом .loc (в случае .loc мы используем квадратные\n",
        "скобки, а не круглые, как с другими методами), чтобы сравнить население\n",
        "двух стран:"
      ],
      "metadata": {
        "id": "mlAfw52qlyC8"
      }
    },
    {
      "cell_type": "code",
      "source": [
        "df = pd.DataFrame({\n",
        "  'country': ['Kazakhstan', 'Russia', 'Belarus', 'Tajikistan'],\n",
        "  'population': [17.04, 143.5, 9.5, 10.5],\n",
        "  'square': [2724902, 17125191, 207600, 143000]\n",
        "  }, index=['KZ', 'RU', 'BY', 'TJ'])\n",
        "print(df.loc[['KZ', 'RU'], 'population'])"
      ],
      "metadata": {
        "colab": {
          "base_uri": "https://localhost:8080/"
        },
        "id": "5t43DjiTl0iy",
        "outputId": "e43f7dc2-0b38-456b-c922-c2bec1f4b326"
      },
      "execution_count": null,
      "outputs": [
        {
          "output_type": "stream",
          "name": "stdout",
          "text": [
            "KZ     17.04\n",
            "RU    143.50\n",
            "Name: population, dtype: float64\n"
          ]
        }
      ]
    },
    {
      "cell_type": "markdown",
      "source": [
        "Также в DataFrame производят математические вычисления. Например,\n",
        "рассчитаем плотность населения каждой страны в нашем датафрейме.\n",
        "Данные в колонке population (численность населения) делим на square\n",
        "(площадь) и получаем новые данные в колонке density, которые показывают\n",
        "плотность населения:"
      ],
      "metadata": {
        "id": "SS8D4P2Fl_MY"
      }
    },
    {
      "cell_type": "code",
      "source": [
        "df = pd.DataFrame({\n",
        "  'country': ['Kazakhstan', 'Russia', 'Belarus', 'Tajikistan'],\n",
        "  'population': [17.04, 143.5, 9.5, 10.5],\n",
        "  'square': [2724902, 17125191, 207600, 143000]\n",
        "  }, index=['KZ', 'RU', 'BY', 'TJ'])\n",
        "df['density'] = df['population'] / df['square'] * 1000000\n",
        "print(df)"
      ],
      "metadata": {
        "colab": {
          "base_uri": "https://localhost:8080/"
        },
        "id": "QznlqNDVmAaw",
        "outputId": "25255518-2b1a-40d1-84a7-34c7fd903967"
      },
      "execution_count": null,
      "outputs": [
        {
          "output_type": "stream",
          "name": "stdout",
          "text": [
            "       country  population    square    density\n",
            "KZ  Kazakhstan       17.04   2724902   6.253436\n",
            "RU      Russia      143.50  17125191   8.379469\n",
            "BY     Belarus        9.50    207600  45.761079\n",
            "TJ  Tajikistan       10.50    143000  73.426573\n"
          ]
        }
      ]
    },
    {
      "cell_type": "code",
      "source": [
        "df = pd.DataFrame({\n",
        "  'country': ['Kazakhstan', 'Russia', 'Belarus', 'Tajikistan'],\n",
        "  'population': [17.04, 143.5, 9.5, 10.5],\n",
        "  'square': [2724902, 17125191, 207600, 143000]\n",
        "  }, index=['KZ', 'RU', 'BY', 'TJ'])\n",
        "df['density'] = df['population'] / df['square'] * 1000000\n",
        "print(df.dtypes)"
      ],
      "metadata": {
        "colab": {
          "base_uri": "https://localhost:8080/"
        },
        "id": "SQAhG5SxmV7n",
        "outputId": "fe1e72a0-d9dd-4f3e-f8e1-8759c5cc0a13"
      },
      "execution_count": null,
      "outputs": [
        {
          "output_type": "stream",
          "name": "stdout",
          "text": [
            "country        object\n",
            "population    float64\n",
            "square          int64\n",
            "density       float64\n",
            "dtype: object\n"
          ]
        }
      ]
    },
    {
      "cell_type": "code",
      "source": [
        "import scipy.stats as sps\n",
        "d = {'one': pd.Series(range(6), index=list('abcdef')),\n",
        "    'two': pd.Series(range(7), index=list('abcdefg')),\n",
        "    'three': pd.Series(sps.norm.rvs(size=7), index=list('abcdefg'))}\n",
        "df = pd.DataFrame(d)\n",
        "print(df)"
      ],
      "metadata": {
        "colab": {
          "base_uri": "https://localhost:8080/"
        },
        "id": "GehffecCmbh3",
        "outputId": "8283b4fe-f08a-4c58-f5d7-111633494906"
      },
      "execution_count": null,
      "outputs": [
        {
          "output_type": "stream",
          "name": "stdout",
          "text": [
            "   one  two     three\n",
            "a  0.0    0  0.777711\n",
            "b  1.0    1  1.610418\n",
            "c  2.0    2 -0.368943\n",
            "d  3.0    3  0.915573\n",
            "e  4.0    4 -2.258713\n",
            "f  5.0    5  0.508738\n",
            "g  NaN    6  1.691906\n"
          ]
        }
      ]
    },
    {
      "cell_type": "code",
      "source": [
        "d = {'one': pd.Series(range(6), index=list('abcdef')),\n",
        "    'two': pd.Series(range(7), index=list('abcdefg')),\n",
        "    'three': pd.Series(sps.norm.rvs(size=7), index=list('abcdefg'))}\n",
        "df = pd.DataFrame(d)\n",
        "print(df.head())"
      ],
      "metadata": {
        "colab": {
          "base_uri": "https://localhost:8080/"
        },
        "id": "TEFEjKeHogkz",
        "outputId": "909bb180-4ad4-4a91-db5b-a66c87494c2b"
      },
      "execution_count": null,
      "outputs": [
        {
          "output_type": "stream",
          "name": "stdout",
          "text": [
            "   one  two     three\n",
            "a  0.0    0 -0.549202\n",
            "b  1.0    1  0.591109\n",
            "c  2.0    2 -0.483116\n",
            "d  3.0    3 -0.555584\n",
            "e  4.0    4 -2.024187\n"
          ]
        }
      ]
    },
    {
      "cell_type": "markdown",
      "source": [
        "**Индексы**"
      ],
      "metadata": {
        "id": "OhqkMc9Lofci"
      }
    },
    {
      "cell_type": "code",
      "source": [
        "d = {'one': pd.Series(range(6), index=list('abcdef')),\n",
        "    'two': pd.Series(range(7), index=list('abcdefg')),\n",
        "    'three': pd.Series(sps.norm.rvs(size=7), index=list('abcdefg'))}\n",
        "df = pd.DataFrame(d)\n",
        "print(df.index)"
      ],
      "metadata": {
        "colab": {
          "base_uri": "https://localhost:8080/"
        },
        "id": "8izio2Kxoq8q",
        "outputId": "e875acb6-142d-4e55-be53-849b5179936e"
      },
      "execution_count": null,
      "outputs": [
        {
          "output_type": "stream",
          "name": "stdout",
          "text": [
            "Index(['a', 'b', 'c', 'd', 'e', 'f', 'g'], dtype='object')\n"
          ]
        }
      ]
    },
    {
      "cell_type": "markdown",
      "source": [
        "**Названия колонок**"
      ],
      "metadata": {
        "id": "2BzKsRF_oyE7"
      }
    },
    {
      "cell_type": "code",
      "source": [
        "d = {'one': pd.Series(range(6), index=list('abcdef')),\n",
        "    'two': pd.Series(range(7), index=list('abcdefg')),\n",
        "    'three': pd.Series(sps.norm.rvs(size=7), index=list('abcdefg'))}\n",
        "df = pd.DataFrame(d)\n",
        "print(df.columns)"
      ],
      "metadata": {
        "colab": {
          "base_uri": "https://localhost:8080/"
        },
        "id": "VALt8o__ow5a",
        "outputId": "6aa693cc-8f3e-415c-9d8b-cbf888c8210c"
      },
      "execution_count": null,
      "outputs": [
        {
          "output_type": "stream",
          "name": "stdout",
          "text": [
            "Index(['one', 'two', 'three'], dtype='object')\n"
          ]
        }
      ]
    },
    {
      "cell_type": "markdown",
      "source": [
        "Получение обычной матрицы данных"
      ],
      "metadata": {
        "id": "KLDVhSS8o5zz"
      }
    },
    {
      "cell_type": "code",
      "source": [
        "d = {'one': pd.Series(range(6), index=list('abcdef')),\n",
        "    'two': pd.Series(range(7), index=list('abcdefg')),\n",
        "    'three': pd.Series(sps.norm.rvs(size=7), index=list('abcdefg'))}\n",
        "df = pd.DataFrame(d)\n",
        "print(df.values)"
      ],
      "metadata": {
        "colab": {
          "base_uri": "https://localhost:8080/"
        },
        "id": "Zt1vtTeao6Lj",
        "outputId": "990d9ca0-9899-441c-a0c4-4ff2b762edf4"
      },
      "execution_count": null,
      "outputs": [
        {
          "output_type": "stream",
          "name": "stdout",
          "text": [
            "[[ 0.          0.          0.32220461]\n",
            " [ 1.          1.          1.36375525]\n",
            " [ 2.          2.          1.65107424]\n",
            " [ 3.          3.          1.38318822]\n",
            " [ 4.          4.          0.02556413]\n",
            " [ 5.          5.         -1.15470279]\n",
            " [        nan  6.         -0.32731483]]\n"
          ]
        }
      ]
    },
    {
      "cell_type": "markdown",
      "source": [
        "Описательные статистики"
      ],
      "metadata": {
        "id": "lRilLv-mo_fq"
      }
    },
    {
      "cell_type": "code",
      "source": [
        "d = {'one': pd.Series(range(6), index=list('abcdef')),\n",
        "    'two': pd.Series(range(7), index=list('abcdefg')),\n",
        "    'three': pd.Series(sps.norm.rvs(size=7), index=list('abcdefg'))}\n",
        "df = pd.DataFrame(d)\n",
        "print(df.describe())"
      ],
      "metadata": {
        "colab": {
          "base_uri": "https://localhost:8080/"
        },
        "id": "dg-k7omUo_5a",
        "outputId": "b499a798-a069-4596-ae65-899dd68c1e3c"
      },
      "execution_count": null,
      "outputs": [
        {
          "output_type": "stream",
          "name": "stdout",
          "text": [
            "            one       two     three\n",
            "count  6.000000  7.000000  7.000000\n",
            "mean   2.500000  3.000000  1.048609\n",
            "std    1.870829  2.160247  0.762996\n",
            "min    0.000000  0.000000  0.103844\n",
            "25%    1.250000  1.500000  0.357047\n",
            "50%    2.500000  3.000000  1.275216\n",
            "75%    3.750000  4.500000  1.700036\n",
            "max    5.000000  6.000000  1.847038\n"
          ]
        }
      ]
    },
    {
      "cell_type": "markdown",
      "source": [
        "Транспонирование данных"
      ],
      "metadata": {
        "id": "aPF1ZyaRpJPi"
      }
    },
    {
      "cell_type": "code",
      "source": [
        "d = {'one': pd.Series(range(6), index=list('abcdef')),\n",
        "'two': pd.Series(range(7), index=list('abcdefg')),\n",
        "'three': pd.Series(sps.norm.rvs(size=7), index=list('abcdefg'))}\n",
        "df = pd.DataFrame(d)\n",
        "print(df.T)"
      ],
      "metadata": {
        "colab": {
          "base_uri": "https://localhost:8080/"
        },
        "id": "KMLi-YjlpJiT",
        "outputId": "9225938b-0974-4547-de97-16ca30130ade"
      },
      "execution_count": null,
      "outputs": [
        {
          "output_type": "stream",
          "name": "stdout",
          "text": [
            "              a         b        c         d         e         f         g\n",
            "one    0.000000  1.000000  2.00000  3.000000  4.000000  5.000000       NaN\n",
            "two    0.000000  1.000000  2.00000  3.000000  4.000000  5.000000  6.000000\n",
            "three  0.421877  0.874184 -0.01199  2.177418  0.497238  0.383777 -1.561713\n"
          ]
        }
      ]
    },
    {
      "cell_type": "markdown",
      "source": [
        "Сортировка по столбцу"
      ],
      "metadata": {
        "id": "W1lypNAXpPWX"
      }
    },
    {
      "cell_type": "code",
      "source": [
        "d = {'one': pd.Series(range(6), index=list('abcdef')),\n",
        "    'two': pd.Series(range(7), index=list('abcdefg')),\n",
        "    'three': pd.Series(sps.norm.rvs(size=7), index=list('abcdefg'))}\n",
        "df = pd.DataFrame(d)\n",
        "print(df.sort_values(by='three', ascending=False))"
      ],
      "metadata": {
        "colab": {
          "base_uri": "https://localhost:8080/"
        },
        "id": "QCdipPNQpPu7",
        "outputId": "7bce5b65-7c5d-44d5-9cc8-b8ea30c18f63"
      },
      "execution_count": null,
      "outputs": [
        {
          "output_type": "stream",
          "name": "stdout",
          "text": [
            "   one  two     three\n",
            "d  3.0    3 -0.013663\n",
            "f  5.0    5 -0.142469\n",
            "e  4.0    4 -0.326314\n",
            "a  0.0    0 -0.901321\n",
            "g  NaN    6 -1.003534\n",
            "b  1.0    1 -1.112060\n",
            "c  2.0    2 -1.401330\n"
          ]
        }
      ]
    },
    {
      "cell_type": "markdown",
      "source": [
        "**Упражнение: Сгенерируйте массив точек в 3D, создайте по нему\n",
        "датафрейм и отсортируйте строки лексикографически.**\n",
        "\n"
      ],
      "metadata": {
        "id": "akMz1WSzpZ3p"
      }
    },
    {
      "cell_type": "code",
      "source": [
        "df=pd.DataFrame(\n",
        "    sps.norm.rvs(size=(100, 3)),\n",
        "    columns=['x', 'y', 'z']\n",
        ").sort_values(by=['x', 'y', 'z'])\n",
        "print(df)"
      ],
      "metadata": {
        "colab": {
          "base_uri": "https://localhost:8080/"
        },
        "id": "2puRwHtmpaWZ",
        "outputId": "5a1620a3-36a6-4300-fc35-806751da792d"
      },
      "execution_count": null,
      "outputs": [
        {
          "output_type": "stream",
          "name": "stdout",
          "text": [
            "           x         y         z\n",
            "27 -2.813716 -0.698611 -1.399773\n",
            "54 -2.534012 -0.707968 -1.332705\n",
            "47 -1.777053 -0.238234 -0.708636\n",
            "31 -1.724104 -1.482811  0.676428\n",
            "48 -1.670478  0.790050 -1.186625\n",
            "..       ...       ...       ...\n",
            "29  1.880625 -1.864456  1.324644\n",
            "83  1.903733  1.385254 -0.423981\n",
            "1   1.964693 -2.332247  0.173782\n",
            "87  2.047304  0.679984 -0.383232\n",
            "75  2.509746 -0.494950 -0.843580\n",
            "\n",
            "[100 rows x 3 columns]\n"
          ]
        }
      ]
    },
    {
      "cell_type": "markdown",
      "source": [
        "**2.2 Индексация**\n",
        "\n",
        "\n",
        "---\n",
        "\n",
        "В отличии от обычной системы индексации в Python и Numpy, в Pandas\n",
        "принята иная система индексации, которая является несколько нелогичной,\n",
        "однако, на практике часто оказывается удобной при обработке сильно\n",
        "неоднородных данных. Для написания продуктивного кода при обработке\n",
        "большого объема данных стоит использовать атрибуты .at, .iat, .loc, .iloc, .ix.\n",
        "\n",
        "Если в качестве индекса указать имя столбца, получится одномерный\n",
        "набор данных типа Series."
      ],
      "metadata": {
        "id": "fDa4LVX6ppvQ"
      }
    },
    {
      "cell_type": "code",
      "source": [
        "d = {'one': pd.Series(range(6), index=list('abcdef')),\n",
        "    'two': pd.Series(range(7), index=list('abcdefg')),\n",
        "    'three': pd.Series(sps.norm.rvs(size=7), index=list('abcdefg'))}\n",
        "df = pd.DataFrame(d)\n",
        "print(df['one'])"
      ],
      "metadata": {
        "colab": {
          "base_uri": "https://localhost:8080/"
        },
        "id": "ETzcTO5Rpuhb",
        "outputId": "19ff05b1-e295-4aeb-8415-02b1a5902607"
      },
      "execution_count": null,
      "outputs": [
        {
          "output_type": "stream",
          "name": "stdout",
          "text": [
            "a    0.0\n",
            "b    1.0\n",
            "c    2.0\n",
            "d    3.0\n",
            "e    4.0\n",
            "f    5.0\n",
            "g    NaN\n",
            "Name: one, dtype: float64\n"
          ]
        }
      ]
    },
    {
      "cell_type": "markdown",
      "source": [
        "К столбцу можно обращаться как к полю объекта, если имя столбца\n",
        "позволяет это сделать."
      ],
      "metadata": {
        "id": "Pkwq8ObHp0Ia"
      }
    },
    {
      "cell_type": "code",
      "source": [
        "d = {'one': pd.Series(range(6), index=list('abcdef')),\n",
        "    'two': pd.Series(range(7), index=list('abcdefg')),\n",
        "    'three': pd.Series(sps.norm.rvs(size=7), index=list('abcdefg'))}\n",
        "df = pd.DataFrame(d)\n",
        "print(df.one)"
      ],
      "metadata": {
        "colab": {
          "base_uri": "https://localhost:8080/"
        },
        "id": "t-UHeDvZp0gN",
        "outputId": "bb927c38-9ddc-489b-eefe-c499ff7867ad"
      },
      "execution_count": null,
      "outputs": [
        {
          "output_type": "stream",
          "name": "stdout",
          "text": [
            "a    0.0\n",
            "b    1.0\n",
            "c    2.0\n",
            "d    3.0\n",
            "e    4.0\n",
            "f    5.0\n",
            "g    NaN\n",
            "Name: one, dtype: float64\n"
          ]
        }
      ]
    },
    {
      "cell_type": "markdown",
      "source": [
        "Индексы полученного одномерного набора данных."
      ],
      "metadata": {
        "id": "2QPLRJVyp-qa"
      }
    },
    {
      "cell_type": "code",
      "source": [
        "d = {'one': pd.Series(range(6), index=list('abcdef')),\n",
        "    'two': pd.Series(range(7), index=list('abcdefg')),\n",
        "    'three': pd.Series(sps.norm.rvs(size=7), index=list('abcdefg'))}\n",
        "df = pd.DataFrame(d)\n",
        "print(df['one'].index)"
      ],
      "metadata": {
        "colab": {
          "base_uri": "https://localhost:8080/"
        },
        "id": "xGQh4JsYp-5a",
        "outputId": "c2b5e7a4-93ff-4c16-feb1-76cec313d96c"
      },
      "execution_count": null,
      "outputs": [
        {
          "output_type": "stream",
          "name": "stdout",
          "text": [
            "Index(['a', 'b', 'c', 'd', 'e', 'f', 'g'], dtype='object')\n"
          ]
        }
      ]
    },
    {
      "cell_type": "markdown",
      "source": [
        "У данного столбца есть имя, его можно получить следующим образом."
      ],
      "metadata": {
        "id": "sS-iq53RqE_8"
      }
    },
    {
      "cell_type": "code",
      "source": [
        "d = {'one': pd.Series(range(6), index=list('abcdef')),\n",
        "    'two': pd.Series(range(7), index=list('abcdefg')),\n",
        "    'three': pd.Series(sps.norm.rvs(size=7), index=list('abcdefg'))}\n",
        "df = pd.DataFrame(d)\n",
        "print(df['one'].name)"
      ],
      "metadata": {
        "colab": {
          "base_uri": "https://localhost:8080/"
        },
        "id": "5BXaJk-HqFZM",
        "outputId": "fd6393a8-65a3-48f5-b2bf-4f02a791435e"
      },
      "execution_count": null,
      "outputs": [
        {
          "output_type": "stream",
          "name": "stdout",
          "text": [
            "one\n"
          ]
        }
      ]
    },
    {
      "cell_type": "markdown",
      "source": [
        "Получение элемента массива"
      ],
      "metadata": {
        "id": "xkecUgRzqK0S"
      }
    },
    {
      "cell_type": "code",
      "source": [
        "d = {'one': pd.Series(range(6), index=list('abcdef')),\n",
        "    'two': pd.Series(range(7), index=list('abcdefg')),\n",
        "    'three': pd.Series(sps.norm.rvs(size=7), index=list('abcdefg'))}\n",
        "df = pd.DataFrame(d)\n",
        "print(df['one']['c'])"
      ],
      "metadata": {
        "colab": {
          "base_uri": "https://localhost:8080/"
        },
        "id": "qXmjGab_qLEi",
        "outputId": "cb79970c-0ce0-4dd7-d22e-4658c009cf5f"
      },
      "execution_count": null,
      "outputs": [
        {
          "output_type": "stream",
          "name": "stdout",
          "text": [
            "2.0\n"
          ]
        }
      ]
    },
    {
      "cell_type": "markdown",
      "source": [
        "Правила индексации в pandas несколько отличаются от общепринятых.\n",
        "Если указать диапазон индексов, то это означает диапазон строк. Причём\n",
        "последняя строка включается в таблицу."
      ],
      "metadata": {
        "id": "QQg8ga6jqR48"
      }
    },
    {
      "cell_type": "code",
      "source": [
        "d = {'one': pd.Series(range(6), index=list('abcdef')),\n",
        "    'two': pd.Series(range(7), index=list('abcdefg')),\n",
        "    'three': pd.Series(sps.norm.rvs(size=7), index=list('abcdefg'))}\n",
        "df = pd.DataFrame(d)\n",
        "print(df['b':'d'])"
      ],
      "metadata": {
        "colab": {
          "base_uri": "https://localhost:8080/"
        },
        "id": "bskRR_GGqSH1",
        "outputId": "c7590960-24ba-4b1e-ed4d-3fa6784d1809"
      },
      "execution_count": null,
      "outputs": [
        {
          "output_type": "stream",
          "name": "stdout",
          "text": [
            "   one  two     three\n",
            "b  1.0    1 -1.348743\n",
            "c  2.0    2  0.313482\n",
            "d  3.0    3 -0.820824\n"
          ]
        }
      ]
    },
    {
      "cell_type": "markdown",
      "source": [
        "Диапазон целых чисел даёт диапазон строк с такими номерами, не\n",
        "включая последнюю строку (как обычно при индексировании списков). Всё\n",
        "это кажется довольно нелогичным, хотя и удобно на практике."
      ],
      "metadata": {
        "id": "wPiPPT2VqcWi"
      }
    },
    {
      "cell_type": "code",
      "source": [
        "d = {'one': pd.Series(range(6), index=list('abcdef')),\n",
        "    'two': pd.Series(range(7), index=list('abcdefg')),\n",
        "    'three': pd.Series(sps.norm.rvs(size=7), index=list('abcdefg'))}\n",
        "df = pd.DataFrame(d)\n",
        "print(df[1:3])"
      ],
      "metadata": {
        "colab": {
          "base_uri": "https://localhost:8080/"
        },
        "id": "x7EOPnkkqcsO",
        "outputId": "630e716e-f2be-4941-d87a-e2ed34c7fd1d"
      },
      "execution_count": null,
      "outputs": [
        {
          "output_type": "stream",
          "name": "stdout",
          "text": [
            "   one  two     three\n",
            "b  1.0    1 -1.129813\n",
            "c  2.0    2  0.659945\n"
          ]
        }
      ]
    },
    {
      "cell_type": "markdown",
      "source": [
        "Логичнее работает атрибут loc: первая позиция — всегда индекс\n",
        "строки, а вторая — столбца."
      ],
      "metadata": {
        "id": "LSvsRb6OqnlC"
      }
    },
    {
      "cell_type": "code",
      "source": [
        "d = {'one': pd.Series(range(6), index=list('abcdef')),\n",
        "    'two': pd.Series(range(7), index=list('abcdefg')),\n",
        "    'three': pd.Series(sps.norm.rvs(size=7), index=list('abcdefg'))}\n",
        "df = pd.DataFrame(d)\n",
        "print(df.loc['b'])"
      ],
      "metadata": {
        "colab": {
          "base_uri": "https://localhost:8080/"
        },
        "id": "x-SMtamgqovK",
        "outputId": "df0f0ae2-3751-4882-c03b-027c5a6e82ae"
      },
      "execution_count": null,
      "outputs": [
        {
          "output_type": "stream",
          "name": "stdout",
          "text": [
            "one      1.000000\n",
            "two      1.000000\n",
            "three   -0.395804\n",
            "Name: b, dtype: float64\n"
          ]
        }
      ]
    },
    {
      "cell_type": "code",
      "source": [
        "d = {'one': pd.Series(range(6), index=list('abcdef')),\n",
        "    'two': pd.Series(range(7), index=list('abcdefg')),\n",
        "    'three': pd.Series(sps.norm.rvs(size=7), index=list('abcdefg'))}\n",
        "df = pd.DataFrame(d)\n",
        "print(df.loc['b','one'])"
      ],
      "metadata": {
        "colab": {
          "base_uri": "https://localhost:8080/"
        },
        "id": "dN0fMYd1qvWv",
        "outputId": "110dfeec-c8bf-40c5-d5d7-5c4def8df2b2"
      },
      "execution_count": null,
      "outputs": [
        {
          "output_type": "stream",
          "name": "stdout",
          "text": [
            "1.0\n"
          ]
        }
      ]
    },
    {
      "cell_type": "code",
      "source": [
        "d = {'one': pd.Series(range(6), index=list('abcdef')),\n",
        "    'two': pd.Series(range(7), index=list('abcdefg')),\n",
        "    'three': pd.Series(sps.norm.rvs(size=7), index=list('abcdefg'))}\n",
        "df = pd.DataFrame(d)\n",
        "print(df.loc['a':'d', 'one'])"
      ],
      "metadata": {
        "colab": {
          "base_uri": "https://localhost:8080/"
        },
        "id": "6cLZTzm9qzYN",
        "outputId": "6a168ad8-d264-4885-9cb2-2bb7fd808e47"
      },
      "execution_count": null,
      "outputs": [
        {
          "output_type": "stream",
          "name": "stdout",
          "text": [
            "a    0.0\n",
            "b    1.0\n",
            "c    2.0\n",
            "d    3.0\n",
            "Name: one, dtype: float64\n"
          ]
        }
      ]
    },
    {
      "cell_type": "code",
      "source": [
        "d = {'one': pd.Series(range(6), index=list('abcdef')),\n",
        "    'two': pd.Series(range(7), index=list('abcdefg')),\n",
        "    'three': pd.Series(sps.norm.rvs(size=7), index=list('abcdefg'))}\n",
        "df = pd.DataFrame(d)\n",
        "print(df.loc['a':'b', :])"
      ],
      "metadata": {
        "colab": {
          "base_uri": "https://localhost:8080/"
        },
        "id": "3vXXu2nLq9jh",
        "outputId": "ba605ab4-c470-45d8-8721-393fe9528737"
      },
      "execution_count": null,
      "outputs": [
        {
          "output_type": "stream",
          "name": "stdout",
          "text": [
            "   one  two     three\n",
            "a  0.0    0 -0.877501\n",
            "b  1.0    1 -1.735095\n"
          ]
        }
      ]
    },
    {
      "cell_type": "code",
      "source": [
        "d = {'one': pd.Series(range(6), index=list('abcdef')),\n",
        "    'two': pd.Series(range(7), index=list('abcdefg')),\n",
        "    'three': pd.Series(sps.norm.rvs(size=7), index=list('abcdefg'))}\n",
        "df = pd.DataFrame(d)\n",
        "print(df.loc[:,'one'])"
      ],
      "metadata": {
        "colab": {
          "base_uri": "https://localhost:8080/"
        },
        "id": "H3eGtdRArDDN",
        "outputId": "0999211a-c1d7-4ffd-91fd-2daf2727bf7a"
      },
      "execution_count": null,
      "outputs": [
        {
          "output_type": "stream",
          "name": "stdout",
          "text": [
            "a    0.0\n",
            "b    1.0\n",
            "c    2.0\n",
            "d    3.0\n",
            "e    4.0\n",
            "f    5.0\n",
            "g    NaN\n",
            "Name: one, dtype: float64\n"
          ]
        }
      ]
    },
    {
      "cell_type": "markdown",
      "source": [
        "Атрибут iloc подобен loc: первый индекс — номер строки, второй —\n",
        "номер столбца. Это целые числа, конец диапазона не включается как обычно\n",
        "в питоне."
      ],
      "metadata": {
        "id": "Ws1vNnCWrH_V"
      }
    },
    {
      "cell_type": "code",
      "source": [
        "d = {'one': pd.Series(range(6), index=list('abcdef')),\n",
        "    'two': pd.Series(range(7), index=list('abcdefg')),\n",
        "    'three': pd.Series(sps.norm.rvs(size=7), index=list('abcdefg'))}\n",
        "df = pd.DataFrame(d)\n",
        "print(df.iloc[2])"
      ],
      "metadata": {
        "colab": {
          "base_uri": "https://localhost:8080/"
        },
        "id": "qtbOX97hrIQt",
        "outputId": "7992e45c-7e8c-4827-ea99-4e9f7fdec8cc"
      },
      "execution_count": null,
      "outputs": [
        {
          "output_type": "stream",
          "name": "stdout",
          "text": [
            "one      2.000000\n",
            "two      2.000000\n",
            "three    1.941686\n",
            "Name: c, dtype: float64\n"
          ]
        }
      ]
    },
    {
      "cell_type": "code",
      "source": [
        "d = {'one': pd.Series(range(6), index=list('abcdef')),\n",
        "    'two': pd.Series(range(7), index=list('abcdefg')),\n",
        "    'three': pd.Series(sps.norm.rvs(size=7), index=list('abcdefg'))}\n",
        "df = pd.DataFrame(d)\n",
        "print(df.iloc[1:3])"
      ],
      "metadata": {
        "colab": {
          "base_uri": "https://localhost:8080/"
        },
        "id": "mqaBspTmrUaD",
        "outputId": "55b28434-faf7-404b-8334-7ca2267e0b77"
      },
      "execution_count": null,
      "outputs": [
        {
          "output_type": "stream",
          "name": "stdout",
          "text": [
            "   one  two     three\n",
            "b  1.0    1 -0.440362\n",
            "c  2.0    2 -0.354163\n"
          ]
        }
      ]
    },
    {
      "cell_type": "code",
      "source": [
        "d = {'one': pd.Series(range(6), index=list('abcdef')),\n",
        "    'two': pd.Series(range(7), index=list('abcdefg')),\n",
        "    'three': pd.Series(sps.norm.rvs(size=7), index=list('abcdefg'))}\n",
        "df = pd.DataFrame(d)\n",
        "print(df.iloc[1:3, 0:2])"
      ],
      "metadata": {
        "colab": {
          "base_uri": "https://localhost:8080/"
        },
        "id": "lXrwAAl-rZGj",
        "outputId": "fd64f7a7-6a0b-4247-e9ed-41dba462dc94"
      },
      "execution_count": null,
      "outputs": [
        {
          "output_type": "stream",
          "name": "stdout",
          "text": [
            "   one  two\n",
            "b  1.0    1\n",
            "c  2.0    2\n"
          ]
        }
      ]
    },
    {
      "cell_type": "markdown",
      "source": [
        "Булевская индексация — выбор строк с заданным условием"
      ],
      "metadata": {
        "id": "XhbZqTVwrd7N"
      }
    },
    {
      "cell_type": "code",
      "source": [
        "d = {'one': pd.Series(range(6), index=list('abcdef')),\n",
        "    'two': pd.Series(range(7), index=list('abcdefg')),\n",
        "    'three': pd.Series(sps.norm.rvs(size=7), index=list('abcdefg'))}\n",
        "df = pd.DataFrame(d)\n",
        "print(df[df.three > 0])"
      ],
      "metadata": {
        "colab": {
          "base_uri": "https://localhost:8080/"
        },
        "id": "U7SArc8hreLi",
        "outputId": "e84fdfad-33dc-43bd-9871-6a6a989fa260"
      },
      "execution_count": null,
      "outputs": [
        {
          "output_type": "stream",
          "name": "stdout",
          "text": [
            "   one  two     three\n",
            "a  0.0    0  0.327540\n",
            "b  1.0    1  0.726714\n",
            "d  3.0    3  0.074739\n",
            "f  5.0    5  0.223700\n"
          ]
        }
      ]
    },
    {
      "cell_type": "markdown",
      "source": [
        "**Упражнение. Сгенерируйте случайную целочисленную матрицу n×m,\n",
        "где n=20,m=10. Создайте из неё датафрейм, пронумеровав столбцы\n",
        "случайной перестановкой чисел из {1,…,m}. Выберите столбцы с чётными\n",
        "номерами и строки, в которых чётных элементов больше, чем нечётных.**"
      ],
      "metadata": {
        "id": "cJSdUAzgrp2l"
      }
    },
    {
      "cell_type": "code",
      "source": [
        "# создаем матрицу\n",
        "n, m = 20, 10\n",
        "data = sps.randint(low=-100, high=100).rvs(size=(n, m))\n",
        "cols = np.arange(1, m + 1)\n",
        "np.random.shuffle(cols)\n",
        "# создаем таблицу\n",
        "task_df = pd.DataFrame(data, columns=cols)\n",
        "# задаем условия для строк и столбцов\n",
        "col_mask = (cols % 2) == 0\n",
        "row_mask = np.sum(data % 2, axis=1) < (m / 2)\n",
        "# извлекаем данные по условию\n",
        "print(task_df.loc[row_mask, col_mask])"
      ],
      "metadata": {
        "colab": {
          "base_uri": "https://localhost:8080/"
        },
        "id": "79fr-P_Drra9",
        "outputId": "11115451-62d7-4ba8-81cf-f3c0c769d6f8"
      },
      "execution_count": null,
      "outputs": [
        {
          "output_type": "stream",
          "name": "stdout",
          "text": [
            "    10   2   8   6   4 \n",
            "2   40    4 -19  49  91\n",
            "3  -12   54 -95 -42  69\n",
            "6  -28   79  81  71 -10\n",
            "7  -38  -56 -85 -28 -85\n",
            "8   98  -43 -47  22 -51\n",
            "10 -34  -66  -6 -14  50\n",
            "13  64  -81   4  -8  14\n",
            "16 -55 -100 -85  94  63\n",
            "18 -38    2  68 -98 -46\n",
            "19 -97   75  20 -40 -74\n"
          ]
        }
      ]
    },
    {
      "cell_type": "markdown",
      "source": [
        "**2.3 Изменение таблиц**\n",
        "\n",
        "---\n",
        "\n",
        "К таблице можно добавлять новые столбцы."
      ],
      "metadata": {
        "id": "AD2Z7qeYr6Mf"
      }
    },
    {
      "cell_type": "code",
      "source": [
        "d = {'one': pd.Series(range(6), index=list('abcdef')),\n",
        "    'two': pd.Series(range(7), index=list('abcdefg')),\n",
        "    'three': pd.Series(sps.norm.rvs(size=7), index=list('abcdefg'))}\n",
        "df = pd.DataFrame(d)\n",
        "df['4th'] = df['one'] * df['two']\n",
        "df['flag'] = df['two'] > 2\n",
        "print(df)"
      ],
      "metadata": {
        "colab": {
          "base_uri": "https://localhost:8080/"
        },
        "id": "L8ZMnghmr-D_",
        "outputId": "11a08bfc-15a2-45b9-ac42-017fd1c1ba42"
      },
      "execution_count": null,
      "outputs": [
        {
          "output_type": "stream",
          "name": "stdout",
          "text": [
            "   one  two     three   4th   flag\n",
            "a  0.0    0 -1.374349   0.0  False\n",
            "b  1.0    1  0.350512   1.0  False\n",
            "c  2.0    2  0.519622   4.0  False\n",
            "d  3.0    3  1.303911   9.0   True\n",
            "e  4.0    4  1.798781  16.0   True\n",
            "f  5.0    5  0.196999  25.0   True\n",
            "g  NaN    6  0.671898   NaN   True\n"
          ]
        }
      ]
    },
    {
      "cell_type": "markdown",
      "source": [
        "И удалять имеющиеся."
      ],
      "metadata": {
        "id": "w8aaqAAKsIjf"
      }
    },
    {
      "cell_type": "code",
      "source": [
        "d = {'one': pd.Series(range(6), index=list('abcdef')),\n",
        "    'two': pd.Series(range(7), index=list('abcdefg')),\n",
        "    'three': pd.Series(sps.norm.rvs(size=7), index=list('abcdefg'))}\n",
        "df = pd.DataFrame(d)\n",
        "del df['two']\n",
        "df['foo'] = 0\n",
        "print(df)"
      ],
      "metadata": {
        "colab": {
          "base_uri": "https://localhost:8080/"
        },
        "id": "bKz4eFbBsI3g",
        "outputId": "04e050dd-ea16-4999-ce0d-3ee6811676ca"
      },
      "execution_count": null,
      "outputs": [
        {
          "output_type": "stream",
          "name": "stdout",
          "text": [
            "   one     three  foo\n",
            "a  0.0  1.046630    0\n",
            "b  1.0  0.738587    0\n",
            "c  2.0 -0.539826    0\n",
            "d  3.0  0.752763    0\n",
            "e  4.0 -0.221524    0\n",
            "f  5.0  0.215714    0\n",
            "g  NaN  0.300023    0\n"
          ]
        }
      ]
    },
    {
      "cell_type": "markdown",
      "source": [
        "Изменение элемента"
      ],
      "metadata": {
        "id": "6IEAtIrOsP1v"
      }
    },
    {
      "cell_type": "code",
      "source": [
        "d = {'one': pd.Series(range(6), index=list('abcdef')),\n",
        "    'two': pd.Series(range(7), index=list('abcdefg')),\n",
        "    'three': pd.Series(sps.norm.rvs(size=7), index=list('abcdefg'))}\n",
        "df = pd.DataFrame(d)\n",
        "\n",
        "df.iat[1, 0] = -1\n",
        "# Эквивалентные формы:\n",
        "# df['one']['b'] = -1  &lt;--  SettingWithCopyWarning\n",
        "# df.at['b', 'one'] = -1\n",
        "print(df)"
      ],
      "metadata": {
        "colab": {
          "base_uri": "https://localhost:8080/"
        },
        "id": "qKsECA5YsQlx",
        "outputId": "dd45a118-c2b2-4159-918e-4467a62347db"
      },
      "execution_count": null,
      "outputs": [
        {
          "output_type": "stream",
          "name": "stdout",
          "text": [
            "   one  two     three\n",
            "a  0.0    0  0.512051\n",
            "b -1.0    1  1.502147\n",
            "c  2.0    2 -0.617237\n",
            "d  3.0    3  2.038769\n",
            "e  4.0    4  0.774802\n",
            "f  5.0    5 -0.005632\n",
            "g  NaN    6 -1.531453\n"
          ]
        }
      ]
    },
    {
      "cell_type": "markdown",
      "source": [
        "Добавим копию столбца one, в которую входят только строки до\n",
        "третьей."
      ],
      "metadata": {
        "id": "BQTBK2oPsYFI"
      }
    },
    {
      "cell_type": "code",
      "source": [
        "d = {'one': pd.Series(range(6), index=list('abcdef')),\n",
        "    'two': pd.Series(range(7), index=list('abcdefg')),\n",
        "    'three': pd.Series(sps.norm.rvs(size=7), index=list('abcdefg'))}\n",
        "df = pd.DataFrame(d)\n",
        "\n",
        "df['one_tr'] = df['one'][:3]\n",
        "print(df)"
      ],
      "metadata": {
        "colab": {
          "base_uri": "https://localhost:8080/"
        },
        "id": "P3As6WQ2sZ_3",
        "outputId": "70f7b6a7-4377-4f88-d71b-d17c10b6f73a"
      },
      "execution_count": null,
      "outputs": [
        {
          "output_type": "stream",
          "name": "stdout",
          "text": [
            "   one  two     three  one_tr\n",
            "a  0.0    0 -0.172241     0.0\n",
            "b  1.0    1 -0.737988     1.0\n",
            "c  2.0    2  1.220977     2.0\n",
            "d  3.0    3 -0.702841     NaN\n",
            "e  4.0    4  3.954235     NaN\n",
            "f  5.0    5  0.098500     NaN\n",
            "g  NaN    6  0.636197     NaN\n"
          ]
        }
      ]
    },
    {
      "cell_type": "markdown",
      "source": [
        "**2.4 Пропуски**\n",
        "\n",
        "---\n",
        "Удаление всех строк с пропусками\n"
      ],
      "metadata": {
        "id": "9IIahVy3sk5t"
      }
    },
    {
      "cell_type": "code",
      "source": [
        "df = pd.DataFrame(d)\n",
        "print(df.dropna(how='any'))"
      ],
      "metadata": {
        "colab": {
          "base_uri": "https://localhost:8080/"
        },
        "id": "8LM8OdQIsnt5",
        "outputId": "204c1b6d-6676-43fb-e42f-493abd162021"
      },
      "execution_count": null,
      "outputs": [
        {
          "output_type": "stream",
          "name": "stdout",
          "text": [
            "   one  two     three\n",
            "a  0.0    0 -0.172241\n",
            "b  1.0    1 -0.737988\n",
            "c  2.0    2  1.220977\n",
            "d  3.0    3 -0.702841\n",
            "e  4.0    4  3.954235\n",
            "f  5.0    5  0.098500\n"
          ]
        }
      ]
    },
    {
      "cell_type": "markdown",
      "source": [
        "Замена всех пропусков на значение"
      ],
      "metadata": {
        "id": "frNyTuGVsvio"
      }
    },
    {
      "cell_type": "code",
      "source": [
        "df['4th'] = df['one'] * df['two']\n",
        "df['flag'] = df['two'] > 2\n",
        "del df['two']\n",
        "df['foo'] = 0\n",
        "df['one_tr'] = df['one'][:3]\n",
        "print(df.fillna(value=666))"
      ],
      "metadata": {
        "colab": {
          "base_uri": "https://localhost:8080/"
        },
        "id": "oJ_NlIS3svxD",
        "outputId": "2e3faca1-a293-46ed-b88e-b176fa54bb36"
      },
      "execution_count": null,
      "outputs": [
        {
          "output_type": "stream",
          "name": "stdout",
          "text": [
            "     one     three    4th   flag  foo  one_tr\n",
            "a    0.0 -0.172241    0.0  False    0     0.0\n",
            "b    1.0 -0.737988    1.0  False    0     1.0\n",
            "c    2.0  1.220977    4.0  False    0     2.0\n",
            "d    3.0 -0.702841    9.0   True    0   666.0\n",
            "e    4.0  3.954235   16.0   True    0   666.0\n",
            "f    5.0  0.098500   25.0   True    0   666.0\n",
            "g  666.0  0.636197  666.0   True    0   666.0\n"
          ]
        }
      ]
    },
    {
      "cell_type": "markdown",
      "source": [
        "Замена всех пропусков на среднее по столбцу"
      ],
      "metadata": {
        "id": "u68ECfpRs2_7"
      }
    },
    {
      "cell_type": "code",
      "source": [
        "d = {'one': pd.Series(range(6), index=list('abcdef')),\n",
        "    'two': pd.Series(range(7), index=list('abcdefg')),\n",
        "    'three': pd.Series(sps.norm.rvs(size=7), index=list('abcdefg'))}\n",
        "df = pd.DataFrame(d)\n",
        "\n",
        "df['4th'] = df['one'] * df['two']\n",
        "df['flag'] = df['two'] > 2\n",
        "del df['two']\n",
        "df['foo'] = 0\n",
        "df['one_tr'] = df['one'][:3]\n",
        "print(df.fillna(value=df.mean()))"
      ],
      "metadata": {
        "colab": {
          "base_uri": "https://localhost:8080/"
        },
        "id": "gl8IBS6Zs4BA",
        "outputId": "0006bc41-b915-4010-cf19-8e58f344beea"
      },
      "execution_count": null,
      "outputs": [
        {
          "output_type": "stream",
          "name": "stdout",
          "text": [
            "   one     three        4th   flag  foo  one_tr\n",
            "a  0.0 -1.676588   0.000000  False    0     0.0\n",
            "b  1.0  0.141889   1.000000  False    0     1.0\n",
            "c  2.0 -0.020991   4.000000  False    0     2.0\n",
            "d  3.0 -1.464945   9.000000   True    0     1.0\n",
            "e  4.0  2.142406  16.000000   True    0     1.0\n",
            "f  5.0 -0.184091  25.000000   True    0     1.0\n",
            "g  2.5  0.082168   9.166667   True    0     1.0\n"
          ]
        }
      ]
    },
    {
      "cell_type": "markdown",
      "source": [
        "Булевская маска пропущенных значений"
      ],
      "metadata": {
        "id": "UPCs_nottFEa"
      }
    },
    {
      "cell_type": "code",
      "source": [
        "d = {'one': pd.Series(range(6), index=list('abcdef')),\n",
        "    'two': pd.Series(range(7), index=list('abcdefg')),\n",
        "    'three': pd.Series(sps.norm.rvs(size=7), index=list('abcdefg'))}\n",
        "df = pd.DataFrame(d)\n",
        "\n",
        "df['4th'] = df['one'] * df['two']\n",
        "df['flag'] = df['two'] > 2\n",
        "del df['two']\n",
        "df['foo'] = 0\n",
        "df['one_tr'] = df['one'][:3]\n",
        "print(df.isnull())"
      ],
      "metadata": {
        "colab": {
          "base_uri": "https://localhost:8080/"
        },
        "id": "wo4TaQjrtFVa",
        "outputId": "50b9601f-98d9-4dda-82c9-4334068598ed"
      },
      "execution_count": null,
      "outputs": [
        {
          "output_type": "stream",
          "name": "stdout",
          "text": [
            "     one  three    4th   flag    foo  one_tr\n",
            "a  False  False  False  False  False   False\n",
            "b  False  False  False  False  False   False\n",
            "c  False  False  False  False  False   False\n",
            "d  False  False  False  False  False    True\n",
            "e  False  False  False  False  False    True\n",
            "f  False  False  False  False  False    True\n",
            "g   True  False   True  False  False    True\n"
          ]
        }
      ]
    },
    {
      "cell_type": "markdown",
      "source": [
        "**2.5 Простые операции**\n",
        "\n",
        "\n",
        "---\n",
        "\n",
        "Создадим таблицу из массива случайных чисел."
      ],
      "metadata": {
        "id": "0TusbP_atV-Z"
      }
    },
    {
      "cell_type": "code",
      "source": [
        "df = pd.DataFrame(sps.uniform.rvs(size=(10, 4)),\n",
        "                  columns=['A', 'B', 'C', 'D'])\n",
        "print(df)"
      ],
      "metadata": {
        "colab": {
          "base_uri": "https://localhost:8080/"
        },
        "id": "kUpFWd2mtaYR",
        "outputId": "9debf5af-01e8-4e52-ff7e-a3990aca77e7"
      },
      "execution_count": null,
      "outputs": [
        {
          "output_type": "stream",
          "name": "stdout",
          "text": [
            "          A         B         C         D\n",
            "0  0.143716  0.637156  0.587273  0.352569\n",
            "1  0.793227  0.393531  0.511801  0.875534\n",
            "2  0.788665  0.489358  0.760399  0.215792\n",
            "3  0.980588  0.910047  0.713112  0.296422\n",
            "4  0.600753  0.630819  0.660432  0.415773\n",
            "5  0.609418  0.038672  0.288798  0.160340\n",
            "6  0.609573  0.447438  0.921020  0.413679\n",
            "7  0.289600  0.834112  0.865893  0.766180\n",
            "8  0.672908  0.701716  0.167242  0.869704\n",
            "9  0.003248  0.471851  0.259476  0.271226\n"
          ]
        }
      ]
    },
    {
      "cell_type": "code",
      "source": [
        "df= pd.DataFrame(sps.uniform.rvs(size=(7, 3)),\n",
        "                  columns=['A', 'B', 'C'])\n",
        "print(df)"
      ],
      "metadata": {
        "colab": {
          "base_uri": "https://localhost:8080/"
        },
        "id": "TVEsMZb2gkfN",
        "outputId": "3dc1bd7c-3c2c-4e44-bfbc-92f97d1e4b2e"
      },
      "execution_count": null,
      "outputs": [
        {
          "output_type": "stream",
          "name": "stdout",
          "text": [
            "          A         B         C\n",
            "0  0.958705  0.055416  0.327993\n",
            "1  0.739340  0.612243  0.557674\n",
            "2  0.879065  0.542209  0.125602\n",
            "3  0.179086  0.385272  0.653002\n",
            "4  0.371834  0.144113  0.714288\n",
            "5  0.552940  0.742011  0.447608\n",
            "6  0.953693  0.821336  0.252532\n"
          ]
        }
      ]
    },
    {
      "cell_type": "code",
      "source": [
        "df1 = pd.DataFrame(sps.uniform.rvs(size=(10, 4)),\n",
        "                   columns=['A', 'B', 'C', 'D'])\n",
        "df2= pd.DataFrame(sps.uniform.rvs(size=(7, 3)),\n",
        "                   columns=['A', 'B', 'C'])\n",
        "print(df1+df2)"
      ],
      "metadata": {
        "colab": {
          "base_uri": "https://localhost:8080/"
        },
        "id": "2dXa6Cnhg_BW",
        "outputId": "db8b080a-f85a-4ffc-ee5b-817f23dfc101"
      },
      "execution_count": null,
      "outputs": [
        {
          "output_type": "stream",
          "name": "stdout",
          "text": [
            "          A         B         C   D\n",
            "0  1.472002  0.428865  0.495135 NaN\n",
            "1  1.497477  0.360102  1.567729 NaN\n",
            "2  0.923564  0.631957  0.795296 NaN\n",
            "3  0.977703  0.218260  1.157014 NaN\n",
            "4  1.142714  1.134364  1.581148 NaN\n",
            "5  0.898909  1.208600  0.857945 NaN\n",
            "6  0.894306  1.669993  0.685222 NaN\n",
            "7       NaN       NaN       NaN NaN\n",
            "8       NaN       NaN       NaN NaN\n",
            "9       NaN       NaN       NaN NaN\n"
          ]
        }
      ]
    },
    {
      "cell_type": "code",
      "source": [
        "df1 = pd.DataFrame(sps.uniform.rvs(size=(10, 4)),\n",
        "                   columns=['A', 'B', 'C', 'D'])\n",
        "print(2 * df1 + 3)"
      ],
      "metadata": {
        "colab": {
          "base_uri": "https://localhost:8080/"
        },
        "id": "AmgYUMyUhFSN",
        "outputId": "e8e400e4-adfc-4e4d-d26e-a00345dbf95f"
      },
      "execution_count": null,
      "outputs": [
        {
          "output_type": "stream",
          "name": "stdout",
          "text": [
            "          A         B         C         D\n",
            "0  4.576785  3.581735  3.279068  3.494773\n",
            "1  4.907078  3.285424  3.399379  3.837410\n",
            "2  3.204217  3.560506  3.567998  4.139544\n",
            "3  4.902562  3.904581  3.669397  3.245201\n",
            "4  3.913575  4.539854  4.561881  3.105063\n",
            "5  4.907133  4.916227  3.791486  3.014514\n",
            "6  3.647140  4.147086  3.209873  4.421287\n",
            "7  4.908981  4.710790  3.006050  4.432960\n",
            "8  3.341562  4.628535  4.710783  4.981507\n",
            "9  3.396132  3.955931  4.472407  4.967555\n"
          ]
        }
      ]
    },
    {
      "cell_type": "code",
      "source": [
        "df1 = pd.DataFrame(sps.uniform.rvs(size=(10, 4)),\n",
        "                   columns=['A', 'B', 'C', 'D'])\n",
        "print(np.sin(df1))"
      ],
      "metadata": {
        "colab": {
          "base_uri": "https://localhost:8080/"
        },
        "id": "rRGssnU7hJ6R",
        "outputId": "ecc846e6-61b2-4f4e-cfd3-bbac387fdbad"
      },
      "execution_count": null,
      "outputs": [
        {
          "output_type": "stream",
          "name": "stdout",
          "text": [
            "          A         B         C         D\n",
            "0  0.575966  0.240030  0.628530  0.177151\n",
            "1  0.778509  0.267557  0.574515  0.311088\n",
            "2  0.018896  0.131166  0.794721  0.252692\n",
            "3  0.751534  0.448326  0.428679  0.611673\n",
            "4  0.324521  0.673231  0.376622  0.286422\n",
            "5  0.793982  0.713742  0.145111  0.733493\n",
            "6  0.252393  0.352996  0.621468  0.519160\n",
            "7  0.661840  0.328383  0.561063  0.670076\n",
            "8  0.507691  0.233460  0.649372  0.712812\n",
            "9  0.565552  0.181091  0.260073  0.665836\n"
          ]
        }
      ]
    },
    {
      "cell_type": "markdown",
      "source": [
        "Построим графики кумулятивных сумм"
      ],
      "metadata": {
        "id": "5OzatKEnhO89"
      }
    },
    {
      "cell_type": "code",
      "source": [
        "df1 = pd.DataFrame(sps.uniform.rvs(size=(10, 4)),\n",
        "                   columns=['A', 'B', 'C', 'D'])\n",
        "cs = df1.cumsum()\n",
        "print(cs)"
      ],
      "metadata": {
        "colab": {
          "base_uri": "https://localhost:8080/"
        },
        "id": "s3721xExhPrb",
        "outputId": "528be657-a76d-4833-95e8-69f64ed4e83b"
      },
      "execution_count": null,
      "outputs": [
        {
          "output_type": "stream",
          "name": "stdout",
          "text": [
            "          A         B         C         D\n",
            "0  0.637172  0.076690  0.630208  0.326450\n",
            "1  1.350551  0.923883  1.095767  1.109764\n",
            "2  2.057679  1.394044  1.294802  1.864636\n",
            "3  2.836423  1.839160  2.177640  2.712332\n",
            "4  3.588194  2.611052  2.925098  3.680386\n",
            "5  3.589833  3.337210  3.922123  4.418450\n",
            "6  4.335965  3.568606  4.357149  4.630179\n",
            "7  4.818789  4.378354  4.693855  5.291746\n",
            "8  5.481098  4.519038  5.557979  6.166859\n",
            "9  6.327263  5.503024  5.861613  6.590855\n"
          ]
        }
      ]
    },
    {
      "cell_type": "markdown",
      "source": [
        "График"
      ],
      "metadata": {
        "id": "EGPvZPnBhWLR"
      }
    },
    {
      "cell_type": "code",
      "source": [
        "import matplotlib.pyplot as plt\n",
        "df1 = pd.DataFrame(sps.uniform.rvs(size=(10, 4)),\n",
        "                   columns=['A', 'B', 'C', 'D'])\n",
        "cs = df1.cumsum()\n",
        "\n",
        "cs.plot()\n",
        "plt.show()"
      ],
      "metadata": {
        "colab": {
          "base_uri": "https://localhost:8080/",
          "height": 265
        },
        "id": "jfB2j_CFhcb0",
        "outputId": "6b4bdaa9-1f95-4607-8318-80c5aac14eec"
      },
      "execution_count": null,
      "outputs": [
        {
          "output_type": "display_data",
          "data": {
            "text/plain": [
              "<Figure size 432x288 with 1 Axes>"
            ],
            "image/png": "[encoded data removed]"
          },
          "metadata": {
            "needs_background": "light"
          }
        }
      ]
    },
    {
      "cell_type": "markdown",
      "source": [
        "Упражнение. Сгенерируйте случайную выборку  для  из стандартного\n",
        "нормального распределения, соберите из неё pd.DataFrame, замените\n",
        "случайные 10% элементов на пропуски (np.nan), а затем добавьте по столбцу\n",
        "для оценок первых 4 моментов кумулятивно —\n",
        "\n",
        "Ваша функция должна корректно обрабатывать пропуски. В конце\n",
        "постройте график."
      ],
      "metadata": {
        "id": "B68RbKg-hkC9"
      }
    },
    {
      "cell_type": "code",
      "source": [
        "n = 100\n",
        "sample = sps.norm.rvs(size=n)\n",
        "print(sample)\n",
        "# создаем пропуски\n",
        "index = np.random.choice(np.arange(n), int(0.1 * n), replace=True)\n",
        "sample[index] = np.nan\n",
        "# заводим dataframe\n",
        "sample_df = pd.DataFrame(sample, columns=['Выборка'])\n",
        "\n",
        "for k in range(1, 5):\n",
        "    sample_df['{}-й выборочный момент'.format(k)] = (sample_df['Выборка'] ** k).expanding().apply(np.nanmean)\n",
        "\n",
        "sample_df.plot(figsize=(10, 5));\n",
        "plt.show()"
      ],
      "metadata": {
        "colab": {
          "base_uri": "https://localhost:8080/",
          "height": 615
        },
        "id": "JigpDhdWhmUw",
        "outputId": "c82961af-14ed-4acf-e089-2ee67678b201"
      },
      "execution_count": null,
      "outputs": [
        {
          "output_type": "stream",
          "name": "stdout",
          "text": [
            "[ 0.48138466  0.13753597 -1.67685633  1.5739555  -1.95155136 -0.40233845\n",
            "  0.17051019  0.53969946  0.62672318  0.3404811   0.37144169 -1.3007748\n",
            "  0.1854018  -0.01404939  0.13605505  0.59739112  1.60324822 -0.76080574\n",
            " -0.94919209 -0.82316831 -1.53258988  1.41163105 -0.94482871  0.55049108\n",
            "  0.89658037  0.18271572 -0.66815581 -1.73457078 -1.12553053  0.941605\n",
            "  0.54893277  0.062523   -1.87039931  0.91567778  1.82174251 -0.01562098\n",
            " -0.3385938  -1.56722721 -0.35068197  0.71976892  1.02169424  0.46084554\n",
            " -0.06794609 -0.6737765   1.39251513 -0.03242415  2.20915932 -0.77384326\n",
            " -1.52991805  0.61927452  0.62529389 -1.03721096  0.90968144 -1.95519515\n",
            "  0.0511015  -1.0737704  -1.23294791 -0.62161091 -0.99432999  1.28026622\n",
            "  0.40580997  0.43764726  0.40089474 -0.82923798  0.69780589  0.14320928\n",
            "  0.20414582 -0.31879353  0.55189323  0.71581722  1.7357911  -0.04626107\n",
            " -0.13323057  0.72490696  1.22502772  0.08997402  0.50514283  1.01336832\n",
            "  0.88266782  0.53095779  0.29687691  0.47812402  0.90848527 -0.79137502\n",
            "  0.11331458 -0.0866146  -2.02734699  1.43303375  0.56802471 -0.8385069\n",
            "  0.57718627 -0.22954512  0.79401619 -0.14483485 -0.30326017  0.64500814\n",
            " -0.46340744 -0.55433356 -0.23292298  0.67763997]\n"
          ]
        },
        {
          "output_type": "display_data",
          "data": {
            "text/plain": [
              "<Figure size 720x360 with 1 Axes>"
            ],
            "image/png": "[encoded data removed]"
          },
          "metadata": {
            "needs_background": "light"
          }
        }
      ]
    },
    {
      "cell_type": "markdown",
      "source": [
        "**5. Интервалы времени**\n",
        "\n",
        "\n",
        "---\n",
        "Интервал времени задается объектом pd.Timedelta\n",
        "Возможные обозначения интервалов: 'Y', 'M', 'W', 'D', 'days', 'day', 'hours', hour',\n",
        "'hr', 'h', 'm', 'minute', 'min', 'minutes', 'T', 'S', 'seconds', 'sec', 'second', 'ms',\n",
        "\n",
        "'milliseconds', 'millisecond', 'milli', 'millis', 'L', 'us', 'microseconds', 'microsecond',\n",
        "'micro', 'micros', 'U', 'ns', 'nanoseconds', 'nano', 'nanos', 'nanosecond', 'N'\n",
        "Например, интервал времени в 5 недель 6 дней 5 часов 37 минут 23 секунды\n",
        "12 милисекунд:\n"
      ],
      "metadata": {
        "id": "3DHKOBPYh4SZ"
      }
    },
    {
      "cell_type": "code",
      "source": [
        "print(pd.Timedelta('5W 6 days 5hr 37min 23sec 12ms'))"
      ],
      "metadata": {
        "colab": {
          "base_uri": "https://localhost:8080/"
        },
        "id": "GtJiSl_uh8fc",
        "outputId": "3c74c72b-0a05-4a1a-e9d2-c3b98e4c3527"
      },
      "execution_count": null,
      "outputs": [
        {
          "output_type": "stream",
          "name": "stdout",
          "text": [
            "41 days 05:37:23.012000\n"
          ]
        }
      ]
    },
    {
      "cell_type": "code",
      "source": [
        "print(pd.Timedelta('1Y'), pd.Timedelta('1M'))"
      ],
      "metadata": {
        "colab": {
          "base_uri": "https://localhost:8080/"
        },
        "id": "Akcd_zS1iRGn",
        "outputId": "828ad4b0-a833-4a3b-aadf-a58bc49afc29"
      },
      "execution_count": null,
      "outputs": [
        {
          "output_type": "stream",
          "name": "stdout",
          "text": [
            "365 days 05:49:12 0 days 00:01:00\n"
          ]
        },
        {
          "output_type": "stream",
          "name": "stderr",
          "text": [
            "/usr/local/lib/python3.7/dist-packages/IPython/core/interactiveshell.py:3326: FutureWarning: Units 'M', 'Y' and 'y' do not represent unambiguous timedelta values and will be removed in a future version\n",
            "  exec(code_obj, self.user_global_ns, self.user_ns)\n"
          ]
        }
      ]
    },
    {
      "cell_type": "markdown",
      "source": [
        "Символ Y обозначает год. Он сделан таким из-за високосных годов.\n",
        "Поскольку месяцы разной длины, то их вообще нельзя здесь задать.\n",
        "Поэтому M обозначает минуты.\n",
        "Интервал можно добавить к какой-нибудь дате, или вычесть из нее."
      ],
      "metadata": {
        "id": "XX10Q4j0iUY1"
      }
    },
    {
      "cell_type": "code",
      "source": [
        "print(pd.to_datetime('2022.09.18 18:30') + pd.Timedelta('8hr 37min 23sec 12ms'))"
      ],
      "metadata": {
        "colab": {
          "base_uri": "https://localhost:8080/"
        },
        "id": "MMcvbYINiVe8",
        "outputId": "f73b0717-4790-47f4-f5e9-8301ce56ab99"
      },
      "execution_count": null,
      "outputs": [
        {
          "output_type": "stream",
          "name": "stdout",
          "text": [
            "2022-09-19 03:07:23.012000\n"
          ]
        }
      ]
    },
    {
      "cell_type": "code",
      "source": [
        "print(pd.to_datetime('2022.09.18 18:30') - pd.Timedelta('20hr 50min 23sec 12ms'))"
      ],
      "metadata": {
        "colab": {
          "base_uri": "https://localhost:8080/"
        },
        "id": "GK4N7wWBifQP",
        "outputId": "f6606b6c-2dc6-499b-b888-39041b4c7ef8"
      },
      "execution_count": null,
      "outputs": [
        {
          "output_type": "stream",
          "name": "stdout",
          "text": [
            "2022-09-17 21:39:36.988000\n"
          ]
        }
      ]
    },
    {
      "cell_type": "markdown",
      "source": [
        "Сделать регулярный список дат позволяет функция pd.timedelta_range,\n",
        "которая реализует функционал range для дат. Ей нужно передать ровно три\n",
        "аргумента из следующих четырех:\n",
        "\n",
        "✔ start — интервал начала отчета;\n",
        "\n",
        "✔ end — интервал окончания отчета;\n",
        "\n",
        "✔ periods — количество интервалов;\n",
        "\n",
        "✔ freq — частота отсчета.\n",
        "\n",
        "**Пример.** Врач на протяжении дня измеряет пациенту температуру каждые\n",
        "3 часа в течение 2 недель. Также пациенту необходимо спать с 11 вечера до 7\n",
        "утра. Каждый день измерения температуры начинаются в 8 часов. Первое\n",
        "измерение 22 марта 2020 года. Определите моменты времени, когда нужно\n",
        "измерить пациенту температуру."
      ],
      "metadata": {
        "id": "2Bcjvi7DijQn"
      }
    },
    {
      "cell_type": "code",
      "source": [
        "periods = pd.timedelta_range(start='8H', freq='3H', end='23H')\n",
        "print(periods)"
      ],
      "metadata": {
        "colab": {
          "base_uri": "https://localhost:8080/"
        },
        "id": "WeO6nERVipOV",
        "outputId": "b1bc00c9-452b-42b8-d7d3-ca27ec09c564"
      },
      "execution_count": null,
      "outputs": [
        {
          "output_type": "stream",
          "name": "stdout",
          "text": [
            "TimedeltaIndex(['0 days 08:00:00', '0 days 11:00:00', '0 days 14:00:00',\n",
            "                '0 days 17:00:00', '0 days 20:00:00', '0 days 23:00:00'],\n",
            "               dtype='timedelta64[ns]', freq='3H')\n"
          ]
        }
      ]
    },
    {
      "cell_type": "code",
      "source": [
        "dates = pd.to_datetime('2022.03.22') + pd.timedelta_range(start=0, freq='1D', end='2W')\n",
        "print(dates)"
      ],
      "metadata": {
        "colab": {
          "base_uri": "https://localhost:8080/"
        },
        "id": "wznikZ3viscu",
        "outputId": "9f56f99a-f372-4cae-b9aa-a06d852037cc"
      },
      "execution_count": null,
      "outputs": [
        {
          "output_type": "stream",
          "name": "stdout",
          "text": [
            "DatetimeIndex(['2022-03-22', '2022-03-23', '2022-03-24', '2022-03-25',\n",
            "               '2022-03-26', '2022-03-27', '2022-03-28', '2022-03-29',\n",
            "               '2022-03-30', '2022-03-31', '2022-04-01', '2022-04-02',\n",
            "               '2022-04-03', '2022-04-04', '2022-04-05'],\n",
            "              dtype='datetime64[ns]', freq='D')\n"
          ]
        }
      ]
    },
    {
      "cell_type": "code",
      "source": [
        "# Периоды измерения температуры днем\n",
        "periods = pd.timedelta_range(start='8H', freq='3H', end='23H')\n",
        "# Даты измерний температуры\n",
        "dates = pd.to_datetime('2022.03.22') + pd.timedelta_range(start=0, freq='1D', end='2W')\n",
        "# Время измерния температуры\n",
        "n, m = len(dates), len(periods)\n",
        "dates_new = dates.repeat(m)\n",
        "periods_new = pd.to_timedelta(np.tile(periods, n))\n",
        "time = dates_new + periods_new\n",
        "print(time)"
      ],
      "metadata": {
        "colab": {
          "base_uri": "https://localhost:8080/"
        },
        "id": "aDE5t6YXiyJC",
        "outputId": "413f06d0-ab69-42a6-e6ca-091d2b8ffe7e"
      },
      "execution_count": null,
      "outputs": [
        {
          "output_type": "stream",
          "name": "stdout",
          "text": [
            "DatetimeIndex(['2022-03-22 08:00:00', '2022-03-22 11:00:00',\n",
            "               '2022-03-22 14:00:00', '2022-03-22 17:00:00',\n",
            "               '2022-03-22 20:00:00', '2022-03-22 23:00:00',\n",
            "               '2022-03-23 08:00:00', '2022-03-23 11:00:00',\n",
            "               '2022-03-23 14:00:00', '2022-03-23 17:00:00',\n",
            "               '2022-03-23 20:00:00', '2022-03-23 23:00:00',\n",
            "               '2022-03-24 08:00:00', '2022-03-24 11:00:00',\n",
            "               '2022-03-24 14:00:00', '2022-03-24 17:00:00',\n",
            "               '2022-03-24 20:00:00', '2022-03-24 23:00:00',\n",
            "               '2022-03-25 08:00:00', '2022-03-25 11:00:00',\n",
            "               '2022-03-25 14:00:00', '2022-03-25 17:00:00',\n",
            "               '2022-03-25 20:00:00', '2022-03-25 23:00:00',\n",
            "               '2022-03-26 08:00:00', '2022-03-26 11:00:00',\n",
            "               '2022-03-26 14:00:00', '2022-03-26 17:00:00',\n",
            "               '2022-03-26 20:00:00', '2022-03-26 23:00:00',\n",
            "               '2022-03-27 08:00:00', '2022-03-27 11:00:00',\n",
            "               '2022-03-27 14:00:00', '2022-03-27 17:00:00',\n",
            "               '2022-03-27 20:00:00', '2022-03-27 23:00:00',\n",
            "               '2022-03-28 08:00:00', '2022-03-28 11:00:00',\n",
            "               '2022-03-28 14:00:00', '2022-03-28 17:00:00',\n",
            "               '2022-03-28 20:00:00', '2022-03-28 23:00:00',\n",
            "               '2022-03-29 08:00:00', '2022-03-29 11:00:00',\n",
            "               '2022-03-29 14:00:00', '2022-03-29 17:00:00',\n",
            "               '2022-03-29 20:00:00', '2022-03-29 23:00:00',\n",
            "               '2022-03-30 08:00:00', '2022-03-30 11:00:00',\n",
            "               '2022-03-30 14:00:00', '2022-03-30 17:00:00',\n",
            "               '2022-03-30 20:00:00', '2022-03-30 23:00:00',\n",
            "               '2022-03-31 08:00:00', '2022-03-31 11:00:00',\n",
            "               '2022-03-31 14:00:00', '2022-03-31 17:00:00',\n",
            "               '2022-03-31 20:00:00', '2022-03-31 23:00:00',\n",
            "               '2022-04-01 08:00:00', '2022-04-01 11:00:00',\n",
            "               '2022-04-01 14:00:00', '2022-04-01 17:00:00',\n",
            "               '2022-04-01 20:00:00', '2022-04-01 23:00:00',\n",
            "               '2022-04-02 08:00:00', '2022-04-02 11:00:00',\n",
            "               '2022-04-02 14:00:00', '2022-04-02 17:00:00',\n",
            "               '2022-04-02 20:00:00', '2022-04-02 23:00:00',\n",
            "               '2022-04-03 08:00:00', '2022-04-03 11:00:00',\n",
            "               '2022-04-03 14:00:00', '2022-04-03 17:00:00',\n",
            "               '2022-04-03 20:00:00', '2022-04-03 23:00:00',\n",
            "               '2022-04-04 08:00:00', '2022-04-04 11:00:00',\n",
            "               '2022-04-04 14:00:00', '2022-04-04 17:00:00',\n",
            "               '2022-04-04 20:00:00', '2022-04-04 23:00:00',\n",
            "               '2022-04-05 08:00:00', '2022-04-05 11:00:00',\n",
            "               '2022-04-05 14:00:00', '2022-04-05 17:00:00',\n",
            "               '2022-04-05 20:00:00', '2022-04-05 23:00:00'],\n",
            "              dtype='datetime64[ns]', freq=None)\n"
          ]
        }
      ]
    },
    {
      "cell_type": "markdown",
      "source": [
        "**Группировка и агрегирование в pandas**\n",
        "\n",
        "\n",
        "---\n",
        "\n",
        "Группировка данных один из самых часто используемых методов при\n",
        "анализе данных. В pandas за группировку отвечает метод .groupby. Я долго\n",
        "думал какой пример будет наиболее наглядным, чтобы продемонстрировать\n",
        "группировку, решил взять стандартный набор данных (dataset),\n",
        "использующийся во всех курсах про анализ данных — данные о пассажирах\n",
        "Титаника. Скачать CSV файл можно из [10]."
      ],
      "metadata": {
        "id": "Rso2fvkVi3Pp"
      }
    },
    {
      "cell_type": "code",
      "source": [
        "titanic_df = pd.read_csv('titanic.csv')\n",
        "print(titanic_df.head())"
      ],
      "metadata": {
        "colab": {
          "base_uri": "https://localhost:8080/"
        },
        "id": "1iQMYe3ojEyb",
        "outputId": "5e445bbc-6a4f-47fa-c635-a83567724988"
      },
      "execution_count": null,
      "outputs": [
        {
          "output_type": "stream",
          "name": "stdout",
          "text": [
            "   PassengerID                                           Name PClass    Age  \\\n",
            "0            1                   Allen, Miss Elisabeth Walton    1st  29.00   \n",
            "1            2                    Allison, Miss Helen Loraine    1st   2.00   \n",
            "2            3            Allison, Mr Hudson Joshua Creighton    1st  30.00   \n",
            "3            4  Allison, Mrs Hudson JC (Bessie Waldo Daniels)    1st  25.00   \n",
            "4            5                  Allison, Master Hudson Trevor    1st   0.92   \n",
            "\n",
            "      Sex  Survived  SexCode  \n",
            "0  female         1        1  \n",
            "1  female         0        1  \n",
            "2    male         0        0  \n",
            "3  female         0        1  \n",
            "4    male         1        0  \n"
          ]
        }
      ]
    },
    {
      "cell_type": "markdown",
      "source": [
        "Необходимо подсчитать, сколько женщин и мужчин выжило, а сколько\n",
        "нет. В этом нам поможет метод .groupby."
      ],
      "metadata": {
        "id": "6-PZ-0v8jI_2"
      }
    },
    {
      "cell_type": "code",
      "source": [
        "titanic_df = pd.read_csv('titanic.csv')\n",
        "print(titanic_df.groupby(['Sex', 'Survived'])['PassengerID'].count())"
      ],
      "metadata": {
        "colab": {
          "base_uri": "https://localhost:8080/"
        },
        "id": "FgkcNtogjKnE",
        "outputId": "7ff22b2e-c87a-4f13-a051-8c4929f38c6c"
      },
      "execution_count": null,
      "outputs": [
        {
          "output_type": "stream",
          "name": "stdout",
          "text": [
            "Sex     Survived\n",
            "female  0           154\n",
            "        1           308\n",
            "male    0           709\n",
            "        1           142\n",
            "Name: PassengerID, dtype: int64\n"
          ]
        }
      ]
    },
    {
      "cell_type": "markdown",
      "source": [
        "А теперь проанализируем в разрезе класса кабины:"
      ],
      "metadata": {
        "id": "Uu00ku_sjNW2"
      }
    },
    {
      "cell_type": "code",
      "source": [
        "titanic_df = pd.read_csv('titanic.csv')\n",
        "print(titanic_df.groupby(['PClass', 'Survived'])['PassengerID'].count())"
      ],
      "metadata": {
        "colab": {
          "base_uri": "https://localhost:8080/"
        },
        "id": "wa_XMJzOjOEx",
        "outputId": "617abfa9-9a8d-4675-d1f6-7257bddbdab9"
      },
      "execution_count": null,
      "outputs": [
        {
          "output_type": "stream",
          "name": "stdout",
          "text": [
            "PClass  Survived\n",
            "*       0             1\n",
            "1st     0           129\n",
            "        1           193\n",
            "2nd     0           160\n",
            "        1           119\n",
            "3rd     0           573\n",
            "        1           138\n",
            "Name: PassengerID, dtype: int64\n"
          ]
        }
      ]
    },
    {
      "cell_type": "markdown",
      "source": [
        "**Сводные таблицы в pandas**\n",
        "\n",
        "\n",
        "---\n",
        "Термин &quot;сводная таблица&quot; хорошо известен тем, кто не по наслышке\n",
        "знаком с инструментом Microsoft Excel или любым иным,\n",
        "предназначенным для обработки и анализа данных. В pandas сводные\n",
        "таблицы строятся через метод .pivot_table. За основу возьмём всё тот же\n",
        "пример с Титаником. Например, перед нами стоит задача посчитать сколько\n",
        "всего женщин и мужчин было в конкретном классе корабля:\n"
      ],
      "metadata": {
        "id": "0Gi4P2MQjQY-"
      }
    },
    {
      "cell_type": "code",
      "source": [
        "titanic_df = pd.read_csv('titanic.csv')\n",
        "pvt = titanic_df.pivot_table(index=['Sex'],\n",
        "columns=['PClass'], values='Name',\n",
        "aggfunc='count')\n",
        "print(pvt)"
      ],
      "metadata": {
        "colab": {
          "base_uri": "https://localhost:8080/"
        },
        "id": "dT6JFFFljX4L",
        "outputId": "f636e49a-1b70-4eb3-af10-51d8ac0e3ed7"
      },
      "execution_count": null,
      "outputs": [
        {
          "output_type": "stream",
          "name": "stdout",
          "text": [
            "PClass    *    1st    2nd    3rd\n",
            "Sex                             \n",
            "female  NaN  143.0  107.0  212.0\n",
            "male    1.0  179.0  172.0  499.0\n"
          ]
        }
      ]
    },
    {
      "cell_type": "markdown",
      "source": [
        "В качестве индекса теперь у нас будет пол человека, колонками станут\n",
        "значения из PClass, функцией агрегирования будет count (подсчёт количества\n",
        "записей) по колонке Name."
      ],
      "metadata": {
        "id": "WGJkKQMUjhAG"
      }
    },
    {
      "cell_type": "code",
      "source": [
        "titanic_df = pd.read_csv('titanic.csv')\n",
        "pvt = titanic_df.pivot_table(index=['Sex'], columns=['PClass'], values='Name',\n",
        "aggfunc='count')\n",
        "print(pvt.loc['female', ['1st', '2nd', '3rd']])"
      ],
      "metadata": {
        "colab": {
          "base_uri": "https://localhost:8080/"
        },
        "id": "hL0MwDqmjiRe",
        "outputId": "7706ae2f-fe60-4213-e477-50a07ff0e58e"
      },
      "execution_count": null,
      "outputs": [
        {
          "output_type": "stream",
          "name": "stdout",
          "text": [
            "PClass\n",
            "1st    143.0\n",
            "2nd    107.0\n",
            "3rd    212.0\n",
            "Name: female, dtype: float64\n"
          ]
        }
      ]
    },
    {
      "cell_type": "markdown",
      "source": [
        "**Анализ временных рядов**\n",
        "\n",
        "\n",
        "---\n",
        "\n",
        "В pandas очень удобно анализировать временные ряды. В качестве\n",
        "показательного примера я буду использовать цену на акции корпорации\n",
        "Apple за 5 лет по дням. Файл с данными можно скачать из [11]."
      ],
      "metadata": {
        "id": "wvpqKyKDjkvh"
      }
    },
    {
      "cell_type": "code",
      "source": [
        "df = pd.read_csv('apple.csv', index_col='Date', parse_dates=True)\n",
        "df = df.sort_index()\n",
        "print(df.info())"
      ],
      "metadata": {
        "colab": {
          "base_uri": "https://localhost:8080/"
        },
        "id": "tGWd9dYLjtDw",
        "outputId": "8504cc29-898d-4dd7-fc87-bbd9a847c490"
      },
      "execution_count": null,
      "outputs": [
        {
          "output_type": "stream",
          "name": "stdout",
          "text": [
            "<class 'pandas.core.frame.DataFrame'>\n",
            "DatetimeIndex: 1258 entries, 2012-02-23 to 2017-02-22\n",
            "Data columns (total 6 columns):\n",
            " #   Column     Non-Null Count  Dtype  \n",
            "---  ------     --------------  -----  \n",
            " 0   Open       1258 non-null   float64\n",
            " 1   High       1258 non-null   float64\n",
            " 2   Low        1258 non-null   float64\n",
            " 3   Close      1258 non-null   float64\n",
            " 4   Volume     1258 non-null   int64  \n",
            " 5   Adj Close  1258 non-null   float64\n",
            "dtypes: float64(5), int64(1)\n",
            "memory usage: 68.8 KB\n",
            "None\n"
          ]
        }
      ]
    },
    {
      "cell_type": "markdown",
      "source": [
        "Здесь мы формируем DataFrame с DatetimeIndex по колонке Date и\n",
        "сортируем новый индекс в правильном порядке для работы с выборками.\n",
        "Если колонка имеет формат даты и времени отличный от ISO8601, то для\n",
        "правильного перевода строки в нужный тип, можно использовать\n",
        "метод pandas.to_datetime.\n",
        "Давайте теперь узнаем среднюю цену акции (mean) на закрытии\n",
        "(Close):"
      ],
      "metadata": {
        "id": "wPWsvpp5jyap"
      }
    },
    {
      "cell_type": "code",
      "source": [
        "df = pd.read_csv('apple.csv', index_col='Date', parse_dates=True)\n",
        "df = df.sort_index()\n",
        "print(df.loc['2012-Feb', 'Close'].mean())"
      ],
      "metadata": {
        "colab": {
          "base_uri": "https://localhost:8080/"
        },
        "id": "F3KO9p7Qj0J_",
        "outputId": "01a8636c-2b13-475a-92df-6ac883927a98"
      },
      "execution_count": null,
      "outputs": [
        {
          "output_type": "stream",
          "name": "stdout",
          "text": [
            "528.4820022\n"
          ]
        }
      ]
    },
    {
      "cell_type": "markdown",
      "source": [
        "А если взять промежуток с февраля 2012 по февраль 2022 и посчитать\n",
        "среднее:"
      ],
      "metadata": {
        "id": "Fr1A-Rtkj3OA"
      }
    },
    {
      "cell_type": "code",
      "source": [
        "df = pd.read_csv('apple.csv', index_col='Date', parse_dates=True)\n",
        "df = df.sort_index()\n",
        "print(df.loc['2012-Feb':'2022-Feb', 'Close'].mean())"
      ],
      "metadata": {
        "colab": {
          "base_uri": "https://localhost:8080/"
        },
        "id": "v17M4Rbej3vA",
        "outputId": "b93f15b4-5519-4ec8-c4b1-207b38abfdb3"
      },
      "execution_count": null,
      "outputs": [
        {
          "output_type": "stream",
          "name": "stdout",
          "text": [
            "304.1910888235294\n"
          ]
        }
      ]
    },
    {
      "cell_type": "markdown",
      "source": [
        "А что если нам нужно узнать среднюю цену закрытия по неделям?!"
      ],
      "metadata": {
        "id": "V22XNk4Lj6nF"
      }
    },
    {
      "cell_type": "code",
      "source": [
        "df = pd.read_csv('apple.csv', index_col='Date', parse_dates=True)\n",
        "\n",
        "df = df.sort_index()\n",
        "print(df.resample('W')['Close'].mean())"
      ],
      "metadata": {
        "colab": {
          "base_uri": "https://localhost:8080/"
        },
        "id": "_i6Tl6g2j7QO",
        "outputId": "89810ed7-706f-480e-e0d0-c069fceab5d2"
      },
      "execution_count": null,
      "outputs": [
        {
          "output_type": "stream",
          "name": "stdout",
          "text": [
            "Date\n",
            "2012-02-26    519.399979\n",
            "2012-03-04    538.652008\n",
            "2012-03-11    536.254004\n",
            "2012-03-18    576.161993\n",
            "2012-03-25    600.990001\n",
            "                 ...    \n",
            "2017-01-29    121.164000\n",
            "2017-02-05    125.867999\n",
            "2017-02-12    131.679996\n",
            "2017-02-19    134.978000\n",
            "2017-02-26    136.904999\n",
            "Freq: W-SUN, Name: Close, Length: 262, dtype: float64\n"
          ]
        }
      ]
    },
    {
      "cell_type": "markdown",
      "source": [
        "Resampling мощный инструмент при работе с временными рядами (time\n",
        "series), помогающий переформировать выборку так, как удобно вам. Метод\n",
        "resample первым аргументом принимает строку rule. Все доступные значения\n",
        "можно найти в документации[12]."
      ],
      "metadata": {
        "id": "zM157Ikjj-CL"
      }
    },
    {
      "cell_type": "markdown",
      "source": [
        "**Визуализация данных в pandas**\n",
        "\n",
        "\n",
        "---\n",
        "\n",
        "\n",
        "Для визуального анализа данных, pandas использует библиотеку\n",
        "matplotlib. Продемонстрирую простейший способ визуализации в pandas на\n",
        "примере с акциями Apple.\n",
        "Берём цену закрытия в промежутке между 2012 и 2017."
      ],
      "metadata": {
        "id": "Hefh_-Wmj_sJ"
      }
    },
    {
      "cell_type": "code",
      "source": [
        "df = pd.read_csv('apple.csv', index_col='Date', parse_dates=True)\n",
        "new_sample_df = df.loc['2012-Feb':'2017-Feb', ['Close']]\n",
        "new_sample_df.plot()\n",
        "plt.show()"
      ],
      "metadata": {
        "colab": {
          "base_uri": "https://localhost:8080/",
          "height": 269
        },
        "id": "pUDZKHB1kEPq",
        "outputId": "ff33cf37-41e4-4b86-930c-f5512bb171e5"
      },
      "execution_count": null,
      "outputs": [
        {
          "output_type": "display_data",
          "data": {
            "text/plain": [
              "<Figure size 432x288 with 1 Axes>"
            ],
            "image/png": "[encoded data removed]"
          },
          "metadata": {
            "needs_background": "light"
          }
        }
      ]
    },
    {
      "cell_type": "markdown",
      "source": [
        "По оси X, если не задано явно, всегда будет индекс. По оси Y в нашем\n",
        "случае цена закрытия. Если внимательно посмотреть, то в 2014 году цена на\n",
        "акцию резко упала, это событие было связано с тем, что Apple проводила\n",
        "сплит 7 к 1. Так мало кода и уже более-менее наглядный анализ ;)\n",
        "Эта заметка демонстрирует лишь малую часть возможностей\n",
        "pandas. Со своей стороны я постараюсь по мере своих сил обновлять и\n",
        "дополнять её.\n",
        "Кроме этого, в Pandas есть другие виды графиков:\n",
        "\n",
        "**✔ distplot** — это график, который визуализирует гистограммы, то есть\n",
        "распределяет данные по столбцам. Каждому столбцу соответствует\n",
        "доля количества объектов в данной группе. Также distplot показывает\n",
        "плотность распределения — плавный линейный график, в котором\n",
        "самая высокая точка указывает на наибольшее количество объектов.\n",
        "\n",
        "Кроме этого, в Pandas есть другие виды графиков:\n",
        "\n",
        "**✔ kdeplot** — график плотности распределения, который останется, если\n",
        "убрать гистограммы из distplot;\n",
        "\n",
        "**✔ jointplot** — график, показывающий распределение данных между двумя\n",
        "переменными. Каждая строка из набора данных в исходном файле\n",
        "отображается на графике как точка внутри системы координат. У точек\n",
        "на графике jointplot будет два заданных значения: одно по оси X,\n",
        "другое по оси Y.\n",
        "\n",
        "Например, можно отследить взаимосвязь между тем, сколько минут\n",
        "посетитель проводит в торговом центре и сколько магазинов успевает\n",
        "посетить за это время: кто-то за 30 минут успеет зайти в 5 бутиков, а кто-то\n",
        "обойдет 16. При этом каждый посетитель на графике будет отображаться\n",
        "отдельной точкой."
      ],
      "metadata": {
        "id": "84QjlnxzkIa1"
      }
    }
  ]
}